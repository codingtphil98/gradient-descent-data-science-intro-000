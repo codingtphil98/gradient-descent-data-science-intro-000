{
 "cells": [
  {
   "cell_type": "markdown",
   "metadata": {},
   "source": [
    "# Gradient Descent"
   ]
  },
  {
   "cell_type": "markdown",
   "metadata": {},
   "source": [
    "### Learning Objectives "
   ]
  },
  {
   "cell_type": "markdown",
   "metadata": {},
   "source": [
    "* Understand how to go from RSS to finding a \"best fit\" line\n",
    "* Understand a cost curve and what it displays"
   ]
  },
  {
   "cell_type": "markdown",
   "metadata": {},
   "source": [
    "### Introduction"
   ]
  },
  {
   "cell_type": "markdown",
   "metadata": {},
   "source": [
    "In the previous section, we saw how after choosing the slope and y-intercept values of a regression line, we can calculate the residual sum of squares (RSS) and related root mean squared error (RMSE).  We can use either the RSS or RMSE to calculate the accuracy of a line.  In this lesson, we'll proceed with RSS as it's the simpler of the two.\n",
    "\n",
    "Once we have calculated the accuracy of a line, we can improve upon that line by minimizing the RSS.  This is the task of gradient descent.  But before learning about gradient descent, let's review and ensure that we understand how to evaluate how our line fits our data.  "
   ]
  },
  {
   "cell_type": "markdown",
   "metadata": {},
   "source": [
    "### Review of plotting our data and a regression line"
   ]
  },
  {
   "cell_type": "markdown",
   "metadata": {},
   "source": [
    "For this example, let's imagine that our data looks like the following:"
   ]
  },
  {
   "cell_type": "code",
   "execution_count": 1,
   "metadata": {},
   "outputs": [],
   "source": [
    "first_movie = {'budget': 100, 'revenue': 275}\n",
    "second_movie = {'budget': 200, 'revenue': 300}\n",
    "third_movie = {'budget': 250, 'revenue': 550}\n",
    "fourth_movie = {'budget': 325, 'revenue': 525}\n",
    "fifth_movie = {'budget': 400, 'revenue': 700}\n",
    "\n",
    "shows = [first_movie, second_movie, third_movie, fourth_movie, fifth_movie]"
   ]
  },
  {
   "cell_type": "markdown",
   "metadata": {},
   "source": [
    "> Press shift + enter"
   ]
  },
  {
   "cell_type": "markdown",
   "metadata": {},
   "source": [
    "Let's again come up with some numbers for a slope and a y-intercept.  \n",
    "\n",
    ">Remember that our technique so far is to get at the slope by drawing a line between the first and last points.  And from there, we calculate the value of $b$.  Our `build_regression_line` function, defined in our [linear_equations library](https://github.com/learn-co-curriculum/gradient-descent/blob/master/linear_equations.py), quickly does this for us."
   ]
  },
  {
   "cell_type": "markdown",
   "metadata": {},
   "source": [
    "So let's convert our data above into a list of `x_values`, budgets, and `y_values`, revenues, and pass them into our `build_regression_line` function. "
   ]
  },
  {
   "cell_type": "code",
   "execution_count": 2,
   "metadata": {},
   "outputs": [
    {
     "data": {
      "text/plain": [
       "{'m': 1.4166666666666667, 'b': 133.33333333333326}"
      ]
     },
     "execution_count": 2,
     "metadata": {},
     "output_type": "execute_result"
    }
   ],
   "source": [
    "from linear_equations import build_regression_line\n",
    "\n",
    "budgets = list(map(lambda show: show['budget'], shows))\n",
    "revenues = list(map(lambda show: show['revenue'], shows))\n",
    "\n",
    "build_regression_line(budgets, revenues)"
   ]
  },
  {
   "cell_type": "markdown",
   "metadata": {},
   "source": [
    "Turning this into a regression formula, we have the following:"
   ]
  },
  {
   "cell_type": "code",
   "execution_count": 3,
   "metadata": {},
   "outputs": [],
   "source": [
    "def regression_formula(x):\n",
    "    return 1.417*x + 133.33"
   ]
  },
  {
   "cell_type": "markdown",
   "metadata": {},
   "source": [
    "Let's plot this regression formula with our data to get a sense of what it looks like. "
   ]
  },
  {
   "cell_type": "code",
   "execution_count": 4,
   "metadata": {},
   "outputs": [
    {
     "data": {
      "text/html": [
       "        <script type=\"text/javascript\">\n",
       "        window.PlotlyConfig = {MathJaxConfig: 'local'};\n",
       "        if (window.MathJax) {MathJax.Hub.Config({SVG: {font: \"STIX-Web\"}});}\n",
       "        if (typeof require !== 'undefined') {\n",
       "        require.undef(\"plotly\");\n",
       "        requirejs.config({\n",
       "            paths: {\n",
       "                'plotly': ['https://cdn.plot.ly/plotly-latest.min']\n",
       "            }\n",
       "        });\n",
       "        require(['plotly'], function(Plotly) {\n",
       "            window._Plotly = Plotly;\n",
       "        });\n",
       "        }\n",
       "        </script>\n",
       "        "
      ]
     },
     "metadata": {},
     "output_type": "display_data"
    },
    {
     "data": {
      "text/html": [
       "        <script type=\"text/javascript\">\n",
       "        window.PlotlyConfig = {MathJaxConfig: 'local'};\n",
       "        if (window.MathJax) {MathJax.Hub.Config({SVG: {font: \"STIX-Web\"}});}\n",
       "        if (typeof require !== 'undefined') {\n",
       "        require.undef(\"plotly\");\n",
       "        requirejs.config({\n",
       "            paths: {\n",
       "                'plotly': ['https://cdn.plot.ly/plotly-latest.min']\n",
       "            }\n",
       "        });\n",
       "        require(['plotly'], function(Plotly) {\n",
       "            window._Plotly = Plotly;\n",
       "        });\n",
       "        }\n",
       "        </script>\n",
       "        "
      ]
     },
     "metadata": {},
     "output_type": "display_data"
    },
    {
     "data": {
      "application/vnd.plotly.v1+json": {
       "config": {
        "linkText": "Export to plot.ly",
        "plotlyServerURL": "https://plot.ly",
        "showLink": false
       },
       "data": [
        {
         "mode": "lines",
         "name": "line function",
         "type": "scatter",
         "x": [
          100,
          200,
          250,
          325,
          400
         ],
         "y": [
          275.03000000000003,
          416.73,
          487.58000000000004,
          593.855,
          700.1300000000001
         ]
        },
        {
         "mode": "markers",
         "name": "data",
         "text": [],
         "type": "scatter",
         "x": [
          100,
          200,
          250,
          325,
          400
         ],
         "y": [
          275,
          300,
          550,
          525,
          700
         ]
        }
       ],
       "layout": {
        "template": {
         "data": {
          "bar": [
           {
            "error_x": {
             "color": "#2a3f5f"
            },
            "error_y": {
             "color": "#2a3f5f"
            },
            "marker": {
             "line": {
              "color": "#E5ECF6",
              "width": 0.5
             }
            },
            "type": "bar"
           }
          ],
          "barpolar": [
           {
            "marker": {
             "line": {
              "color": "#E5ECF6",
              "width": 0.5
             }
            },
            "type": "barpolar"
           }
          ],
          "carpet": [
           {
            "aaxis": {
             "endlinecolor": "#2a3f5f",
             "gridcolor": "white",
             "linecolor": "white",
             "minorgridcolor": "white",
             "startlinecolor": "#2a3f5f"
            },
            "baxis": {
             "endlinecolor": "#2a3f5f",
             "gridcolor": "white",
             "linecolor": "white",
             "minorgridcolor": "white",
             "startlinecolor": "#2a3f5f"
            },
            "type": "carpet"
           }
          ],
          "choropleth": [
           {
            "colorbar": {
             "outlinewidth": 0,
             "ticks": ""
            },
            "type": "choropleth"
           }
          ],
          "contour": [
           {
            "colorbar": {
             "outlinewidth": 0,
             "ticks": ""
            },
            "colorscale": [
             [
              0,
              "#0d0887"
             ],
             [
              0.1111111111111111,
              "#46039f"
             ],
             [
              0.2222222222222222,
              "#7201a8"
             ],
             [
              0.3333333333333333,
              "#9c179e"
             ],
             [
              0.4444444444444444,
              "#bd3786"
             ],
             [
              0.5555555555555556,
              "#d8576b"
             ],
             [
              0.6666666666666666,
              "#ed7953"
             ],
             [
              0.7777777777777778,
              "#fb9f3a"
             ],
             [
              0.8888888888888888,
              "#fdca26"
             ],
             [
              1,
              "#f0f921"
             ]
            ],
            "type": "contour"
           }
          ],
          "contourcarpet": [
           {
            "colorbar": {
             "outlinewidth": 0,
             "ticks": ""
            },
            "type": "contourcarpet"
           }
          ],
          "heatmap": [
           {
            "colorbar": {
             "outlinewidth": 0,
             "ticks": ""
            },
            "colorscale": [
             [
              0,
              "#0d0887"
             ],
             [
              0.1111111111111111,
              "#46039f"
             ],
             [
              0.2222222222222222,
              "#7201a8"
             ],
             [
              0.3333333333333333,
              "#9c179e"
             ],
             [
              0.4444444444444444,
              "#bd3786"
             ],
             [
              0.5555555555555556,
              "#d8576b"
             ],
             [
              0.6666666666666666,
              "#ed7953"
             ],
             [
              0.7777777777777778,
              "#fb9f3a"
             ],
             [
              0.8888888888888888,
              "#fdca26"
             ],
             [
              1,
              "#f0f921"
             ]
            ],
            "type": "heatmap"
           }
          ],
          "heatmapgl": [
           {
            "colorbar": {
             "outlinewidth": 0,
             "ticks": ""
            },
            "colorscale": [
             [
              0,
              "#0d0887"
             ],
             [
              0.1111111111111111,
              "#46039f"
             ],
             [
              0.2222222222222222,
              "#7201a8"
             ],
             [
              0.3333333333333333,
              "#9c179e"
             ],
             [
              0.4444444444444444,
              "#bd3786"
             ],
             [
              0.5555555555555556,
              "#d8576b"
             ],
             [
              0.6666666666666666,
              "#ed7953"
             ],
             [
              0.7777777777777778,
              "#fb9f3a"
             ],
             [
              0.8888888888888888,
              "#fdca26"
             ],
             [
              1,
              "#f0f921"
             ]
            ],
            "type": "heatmapgl"
           }
          ],
          "histogram": [
           {
            "marker": {
             "colorbar": {
              "outlinewidth": 0,
              "ticks": ""
             }
            },
            "type": "histogram"
           }
          ],
          "histogram2d": [
           {
            "colorbar": {
             "outlinewidth": 0,
             "ticks": ""
            },
            "colorscale": [
             [
              0,
              "#0d0887"
             ],
             [
              0.1111111111111111,
              "#46039f"
             ],
             [
              0.2222222222222222,
              "#7201a8"
             ],
             [
              0.3333333333333333,
              "#9c179e"
             ],
             [
              0.4444444444444444,
              "#bd3786"
             ],
             [
              0.5555555555555556,
              "#d8576b"
             ],
             [
              0.6666666666666666,
              "#ed7953"
             ],
             [
              0.7777777777777778,
              "#fb9f3a"
             ],
             [
              0.8888888888888888,
              "#fdca26"
             ],
             [
              1,
              "#f0f921"
             ]
            ],
            "type": "histogram2d"
           }
          ],
          "histogram2dcontour": [
           {
            "colorbar": {
             "outlinewidth": 0,
             "ticks": ""
            },
            "colorscale": [
             [
              0,
              "#0d0887"
             ],
             [
              0.1111111111111111,
              "#46039f"
             ],
             [
              0.2222222222222222,
              "#7201a8"
             ],
             [
              0.3333333333333333,
              "#9c179e"
             ],
             [
              0.4444444444444444,
              "#bd3786"
             ],
             [
              0.5555555555555556,
              "#d8576b"
             ],
             [
              0.6666666666666666,
              "#ed7953"
             ],
             [
              0.7777777777777778,
              "#fb9f3a"
             ],
             [
              0.8888888888888888,
              "#fdca26"
             ],
             [
              1,
              "#f0f921"
             ]
            ],
            "type": "histogram2dcontour"
           }
          ],
          "mesh3d": [
           {
            "colorbar": {
             "outlinewidth": 0,
             "ticks": ""
            },
            "type": "mesh3d"
           }
          ],
          "parcoords": [
           {
            "line": {
             "colorbar": {
              "outlinewidth": 0,
              "ticks": ""
             }
            },
            "type": "parcoords"
           }
          ],
          "scatter": [
           {
            "marker": {
             "colorbar": {
              "outlinewidth": 0,
              "ticks": ""
             }
            },
            "type": "scatter"
           }
          ],
          "scatter3d": [
           {
            "line": {
             "colorbar": {
              "outlinewidth": 0,
              "ticks": ""
             }
            },
            "marker": {
             "colorbar": {
              "outlinewidth": 0,
              "ticks": ""
             }
            },
            "type": "scatter3d"
           }
          ],
          "scattercarpet": [
           {
            "marker": {
             "colorbar": {
              "outlinewidth": 0,
              "ticks": ""
             }
            },
            "type": "scattercarpet"
           }
          ],
          "scattergeo": [
           {
            "marker": {
             "colorbar": {
              "outlinewidth": 0,
              "ticks": ""
             }
            },
            "type": "scattergeo"
           }
          ],
          "scattergl": [
           {
            "marker": {
             "colorbar": {
              "outlinewidth": 0,
              "ticks": ""
             }
            },
            "type": "scattergl"
           }
          ],
          "scattermapbox": [
           {
            "marker": {
             "colorbar": {
              "outlinewidth": 0,
              "ticks": ""
             }
            },
            "type": "scattermapbox"
           }
          ],
          "scatterpolar": [
           {
            "marker": {
             "colorbar": {
              "outlinewidth": 0,
              "ticks": ""
             }
            },
            "type": "scatterpolar"
           }
          ],
          "scatterpolargl": [
           {
            "marker": {
             "colorbar": {
              "outlinewidth": 0,
              "ticks": ""
             }
            },
            "type": "scatterpolargl"
           }
          ],
          "scatterternary": [
           {
            "marker": {
             "colorbar": {
              "outlinewidth": 0,
              "ticks": ""
             }
            },
            "type": "scatterternary"
           }
          ],
          "surface": [
           {
            "colorbar": {
             "outlinewidth": 0,
             "ticks": ""
            },
            "colorscale": [
             [
              0,
              "#0d0887"
             ],
             [
              0.1111111111111111,
              "#46039f"
             ],
             [
              0.2222222222222222,
              "#7201a8"
             ],
             [
              0.3333333333333333,
              "#9c179e"
             ],
             [
              0.4444444444444444,
              "#bd3786"
             ],
             [
              0.5555555555555556,
              "#d8576b"
             ],
             [
              0.6666666666666666,
              "#ed7953"
             ],
             [
              0.7777777777777778,
              "#fb9f3a"
             ],
             [
              0.8888888888888888,
              "#fdca26"
             ],
             [
              1,
              "#f0f921"
             ]
            ],
            "type": "surface"
           }
          ],
          "table": [
           {
            "cells": {
             "fill": {
              "color": "#EBF0F8"
             },
             "line": {
              "color": "white"
             }
            },
            "header": {
             "fill": {
              "color": "#C8D4E3"
             },
             "line": {
              "color": "white"
             }
            },
            "type": "table"
           }
          ]
         },
         "layout": {
          "annotationdefaults": {
           "arrowcolor": "#2a3f5f",
           "arrowhead": 0,
           "arrowwidth": 1
          },
          "colorscale": {
           "diverging": [
            [
             0,
             "#8e0152"
            ],
            [
             0.1,
             "#c51b7d"
            ],
            [
             0.2,
             "#de77ae"
            ],
            [
             0.3,
             "#f1b6da"
            ],
            [
             0.4,
             "#fde0ef"
            ],
            [
             0.5,
             "#f7f7f7"
            ],
            [
             0.6,
             "#e6f5d0"
            ],
            [
             0.7,
             "#b8e186"
            ],
            [
             0.8,
             "#7fbc41"
            ],
            [
             0.9,
             "#4d9221"
            ],
            [
             1,
             "#276419"
            ]
           ],
           "sequential": [
            [
             0,
             "#0d0887"
            ],
            [
             0.1111111111111111,
             "#46039f"
            ],
            [
             0.2222222222222222,
             "#7201a8"
            ],
            [
             0.3333333333333333,
             "#9c179e"
            ],
            [
             0.4444444444444444,
             "#bd3786"
            ],
            [
             0.5555555555555556,
             "#d8576b"
            ],
            [
             0.6666666666666666,
             "#ed7953"
            ],
            [
             0.7777777777777778,
             "#fb9f3a"
            ],
            [
             0.8888888888888888,
             "#fdca26"
            ],
            [
             1,
             "#f0f921"
            ]
           ],
           "sequentialminus": [
            [
             0,
             "#0d0887"
            ],
            [
             0.1111111111111111,
             "#46039f"
            ],
            [
             0.2222222222222222,
             "#7201a8"
            ],
            [
             0.3333333333333333,
             "#9c179e"
            ],
            [
             0.4444444444444444,
             "#bd3786"
            ],
            [
             0.5555555555555556,
             "#d8576b"
            ],
            [
             0.6666666666666666,
             "#ed7953"
            ],
            [
             0.7777777777777778,
             "#fb9f3a"
            ],
            [
             0.8888888888888888,
             "#fdca26"
            ],
            [
             1,
             "#f0f921"
            ]
           ]
          },
          "colorway": [
           "#636efa",
           "#EF553B",
           "#00cc96",
           "#ab63fa",
           "#FFA15A",
           "#19d3f3",
           "#FF6692",
           "#B6E880",
           "#FF97FF",
           "#FECB52"
          ],
          "font": {
           "color": "#2a3f5f"
          },
          "geo": {
           "bgcolor": "white",
           "lakecolor": "white",
           "landcolor": "#E5ECF6",
           "showlakes": true,
           "showland": true,
           "subunitcolor": "white"
          },
          "hoverlabel": {
           "align": "left"
          },
          "hovermode": "closest",
          "mapbox": {
           "style": "light"
          },
          "paper_bgcolor": "white",
          "plot_bgcolor": "#E5ECF6",
          "polar": {
           "angularaxis": {
            "gridcolor": "white",
            "linecolor": "white",
            "ticks": ""
           },
           "bgcolor": "#E5ECF6",
           "radialaxis": {
            "gridcolor": "white",
            "linecolor": "white",
            "ticks": ""
           }
          },
          "scene": {
           "xaxis": {
            "backgroundcolor": "#E5ECF6",
            "gridcolor": "white",
            "gridwidth": 2,
            "linecolor": "white",
            "showbackground": true,
            "ticks": "",
            "zerolinecolor": "white"
           },
           "yaxis": {
            "backgroundcolor": "#E5ECF6",
            "gridcolor": "white",
            "gridwidth": 2,
            "linecolor": "white",
            "showbackground": true,
            "ticks": "",
            "zerolinecolor": "white"
           },
           "zaxis": {
            "backgroundcolor": "#E5ECF6",
            "gridcolor": "white",
            "gridwidth": 2,
            "linecolor": "white",
            "showbackground": true,
            "ticks": "",
            "zerolinecolor": "white"
           }
          },
          "shapedefaults": {
           "line": {
            "color": "#2a3f5f"
           }
          },
          "ternary": {
           "aaxis": {
            "gridcolor": "white",
            "linecolor": "white",
            "ticks": ""
           },
           "baxis": {
            "gridcolor": "white",
            "linecolor": "white",
            "ticks": ""
           },
           "bgcolor": "#E5ECF6",
           "caxis": {
            "gridcolor": "white",
            "linecolor": "white",
            "ticks": ""
           }
          },
          "title": {
           "x": 0.05
          },
          "xaxis": {
           "automargin": true,
           "gridcolor": "white",
           "linecolor": "white",
           "ticks": "",
           "zerolinecolor": "white",
           "zerolinewidth": 2
          },
          "yaxis": {
           "automargin": true,
           "gridcolor": "white",
           "linecolor": "white",
           "ticks": "",
           "zerolinecolor": "white",
           "zerolinewidth": 2
          }
         }
        }
       }
      },
      "text/html": [
       "<div>\n",
       "        \n",
       "        \n",
       "            <div id=\"bf5cef7a-9db9-4a04-9c59-0ebf9612e189\" class=\"plotly-graph-div\" style=\"height:525px; width:100%;\"></div>\n",
       "            <script type=\"text/javascript\">\n",
       "                require([\"plotly\"], function(Plotly) {\n",
       "                    window.PLOTLYENV=window.PLOTLYENV || {};\n",
       "                    \n",
       "                if (document.getElementById(\"bf5cef7a-9db9-4a04-9c59-0ebf9612e189\")) {\n",
       "                    Plotly.newPlot(\n",
       "                        'bf5cef7a-9db9-4a04-9c59-0ebf9612e189',\n",
       "                        [{\"mode\": \"lines\", \"name\": \"line function\", \"type\": \"scatter\", \"x\": [100, 200, 250, 325, 400], \"y\": [275.03000000000003, 416.73, 487.58000000000004, 593.855, 700.1300000000001]}, {\"mode\": \"markers\", \"name\": \"data\", \"text\": [], \"type\": \"scatter\", \"x\": [100, 200, 250, 325, 400], \"y\": [275, 300, 550, 525, 700]}],\n",
       "                        {\"template\": {\"data\": {\"bar\": [{\"error_x\": {\"color\": \"#2a3f5f\"}, \"error_y\": {\"color\": \"#2a3f5f\"}, \"marker\": {\"line\": {\"color\": \"#E5ECF6\", \"width\": 0.5}}, \"type\": \"bar\"}], \"barpolar\": [{\"marker\": {\"line\": {\"color\": \"#E5ECF6\", \"width\": 0.5}}, \"type\": \"barpolar\"}], \"carpet\": [{\"aaxis\": {\"endlinecolor\": \"#2a3f5f\", \"gridcolor\": \"white\", \"linecolor\": \"white\", \"minorgridcolor\": \"white\", \"startlinecolor\": \"#2a3f5f\"}, \"baxis\": {\"endlinecolor\": \"#2a3f5f\", \"gridcolor\": \"white\", \"linecolor\": \"white\", \"minorgridcolor\": \"white\", \"startlinecolor\": \"#2a3f5f\"}, \"type\": \"carpet\"}], \"choropleth\": [{\"colorbar\": {\"outlinewidth\": 0, \"ticks\": \"\"}, \"type\": \"choropleth\"}], \"contour\": [{\"colorbar\": {\"outlinewidth\": 0, \"ticks\": \"\"}, \"colorscale\": [[0.0, \"#0d0887\"], [0.1111111111111111, \"#46039f\"], [0.2222222222222222, \"#7201a8\"], [0.3333333333333333, \"#9c179e\"], [0.4444444444444444, \"#bd3786\"], [0.5555555555555556, \"#d8576b\"], [0.6666666666666666, \"#ed7953\"], [0.7777777777777778, \"#fb9f3a\"], [0.8888888888888888, \"#fdca26\"], [1.0, \"#f0f921\"]], \"type\": \"contour\"}], \"contourcarpet\": [{\"colorbar\": {\"outlinewidth\": 0, \"ticks\": \"\"}, \"type\": \"contourcarpet\"}], \"heatmap\": [{\"colorbar\": {\"outlinewidth\": 0, \"ticks\": \"\"}, \"colorscale\": [[0.0, \"#0d0887\"], [0.1111111111111111, \"#46039f\"], [0.2222222222222222, \"#7201a8\"], [0.3333333333333333, \"#9c179e\"], [0.4444444444444444, \"#bd3786\"], [0.5555555555555556, \"#d8576b\"], [0.6666666666666666, \"#ed7953\"], [0.7777777777777778, \"#fb9f3a\"], [0.8888888888888888, \"#fdca26\"], [1.0, \"#f0f921\"]], \"type\": \"heatmap\"}], \"heatmapgl\": [{\"colorbar\": {\"outlinewidth\": 0, \"ticks\": \"\"}, \"colorscale\": [[0.0, \"#0d0887\"], [0.1111111111111111, \"#46039f\"], [0.2222222222222222, \"#7201a8\"], [0.3333333333333333, \"#9c179e\"], [0.4444444444444444, \"#bd3786\"], [0.5555555555555556, \"#d8576b\"], [0.6666666666666666, \"#ed7953\"], [0.7777777777777778, \"#fb9f3a\"], [0.8888888888888888, \"#fdca26\"], [1.0, \"#f0f921\"]], \"type\": \"heatmapgl\"}], \"histogram\": [{\"marker\": {\"colorbar\": {\"outlinewidth\": 0, \"ticks\": \"\"}}, \"type\": \"histogram\"}], \"histogram2d\": [{\"colorbar\": {\"outlinewidth\": 0, \"ticks\": \"\"}, \"colorscale\": [[0.0, \"#0d0887\"], [0.1111111111111111, \"#46039f\"], [0.2222222222222222, \"#7201a8\"], [0.3333333333333333, \"#9c179e\"], [0.4444444444444444, \"#bd3786\"], [0.5555555555555556, \"#d8576b\"], [0.6666666666666666, \"#ed7953\"], [0.7777777777777778, \"#fb9f3a\"], [0.8888888888888888, \"#fdca26\"], [1.0, \"#f0f921\"]], \"type\": \"histogram2d\"}], \"histogram2dcontour\": [{\"colorbar\": {\"outlinewidth\": 0, \"ticks\": \"\"}, \"colorscale\": [[0.0, \"#0d0887\"], [0.1111111111111111, \"#46039f\"], [0.2222222222222222, \"#7201a8\"], [0.3333333333333333, \"#9c179e\"], [0.4444444444444444, \"#bd3786\"], [0.5555555555555556, \"#d8576b\"], [0.6666666666666666, \"#ed7953\"], [0.7777777777777778, \"#fb9f3a\"], [0.8888888888888888, \"#fdca26\"], [1.0, \"#f0f921\"]], \"type\": \"histogram2dcontour\"}], \"mesh3d\": [{\"colorbar\": {\"outlinewidth\": 0, \"ticks\": \"\"}, \"type\": \"mesh3d\"}], \"parcoords\": [{\"line\": {\"colorbar\": {\"outlinewidth\": 0, \"ticks\": \"\"}}, \"type\": \"parcoords\"}], \"scatter\": [{\"marker\": {\"colorbar\": {\"outlinewidth\": 0, \"ticks\": \"\"}}, \"type\": \"scatter\"}], \"scatter3d\": [{\"line\": {\"colorbar\": {\"outlinewidth\": 0, \"ticks\": \"\"}}, \"marker\": {\"colorbar\": {\"outlinewidth\": 0, \"ticks\": \"\"}}, \"type\": \"scatter3d\"}], \"scattercarpet\": [{\"marker\": {\"colorbar\": {\"outlinewidth\": 0, \"ticks\": \"\"}}, \"type\": \"scattercarpet\"}], \"scattergeo\": [{\"marker\": {\"colorbar\": {\"outlinewidth\": 0, \"ticks\": \"\"}}, \"type\": \"scattergeo\"}], \"scattergl\": [{\"marker\": {\"colorbar\": {\"outlinewidth\": 0, \"ticks\": \"\"}}, \"type\": \"scattergl\"}], \"scattermapbox\": [{\"marker\": {\"colorbar\": {\"outlinewidth\": 0, \"ticks\": \"\"}}, \"type\": \"scattermapbox\"}], \"scatterpolar\": [{\"marker\": {\"colorbar\": {\"outlinewidth\": 0, \"ticks\": \"\"}}, \"type\": \"scatterpolar\"}], \"scatterpolargl\": [{\"marker\": {\"colorbar\": {\"outlinewidth\": 0, \"ticks\": \"\"}}, \"type\": \"scatterpolargl\"}], \"scatterternary\": [{\"marker\": {\"colorbar\": {\"outlinewidth\": 0, \"ticks\": \"\"}}, \"type\": \"scatterternary\"}], \"surface\": [{\"colorbar\": {\"outlinewidth\": 0, \"ticks\": \"\"}, \"colorscale\": [[0.0, \"#0d0887\"], [0.1111111111111111, \"#46039f\"], [0.2222222222222222, \"#7201a8\"], [0.3333333333333333, \"#9c179e\"], [0.4444444444444444, \"#bd3786\"], [0.5555555555555556, \"#d8576b\"], [0.6666666666666666, \"#ed7953\"], [0.7777777777777778, \"#fb9f3a\"], [0.8888888888888888, \"#fdca26\"], [1.0, \"#f0f921\"]], \"type\": \"surface\"}], \"table\": [{\"cells\": {\"fill\": {\"color\": \"#EBF0F8\"}, \"line\": {\"color\": \"white\"}}, \"header\": {\"fill\": {\"color\": \"#C8D4E3\"}, \"line\": {\"color\": \"white\"}}, \"type\": \"table\"}]}, \"layout\": {\"annotationdefaults\": {\"arrowcolor\": \"#2a3f5f\", \"arrowhead\": 0, \"arrowwidth\": 1}, \"colorscale\": {\"diverging\": [[0, \"#8e0152\"], [0.1, \"#c51b7d\"], [0.2, \"#de77ae\"], [0.3, \"#f1b6da\"], [0.4, \"#fde0ef\"], [0.5, \"#f7f7f7\"], [0.6, \"#e6f5d0\"], [0.7, \"#b8e186\"], [0.8, \"#7fbc41\"], [0.9, \"#4d9221\"], [1, \"#276419\"]], \"sequential\": [[0.0, \"#0d0887\"], [0.1111111111111111, \"#46039f\"], [0.2222222222222222, \"#7201a8\"], [0.3333333333333333, \"#9c179e\"], [0.4444444444444444, \"#bd3786\"], [0.5555555555555556, \"#d8576b\"], [0.6666666666666666, \"#ed7953\"], [0.7777777777777778, \"#fb9f3a\"], [0.8888888888888888, \"#fdca26\"], [1.0, \"#f0f921\"]], \"sequentialminus\": [[0.0, \"#0d0887\"], [0.1111111111111111, \"#46039f\"], [0.2222222222222222, \"#7201a8\"], [0.3333333333333333, \"#9c179e\"], [0.4444444444444444, \"#bd3786\"], [0.5555555555555556, \"#d8576b\"], [0.6666666666666666, \"#ed7953\"], [0.7777777777777778, \"#fb9f3a\"], [0.8888888888888888, \"#fdca26\"], [1.0, \"#f0f921\"]]}, \"colorway\": [\"#636efa\", \"#EF553B\", \"#00cc96\", \"#ab63fa\", \"#FFA15A\", \"#19d3f3\", \"#FF6692\", \"#B6E880\", \"#FF97FF\", \"#FECB52\"], \"font\": {\"color\": \"#2a3f5f\"}, \"geo\": {\"bgcolor\": \"white\", \"lakecolor\": \"white\", \"landcolor\": \"#E5ECF6\", \"showlakes\": true, \"showland\": true, \"subunitcolor\": \"white\"}, \"hoverlabel\": {\"align\": \"left\"}, \"hovermode\": \"closest\", \"mapbox\": {\"style\": \"light\"}, \"paper_bgcolor\": \"white\", \"plot_bgcolor\": \"#E5ECF6\", \"polar\": {\"angularaxis\": {\"gridcolor\": \"white\", \"linecolor\": \"white\", \"ticks\": \"\"}, \"bgcolor\": \"#E5ECF6\", \"radialaxis\": {\"gridcolor\": \"white\", \"linecolor\": \"white\", \"ticks\": \"\"}}, \"scene\": {\"xaxis\": {\"backgroundcolor\": \"#E5ECF6\", \"gridcolor\": \"white\", \"gridwidth\": 2, \"linecolor\": \"white\", \"showbackground\": true, \"ticks\": \"\", \"zerolinecolor\": \"white\"}, \"yaxis\": {\"backgroundcolor\": \"#E5ECF6\", \"gridcolor\": \"white\", \"gridwidth\": 2, \"linecolor\": \"white\", \"showbackground\": true, \"ticks\": \"\", \"zerolinecolor\": \"white\"}, \"zaxis\": {\"backgroundcolor\": \"#E5ECF6\", \"gridcolor\": \"white\", \"gridwidth\": 2, \"linecolor\": \"white\", \"showbackground\": true, \"ticks\": \"\", \"zerolinecolor\": \"white\"}}, \"shapedefaults\": {\"line\": {\"color\": \"#2a3f5f\"}}, \"ternary\": {\"aaxis\": {\"gridcolor\": \"white\", \"linecolor\": \"white\", \"ticks\": \"\"}, \"baxis\": {\"gridcolor\": \"white\", \"linecolor\": \"white\", \"ticks\": \"\"}, \"bgcolor\": \"#E5ECF6\", \"caxis\": {\"gridcolor\": \"white\", \"linecolor\": \"white\", \"ticks\": \"\"}}, \"title\": {\"x\": 0.05}, \"xaxis\": {\"automargin\": true, \"gridcolor\": \"white\", \"linecolor\": \"white\", \"ticks\": \"\", \"zerolinecolor\": \"white\", \"zerolinewidth\": 2}, \"yaxis\": {\"automargin\": true, \"gridcolor\": \"white\", \"linecolor\": \"white\", \"ticks\": \"\", \"zerolinecolor\": \"white\", \"zerolinewidth\": 2}}}},\n",
       "                        {\"responsive\": true}\n",
       "                    ).then(function(){\n",
       "                            \n",
       "var gd = document.getElementById('bf5cef7a-9db9-4a04-9c59-0ebf9612e189');\n",
       "var x = new MutationObserver(function (mutations, observer) {{\n",
       "        var display = window.getComputedStyle(gd).display;\n",
       "        if (!display || display === 'none') {{\n",
       "            console.log([gd, 'removed!']);\n",
       "            Plotly.purge(gd);\n",
       "            observer.disconnect();\n",
       "        }}\n",
       "}});\n",
       "\n",
       "// Listen for the removal of the full notebook cells\n",
       "var notebookContainer = gd.closest('#notebook-container');\n",
       "if (notebookContainer) {{\n",
       "    x.observe(notebookContainer, {childList: true});\n",
       "}}\n",
       "\n",
       "// Listen for the clearing of the current output cell\n",
       "var outputEl = gd.closest('.output');\n",
       "if (outputEl) {{\n",
       "    x.observe(outputEl, {childList: true});\n",
       "}}\n",
       "\n",
       "                        })\n",
       "                };\n",
       "                });\n",
       "            </script>\n",
       "        </div>"
      ]
     },
     "metadata": {},
     "output_type": "display_data"
    }
   ],
   "source": [
    "# First import the `plotly` libraries and functions in our notebook. \n",
    "import plotly\n",
    "from plotly.offline import init_notebook_mode, iplot\n",
    "init_notebook_mode(connected=True)\n",
    "\n",
    "# then import our graph functions\n",
    "from graph import m_b_trace, trace_values, plot\n",
    "\n",
    "regression_trace = m_b_trace(1.417, 133.33, budgets)\n",
    "scatter_trace = trace_values(budgets, revenues)\n",
    "plot([regression_trace, scatter_trace])"
   ]
  },
  {
   "cell_type": "markdown",
   "metadata": {},
   "source": [
    "### Evaluating the regression line"
   ]
  },
  {
   "cell_type": "markdown",
   "metadata": {},
   "source": [
    "Ok, now we add in our functions for displaying the errors for our graph."
   ]
  },
  {
   "cell_type": "code",
   "execution_count": 5,
   "metadata": {},
   "outputs": [
    {
     "data": {
      "application/vnd.plotly.v1+json": {
       "config": {
        "linkText": "Export to plot.ly",
        "plotlyServerURL": "https://plot.ly",
        "showLink": false
       },
       "data": [
        {
         "mode": "markers",
         "name": "data",
         "text": [],
         "type": "scatter",
         "x": [
          100,
          200,
          250,
          325,
          400
         ],
         "y": [
          275,
          300,
          550,
          525,
          700
         ]
        },
        {
         "mode": "lines",
         "name": "line function",
         "type": "scatter",
         "x": [
          100,
          200,
          250,
          325,
          400
         ],
         "y": [
          275.03000000000003,
          416.73,
          487.58000000000004,
          593.855,
          700.1300000000001
         ]
        },
        {
         "marker": {
          "color": "red"
         },
         "mode": "lines",
         "name": "error at 100",
         "text": [
          "-0.03000000000002956"
         ],
         "textposition": "top right",
         "type": "scatter",
         "x": [
          100,
          100
         ],
         "y": [
          275,
          275.03000000000003
         ]
        },
        {
         "marker": {
          "color": "red"
         },
         "mode": "lines",
         "name": "error at 200",
         "text": [
          "-116.73000000000002"
         ],
         "textposition": "top right",
         "type": "scatter",
         "x": [
          200,
          200
         ],
         "y": [
          300,
          416.73
         ]
        },
        {
         "marker": {
          "color": "red"
         },
         "mode": "lines",
         "name": "error at 250",
         "text": [
          "62.41999999999996"
         ],
         "textposition": "top right",
         "type": "scatter",
         "x": [
          250,
          250
         ],
         "y": [
          550,
          487.58000000000004
         ]
        },
        {
         "marker": {
          "color": "red"
         },
         "mode": "lines",
         "name": "error at 325",
         "text": [
          "-68.85500000000002"
         ],
         "textposition": "top right",
         "type": "scatter",
         "x": [
          325,
          325
         ],
         "y": [
          525,
          593.855
         ]
        },
        {
         "marker": {
          "color": "red"
         },
         "mode": "lines",
         "name": "error at 400",
         "text": [
          "-0.13000000000010914"
         ],
         "textposition": "top right",
         "type": "scatter",
         "x": [
          400,
          400
         ],
         "y": [
          700,
          700.1300000000001
         ]
        }
       ],
       "layout": {
        "template": {
         "data": {
          "bar": [
           {
            "error_x": {
             "color": "#2a3f5f"
            },
            "error_y": {
             "color": "#2a3f5f"
            },
            "marker": {
             "line": {
              "color": "#E5ECF6",
              "width": 0.5
             }
            },
            "type": "bar"
           }
          ],
          "barpolar": [
           {
            "marker": {
             "line": {
              "color": "#E5ECF6",
              "width": 0.5
             }
            },
            "type": "barpolar"
           }
          ],
          "carpet": [
           {
            "aaxis": {
             "endlinecolor": "#2a3f5f",
             "gridcolor": "white",
             "linecolor": "white",
             "minorgridcolor": "white",
             "startlinecolor": "#2a3f5f"
            },
            "baxis": {
             "endlinecolor": "#2a3f5f",
             "gridcolor": "white",
             "linecolor": "white",
             "minorgridcolor": "white",
             "startlinecolor": "#2a3f5f"
            },
            "type": "carpet"
           }
          ],
          "choropleth": [
           {
            "colorbar": {
             "outlinewidth": 0,
             "ticks": ""
            },
            "type": "choropleth"
           }
          ],
          "contour": [
           {
            "colorbar": {
             "outlinewidth": 0,
             "ticks": ""
            },
            "colorscale": [
             [
              0,
              "#0d0887"
             ],
             [
              0.1111111111111111,
              "#46039f"
             ],
             [
              0.2222222222222222,
              "#7201a8"
             ],
             [
              0.3333333333333333,
              "#9c179e"
             ],
             [
              0.4444444444444444,
              "#bd3786"
             ],
             [
              0.5555555555555556,
              "#d8576b"
             ],
             [
              0.6666666666666666,
              "#ed7953"
             ],
             [
              0.7777777777777778,
              "#fb9f3a"
             ],
             [
              0.8888888888888888,
              "#fdca26"
             ],
             [
              1,
              "#f0f921"
             ]
            ],
            "type": "contour"
           }
          ],
          "contourcarpet": [
           {
            "colorbar": {
             "outlinewidth": 0,
             "ticks": ""
            },
            "type": "contourcarpet"
           }
          ],
          "heatmap": [
           {
            "colorbar": {
             "outlinewidth": 0,
             "ticks": ""
            },
            "colorscale": [
             [
              0,
              "#0d0887"
             ],
             [
              0.1111111111111111,
              "#46039f"
             ],
             [
              0.2222222222222222,
              "#7201a8"
             ],
             [
              0.3333333333333333,
              "#9c179e"
             ],
             [
              0.4444444444444444,
              "#bd3786"
             ],
             [
              0.5555555555555556,
              "#d8576b"
             ],
             [
              0.6666666666666666,
              "#ed7953"
             ],
             [
              0.7777777777777778,
              "#fb9f3a"
             ],
             [
              0.8888888888888888,
              "#fdca26"
             ],
             [
              1,
              "#f0f921"
             ]
            ],
            "type": "heatmap"
           }
          ],
          "heatmapgl": [
           {
            "colorbar": {
             "outlinewidth": 0,
             "ticks": ""
            },
            "colorscale": [
             [
              0,
              "#0d0887"
             ],
             [
              0.1111111111111111,
              "#46039f"
             ],
             [
              0.2222222222222222,
              "#7201a8"
             ],
             [
              0.3333333333333333,
              "#9c179e"
             ],
             [
              0.4444444444444444,
              "#bd3786"
             ],
             [
              0.5555555555555556,
              "#d8576b"
             ],
             [
              0.6666666666666666,
              "#ed7953"
             ],
             [
              0.7777777777777778,
              "#fb9f3a"
             ],
             [
              0.8888888888888888,
              "#fdca26"
             ],
             [
              1,
              "#f0f921"
             ]
            ],
            "type": "heatmapgl"
           }
          ],
          "histogram": [
           {
            "marker": {
             "colorbar": {
              "outlinewidth": 0,
              "ticks": ""
             }
            },
            "type": "histogram"
           }
          ],
          "histogram2d": [
           {
            "colorbar": {
             "outlinewidth": 0,
             "ticks": ""
            },
            "colorscale": [
             [
              0,
              "#0d0887"
             ],
             [
              0.1111111111111111,
              "#46039f"
             ],
             [
              0.2222222222222222,
              "#7201a8"
             ],
             [
              0.3333333333333333,
              "#9c179e"
             ],
             [
              0.4444444444444444,
              "#bd3786"
             ],
             [
              0.5555555555555556,
              "#d8576b"
             ],
             [
              0.6666666666666666,
              "#ed7953"
             ],
             [
              0.7777777777777778,
              "#fb9f3a"
             ],
             [
              0.8888888888888888,
              "#fdca26"
             ],
             [
              1,
              "#f0f921"
             ]
            ],
            "type": "histogram2d"
           }
          ],
          "histogram2dcontour": [
           {
            "colorbar": {
             "outlinewidth": 0,
             "ticks": ""
            },
            "colorscale": [
             [
              0,
              "#0d0887"
             ],
             [
              0.1111111111111111,
              "#46039f"
             ],
             [
              0.2222222222222222,
              "#7201a8"
             ],
             [
              0.3333333333333333,
              "#9c179e"
             ],
             [
              0.4444444444444444,
              "#bd3786"
             ],
             [
              0.5555555555555556,
              "#d8576b"
             ],
             [
              0.6666666666666666,
              "#ed7953"
             ],
             [
              0.7777777777777778,
              "#fb9f3a"
             ],
             [
              0.8888888888888888,
              "#fdca26"
             ],
             [
              1,
              "#f0f921"
             ]
            ],
            "type": "histogram2dcontour"
           }
          ],
          "mesh3d": [
           {
            "colorbar": {
             "outlinewidth": 0,
             "ticks": ""
            },
            "type": "mesh3d"
           }
          ],
          "parcoords": [
           {
            "line": {
             "colorbar": {
              "outlinewidth": 0,
              "ticks": ""
             }
            },
            "type": "parcoords"
           }
          ],
          "scatter": [
           {
            "marker": {
             "colorbar": {
              "outlinewidth": 0,
              "ticks": ""
             }
            },
            "type": "scatter"
           }
          ],
          "scatter3d": [
           {
            "line": {
             "colorbar": {
              "outlinewidth": 0,
              "ticks": ""
             }
            },
            "marker": {
             "colorbar": {
              "outlinewidth": 0,
              "ticks": ""
             }
            },
            "type": "scatter3d"
           }
          ],
          "scattercarpet": [
           {
            "marker": {
             "colorbar": {
              "outlinewidth": 0,
              "ticks": ""
             }
            },
            "type": "scattercarpet"
           }
          ],
          "scattergeo": [
           {
            "marker": {
             "colorbar": {
              "outlinewidth": 0,
              "ticks": ""
             }
            },
            "type": "scattergeo"
           }
          ],
          "scattergl": [
           {
            "marker": {
             "colorbar": {
              "outlinewidth": 0,
              "ticks": ""
             }
            },
            "type": "scattergl"
           }
          ],
          "scattermapbox": [
           {
            "marker": {
             "colorbar": {
              "outlinewidth": 0,
              "ticks": ""
             }
            },
            "type": "scattermapbox"
           }
          ],
          "scatterpolar": [
           {
            "marker": {
             "colorbar": {
              "outlinewidth": 0,
              "ticks": ""
             }
            },
            "type": "scatterpolar"
           }
          ],
          "scatterpolargl": [
           {
            "marker": {
             "colorbar": {
              "outlinewidth": 0,
              "ticks": ""
             }
            },
            "type": "scatterpolargl"
           }
          ],
          "scatterternary": [
           {
            "marker": {
             "colorbar": {
              "outlinewidth": 0,
              "ticks": ""
             }
            },
            "type": "scatterternary"
           }
          ],
          "surface": [
           {
            "colorbar": {
             "outlinewidth": 0,
             "ticks": ""
            },
            "colorscale": [
             [
              0,
              "#0d0887"
             ],
             [
              0.1111111111111111,
              "#46039f"
             ],
             [
              0.2222222222222222,
              "#7201a8"
             ],
             [
              0.3333333333333333,
              "#9c179e"
             ],
             [
              0.4444444444444444,
              "#bd3786"
             ],
             [
              0.5555555555555556,
              "#d8576b"
             ],
             [
              0.6666666666666666,
              "#ed7953"
             ],
             [
              0.7777777777777778,
              "#fb9f3a"
             ],
             [
              0.8888888888888888,
              "#fdca26"
             ],
             [
              1,
              "#f0f921"
             ]
            ],
            "type": "surface"
           }
          ],
          "table": [
           {
            "cells": {
             "fill": {
              "color": "#EBF0F8"
             },
             "line": {
              "color": "white"
             }
            },
            "header": {
             "fill": {
              "color": "#C8D4E3"
             },
             "line": {
              "color": "white"
             }
            },
            "type": "table"
           }
          ]
         },
         "layout": {
          "annotationdefaults": {
           "arrowcolor": "#2a3f5f",
           "arrowhead": 0,
           "arrowwidth": 1
          },
          "colorscale": {
           "diverging": [
            [
             0,
             "#8e0152"
            ],
            [
             0.1,
             "#c51b7d"
            ],
            [
             0.2,
             "#de77ae"
            ],
            [
             0.3,
             "#f1b6da"
            ],
            [
             0.4,
             "#fde0ef"
            ],
            [
             0.5,
             "#f7f7f7"
            ],
            [
             0.6,
             "#e6f5d0"
            ],
            [
             0.7,
             "#b8e186"
            ],
            [
             0.8,
             "#7fbc41"
            ],
            [
             0.9,
             "#4d9221"
            ],
            [
             1,
             "#276419"
            ]
           ],
           "sequential": [
            [
             0,
             "#0d0887"
            ],
            [
             0.1111111111111111,
             "#46039f"
            ],
            [
             0.2222222222222222,
             "#7201a8"
            ],
            [
             0.3333333333333333,
             "#9c179e"
            ],
            [
             0.4444444444444444,
             "#bd3786"
            ],
            [
             0.5555555555555556,
             "#d8576b"
            ],
            [
             0.6666666666666666,
             "#ed7953"
            ],
            [
             0.7777777777777778,
             "#fb9f3a"
            ],
            [
             0.8888888888888888,
             "#fdca26"
            ],
            [
             1,
             "#f0f921"
            ]
           ],
           "sequentialminus": [
            [
             0,
             "#0d0887"
            ],
            [
             0.1111111111111111,
             "#46039f"
            ],
            [
             0.2222222222222222,
             "#7201a8"
            ],
            [
             0.3333333333333333,
             "#9c179e"
            ],
            [
             0.4444444444444444,
             "#bd3786"
            ],
            [
             0.5555555555555556,
             "#d8576b"
            ],
            [
             0.6666666666666666,
             "#ed7953"
            ],
            [
             0.7777777777777778,
             "#fb9f3a"
            ],
            [
             0.8888888888888888,
             "#fdca26"
            ],
            [
             1,
             "#f0f921"
            ]
           ]
          },
          "colorway": [
           "#636efa",
           "#EF553B",
           "#00cc96",
           "#ab63fa",
           "#FFA15A",
           "#19d3f3",
           "#FF6692",
           "#B6E880",
           "#FF97FF",
           "#FECB52"
          ],
          "font": {
           "color": "#2a3f5f"
          },
          "geo": {
           "bgcolor": "white",
           "lakecolor": "white",
           "landcolor": "#E5ECF6",
           "showlakes": true,
           "showland": true,
           "subunitcolor": "white"
          },
          "hoverlabel": {
           "align": "left"
          },
          "hovermode": "closest",
          "mapbox": {
           "style": "light"
          },
          "paper_bgcolor": "white",
          "plot_bgcolor": "#E5ECF6",
          "polar": {
           "angularaxis": {
            "gridcolor": "white",
            "linecolor": "white",
            "ticks": ""
           },
           "bgcolor": "#E5ECF6",
           "radialaxis": {
            "gridcolor": "white",
            "linecolor": "white",
            "ticks": ""
           }
          },
          "scene": {
           "xaxis": {
            "backgroundcolor": "#E5ECF6",
            "gridcolor": "white",
            "gridwidth": 2,
            "linecolor": "white",
            "showbackground": true,
            "ticks": "",
            "zerolinecolor": "white"
           },
           "yaxis": {
            "backgroundcolor": "#E5ECF6",
            "gridcolor": "white",
            "gridwidth": 2,
            "linecolor": "white",
            "showbackground": true,
            "ticks": "",
            "zerolinecolor": "white"
           },
           "zaxis": {
            "backgroundcolor": "#E5ECF6",
            "gridcolor": "white",
            "gridwidth": 2,
            "linecolor": "white",
            "showbackground": true,
            "ticks": "",
            "zerolinecolor": "white"
           }
          },
          "shapedefaults": {
           "line": {
            "color": "#2a3f5f"
           }
          },
          "ternary": {
           "aaxis": {
            "gridcolor": "white",
            "linecolor": "white",
            "ticks": ""
           },
           "baxis": {
            "gridcolor": "white",
            "linecolor": "white",
            "ticks": ""
           },
           "bgcolor": "#E5ECF6",
           "caxis": {
            "gridcolor": "white",
            "linecolor": "white",
            "ticks": ""
           }
          },
          "title": {
           "x": 0.05
          },
          "xaxis": {
           "automargin": true,
           "gridcolor": "white",
           "linecolor": "white",
           "ticks": "",
           "zerolinecolor": "white",
           "zerolinewidth": 2
          },
          "yaxis": {
           "automargin": true,
           "gridcolor": "white",
           "linecolor": "white",
           "ticks": "",
           "zerolinecolor": "white",
           "zerolinewidth": 2
          }
         }
        }
       }
      },
      "text/html": [
       "<div>\n",
       "        \n",
       "        \n",
       "            <div id=\"5486b188-b4ce-4528-97ae-5e43954277ca\" class=\"plotly-graph-div\" style=\"height:525px; width:100%;\"></div>\n",
       "            <script type=\"text/javascript\">\n",
       "                require([\"plotly\"], function(Plotly) {\n",
       "                    window.PLOTLYENV=window.PLOTLYENV || {};\n",
       "                    \n",
       "                if (document.getElementById(\"5486b188-b4ce-4528-97ae-5e43954277ca\")) {\n",
       "                    Plotly.newPlot(\n",
       "                        '5486b188-b4ce-4528-97ae-5e43954277ca',\n",
       "                        [{\"mode\": \"markers\", \"name\": \"data\", \"text\": [], \"type\": \"scatter\", \"x\": [100, 200, 250, 325, 400], \"y\": [275, 300, 550, 525, 700]}, {\"mode\": \"lines\", \"name\": \"line function\", \"type\": \"scatter\", \"x\": [100, 200, 250, 325, 400], \"y\": [275.03000000000003, 416.73, 487.58000000000004, 593.855, 700.1300000000001]}, {\"marker\": {\"color\": \"red\"}, \"mode\": \"lines\", \"name\": \"error at 100\", \"text\": [\"-0.03000000000002956\"], \"textposition\": \"top right\", \"type\": \"scatter\", \"x\": [100, 100], \"y\": [275, 275.03000000000003]}, {\"marker\": {\"color\": \"red\"}, \"mode\": \"lines\", \"name\": \"error at 200\", \"text\": [\"-116.73000000000002\"], \"textposition\": \"top right\", \"type\": \"scatter\", \"x\": [200, 200], \"y\": [300, 416.73]}, {\"marker\": {\"color\": \"red\"}, \"mode\": \"lines\", \"name\": \"error at 250\", \"text\": [\"62.41999999999996\"], \"textposition\": \"top right\", \"type\": \"scatter\", \"x\": [250, 250], \"y\": [550, 487.58000000000004]}, {\"marker\": {\"color\": \"red\"}, \"mode\": \"lines\", \"name\": \"error at 325\", \"text\": [\"-68.85500000000002\"], \"textposition\": \"top right\", \"type\": \"scatter\", \"x\": [325, 325], \"y\": [525, 593.855]}, {\"marker\": {\"color\": \"red\"}, \"mode\": \"lines\", \"name\": \"error at 400\", \"text\": [\"-0.13000000000010914\"], \"textposition\": \"top right\", \"type\": \"scatter\", \"x\": [400, 400], \"y\": [700, 700.1300000000001]}],\n",
       "                        {\"template\": {\"data\": {\"bar\": [{\"error_x\": {\"color\": \"#2a3f5f\"}, \"error_y\": {\"color\": \"#2a3f5f\"}, \"marker\": {\"line\": {\"color\": \"#E5ECF6\", \"width\": 0.5}}, \"type\": \"bar\"}], \"barpolar\": [{\"marker\": {\"line\": {\"color\": \"#E5ECF6\", \"width\": 0.5}}, \"type\": \"barpolar\"}], \"carpet\": [{\"aaxis\": {\"endlinecolor\": \"#2a3f5f\", \"gridcolor\": \"white\", \"linecolor\": \"white\", \"minorgridcolor\": \"white\", \"startlinecolor\": \"#2a3f5f\"}, \"baxis\": {\"endlinecolor\": \"#2a3f5f\", \"gridcolor\": \"white\", \"linecolor\": \"white\", \"minorgridcolor\": \"white\", \"startlinecolor\": \"#2a3f5f\"}, \"type\": \"carpet\"}], \"choropleth\": [{\"colorbar\": {\"outlinewidth\": 0, \"ticks\": \"\"}, \"type\": \"choropleth\"}], \"contour\": [{\"colorbar\": {\"outlinewidth\": 0, \"ticks\": \"\"}, \"colorscale\": [[0.0, \"#0d0887\"], [0.1111111111111111, \"#46039f\"], [0.2222222222222222, \"#7201a8\"], [0.3333333333333333, \"#9c179e\"], [0.4444444444444444, \"#bd3786\"], [0.5555555555555556, \"#d8576b\"], [0.6666666666666666, \"#ed7953\"], [0.7777777777777778, \"#fb9f3a\"], [0.8888888888888888, \"#fdca26\"], [1.0, \"#f0f921\"]], \"type\": \"contour\"}], \"contourcarpet\": [{\"colorbar\": {\"outlinewidth\": 0, \"ticks\": \"\"}, \"type\": \"contourcarpet\"}], \"heatmap\": [{\"colorbar\": {\"outlinewidth\": 0, \"ticks\": \"\"}, \"colorscale\": [[0.0, \"#0d0887\"], [0.1111111111111111, \"#46039f\"], [0.2222222222222222, \"#7201a8\"], [0.3333333333333333, \"#9c179e\"], [0.4444444444444444, \"#bd3786\"], [0.5555555555555556, \"#d8576b\"], [0.6666666666666666, \"#ed7953\"], [0.7777777777777778, \"#fb9f3a\"], [0.8888888888888888, \"#fdca26\"], [1.0, \"#f0f921\"]], \"type\": \"heatmap\"}], \"heatmapgl\": [{\"colorbar\": {\"outlinewidth\": 0, \"ticks\": \"\"}, \"colorscale\": [[0.0, \"#0d0887\"], [0.1111111111111111, \"#46039f\"], [0.2222222222222222, \"#7201a8\"], [0.3333333333333333, \"#9c179e\"], [0.4444444444444444, \"#bd3786\"], [0.5555555555555556, \"#d8576b\"], [0.6666666666666666, \"#ed7953\"], [0.7777777777777778, \"#fb9f3a\"], [0.8888888888888888, \"#fdca26\"], [1.0, \"#f0f921\"]], \"type\": \"heatmapgl\"}], \"histogram\": [{\"marker\": {\"colorbar\": {\"outlinewidth\": 0, \"ticks\": \"\"}}, \"type\": \"histogram\"}], \"histogram2d\": [{\"colorbar\": {\"outlinewidth\": 0, \"ticks\": \"\"}, \"colorscale\": [[0.0, \"#0d0887\"], [0.1111111111111111, \"#46039f\"], [0.2222222222222222, \"#7201a8\"], [0.3333333333333333, \"#9c179e\"], [0.4444444444444444, \"#bd3786\"], [0.5555555555555556, \"#d8576b\"], [0.6666666666666666, \"#ed7953\"], [0.7777777777777778, \"#fb9f3a\"], [0.8888888888888888, \"#fdca26\"], [1.0, \"#f0f921\"]], \"type\": \"histogram2d\"}], \"histogram2dcontour\": [{\"colorbar\": {\"outlinewidth\": 0, \"ticks\": \"\"}, \"colorscale\": [[0.0, \"#0d0887\"], [0.1111111111111111, \"#46039f\"], [0.2222222222222222, \"#7201a8\"], [0.3333333333333333, \"#9c179e\"], [0.4444444444444444, \"#bd3786\"], [0.5555555555555556, \"#d8576b\"], [0.6666666666666666, \"#ed7953\"], [0.7777777777777778, \"#fb9f3a\"], [0.8888888888888888, \"#fdca26\"], [1.0, \"#f0f921\"]], \"type\": \"histogram2dcontour\"}], \"mesh3d\": [{\"colorbar\": {\"outlinewidth\": 0, \"ticks\": \"\"}, \"type\": \"mesh3d\"}], \"parcoords\": [{\"line\": {\"colorbar\": {\"outlinewidth\": 0, \"ticks\": \"\"}}, \"type\": \"parcoords\"}], \"scatter\": [{\"marker\": {\"colorbar\": {\"outlinewidth\": 0, \"ticks\": \"\"}}, \"type\": \"scatter\"}], \"scatter3d\": [{\"line\": {\"colorbar\": {\"outlinewidth\": 0, \"ticks\": \"\"}}, \"marker\": {\"colorbar\": {\"outlinewidth\": 0, \"ticks\": \"\"}}, \"type\": \"scatter3d\"}], \"scattercarpet\": [{\"marker\": {\"colorbar\": {\"outlinewidth\": 0, \"ticks\": \"\"}}, \"type\": \"scattercarpet\"}], \"scattergeo\": [{\"marker\": {\"colorbar\": {\"outlinewidth\": 0, \"ticks\": \"\"}}, \"type\": \"scattergeo\"}], \"scattergl\": [{\"marker\": {\"colorbar\": {\"outlinewidth\": 0, \"ticks\": \"\"}}, \"type\": \"scattergl\"}], \"scattermapbox\": [{\"marker\": {\"colorbar\": {\"outlinewidth\": 0, \"ticks\": \"\"}}, \"type\": \"scattermapbox\"}], \"scatterpolar\": [{\"marker\": {\"colorbar\": {\"outlinewidth\": 0, \"ticks\": \"\"}}, \"type\": \"scatterpolar\"}], \"scatterpolargl\": [{\"marker\": {\"colorbar\": {\"outlinewidth\": 0, \"ticks\": \"\"}}, \"type\": \"scatterpolargl\"}], \"scatterternary\": [{\"marker\": {\"colorbar\": {\"outlinewidth\": 0, \"ticks\": \"\"}}, \"type\": \"scatterternary\"}], \"surface\": [{\"colorbar\": {\"outlinewidth\": 0, \"ticks\": \"\"}, \"colorscale\": [[0.0, \"#0d0887\"], [0.1111111111111111, \"#46039f\"], [0.2222222222222222, \"#7201a8\"], [0.3333333333333333, \"#9c179e\"], [0.4444444444444444, \"#bd3786\"], [0.5555555555555556, \"#d8576b\"], [0.6666666666666666, \"#ed7953\"], [0.7777777777777778, \"#fb9f3a\"], [0.8888888888888888, \"#fdca26\"], [1.0, \"#f0f921\"]], \"type\": \"surface\"}], \"table\": [{\"cells\": {\"fill\": {\"color\": \"#EBF0F8\"}, \"line\": {\"color\": \"white\"}}, \"header\": {\"fill\": {\"color\": \"#C8D4E3\"}, \"line\": {\"color\": \"white\"}}, \"type\": \"table\"}]}, \"layout\": {\"annotationdefaults\": {\"arrowcolor\": \"#2a3f5f\", \"arrowhead\": 0, \"arrowwidth\": 1}, \"colorscale\": {\"diverging\": [[0, \"#8e0152\"], [0.1, \"#c51b7d\"], [0.2, \"#de77ae\"], [0.3, \"#f1b6da\"], [0.4, \"#fde0ef\"], [0.5, \"#f7f7f7\"], [0.6, \"#e6f5d0\"], [0.7, \"#b8e186\"], [0.8, \"#7fbc41\"], [0.9, \"#4d9221\"], [1, \"#276419\"]], \"sequential\": [[0.0, \"#0d0887\"], [0.1111111111111111, \"#46039f\"], [0.2222222222222222, \"#7201a8\"], [0.3333333333333333, \"#9c179e\"], [0.4444444444444444, \"#bd3786\"], [0.5555555555555556, \"#d8576b\"], [0.6666666666666666, \"#ed7953\"], [0.7777777777777778, \"#fb9f3a\"], [0.8888888888888888, \"#fdca26\"], [1.0, \"#f0f921\"]], \"sequentialminus\": [[0.0, \"#0d0887\"], [0.1111111111111111, \"#46039f\"], [0.2222222222222222, \"#7201a8\"], [0.3333333333333333, \"#9c179e\"], [0.4444444444444444, \"#bd3786\"], [0.5555555555555556, \"#d8576b\"], [0.6666666666666666, \"#ed7953\"], [0.7777777777777778, \"#fb9f3a\"], [0.8888888888888888, \"#fdca26\"], [1.0, \"#f0f921\"]]}, \"colorway\": [\"#636efa\", \"#EF553B\", \"#00cc96\", \"#ab63fa\", \"#FFA15A\", \"#19d3f3\", \"#FF6692\", \"#B6E880\", \"#FF97FF\", \"#FECB52\"], \"font\": {\"color\": \"#2a3f5f\"}, \"geo\": {\"bgcolor\": \"white\", \"lakecolor\": \"white\", \"landcolor\": \"#E5ECF6\", \"showlakes\": true, \"showland\": true, \"subunitcolor\": \"white\"}, \"hoverlabel\": {\"align\": \"left\"}, \"hovermode\": \"closest\", \"mapbox\": {\"style\": \"light\"}, \"paper_bgcolor\": \"white\", \"plot_bgcolor\": \"#E5ECF6\", \"polar\": {\"angularaxis\": {\"gridcolor\": \"white\", \"linecolor\": \"white\", \"ticks\": \"\"}, \"bgcolor\": \"#E5ECF6\", \"radialaxis\": {\"gridcolor\": \"white\", \"linecolor\": \"white\", \"ticks\": \"\"}}, \"scene\": {\"xaxis\": {\"backgroundcolor\": \"#E5ECF6\", \"gridcolor\": \"white\", \"gridwidth\": 2, \"linecolor\": \"white\", \"showbackground\": true, \"ticks\": \"\", \"zerolinecolor\": \"white\"}, \"yaxis\": {\"backgroundcolor\": \"#E5ECF6\", \"gridcolor\": \"white\", \"gridwidth\": 2, \"linecolor\": \"white\", \"showbackground\": true, \"ticks\": \"\", \"zerolinecolor\": \"white\"}, \"zaxis\": {\"backgroundcolor\": \"#E5ECF6\", \"gridcolor\": \"white\", \"gridwidth\": 2, \"linecolor\": \"white\", \"showbackground\": true, \"ticks\": \"\", \"zerolinecolor\": \"white\"}}, \"shapedefaults\": {\"line\": {\"color\": \"#2a3f5f\"}}, \"ternary\": {\"aaxis\": {\"gridcolor\": \"white\", \"linecolor\": \"white\", \"ticks\": \"\"}, \"baxis\": {\"gridcolor\": \"white\", \"linecolor\": \"white\", \"ticks\": \"\"}, \"bgcolor\": \"#E5ECF6\", \"caxis\": {\"gridcolor\": \"white\", \"linecolor\": \"white\", \"ticks\": \"\"}}, \"title\": {\"x\": 0.05}, \"xaxis\": {\"automargin\": true, \"gridcolor\": \"white\", \"linecolor\": \"white\", \"ticks\": \"\", \"zerolinecolor\": \"white\", \"zerolinewidth\": 2}, \"yaxis\": {\"automargin\": true, \"gridcolor\": \"white\", \"linecolor\": \"white\", \"ticks\": \"\", \"zerolinecolor\": \"white\", \"zerolinewidth\": 2}}}},\n",
       "                        {\"responsive\": true}\n",
       "                    ).then(function(){\n",
       "                            \n",
       "var gd = document.getElementById('5486b188-b4ce-4528-97ae-5e43954277ca');\n",
       "var x = new MutationObserver(function (mutations, observer) {{\n",
       "        var display = window.getComputedStyle(gd).display;\n",
       "        if (!display || display === 'none') {{\n",
       "            console.log([gd, 'removed!']);\n",
       "            Plotly.purge(gd);\n",
       "            observer.disconnect();\n",
       "        }}\n",
       "}});\n",
       "\n",
       "// Listen for the removal of the full notebook cells\n",
       "var notebookContainer = gd.closest('#notebook-container');\n",
       "if (notebookContainer) {{\n",
       "    x.observe(notebookContainer, {childList: true});\n",
       "}}\n",
       "\n",
       "// Listen for the clearing of the current output cell\n",
       "var outputEl = gd.closest('.output');\n",
       "if (outputEl) {{\n",
       "    x.observe(outputEl, {childList: true});\n",
       "}}\n",
       "\n",
       "                        })\n",
       "                };\n",
       "                });\n",
       "            </script>\n",
       "        </div>"
      ]
     },
     "metadata": {},
     "output_type": "display_data"
    }
   ],
   "source": [
    "from graph import trace, plot, line_function_trace\n",
    "\n",
    "def y_actual(x, x_values, y_values):\n",
    "    combined_values = list(zip(x_values, y_values))\n",
    "    point_at_x = list(filter(lambda point: point[0] == x,combined_values))[0]\n",
    "    return point_at_x[1]\n",
    "\n",
    "def error_line_trace(x_values, y_values, m, b, x):\n",
    "    y_hat = m*x + b\n",
    "    y = y_actual(x, x_values, y_values)\n",
    "    name = 'error at ' + str(x)\n",
    "    error_value = y - y_hat\n",
    "    return {'x': [x, x], 'y': [y, y_hat], 'mode': 'lines', 'marker': {'color': 'red'}, 'name': name, 'text': [error_value], 'textposition':'top right'}\n",
    "\n",
    "def error_line_traces(x_values, y_values, m, b):\n",
    "    return list(map(lambda x_value: error_line_trace(x_values, y_values, m, b, x_value), x_values))\n",
    "\n",
    "errors = error_line_traces(budgets, revenues, 1.417, 133.33)\n",
    "plot([scatter_trace, regression_trace, *errors])"
   ]
  },
  {
   "cell_type": "markdown",
   "metadata": {},
   "source": [
    "From there, we calculate the `residual sum of squared errors` and the `root mean squared error`:"
   ]
  },
  {
   "cell_type": "code",
   "execution_count": 9,
   "metadata": {
    "scrolled": true
   },
   "outputs": [
    {
     "data": {
      "text/plain": [
       "66.73"
      ]
     },
     "execution_count": 9,
     "metadata": {},
     "output_type": "execute_result"
    }
   ],
   "source": [
    "import math\n",
    "def error(x_values, y_values, m, b, x):\n",
    "    expected = (m*x + b)\n",
    "    return (y_actual(x, x_values, y_values) - expected)\n",
    "\n",
    "def squared_error(x_values, y_values, m, b, x):\n",
    "    return round(error(x_values, y_values, m, b, x)**2, 2)\n",
    "\n",
    "def squared_errors(x_values, y_values, m, b):\n",
    "    return list(map(lambda x: squared_error(x_values, y_values, m, b, x), x_values))\n",
    "\n",
    "def residual_sum_squares(x_values, y_values, m, b):\n",
    "    return round(sum(squared_errors(x_values, y_values, m, b)), 2)\n",
    "\n",
    "def root_mean_squared_error(x_values, y_values, m, b):\n",
    "    return round(math.sqrt(sum(squared_errors(x_values, y_values, m, b))/len(x_values)), 2)\n",
    "\n",
    "squared_errors(budgets, revenues, 1.417, 133.33) #[0.0, 13625.89, 3896.26, 4741.01, 0.02]\n",
    "residual_sum_squares(budgets, revenues, 1.417, 133.33) # 22263.18\n",
    "root_mean_squared_error(budgets, revenues, 1.417, 133.33) # 66.73"
   ]
  },
  {
   "cell_type": "markdown",
   "metadata": {},
   "source": [
    "### Moving towards gradient descent"
   ]
  },
  {
   "cell_type": "markdown",
   "metadata": {},
   "source": [
    "Now that we have the residual sum of squares function to evaluate the accuracy of our regression line, we can simply try out different regression lines and use the regression line that has the lowest RSS.  The regression line that produces the lowest RSS for a given dataset is called the \"best fit\" line for that dataset.  \n",
    "\n",
    "So this will be our technique for finding our \"best fit\" line:\n",
    "\n",
    "> * Choose a regression line with a guess of values for $m$ and $b$\n",
    "> * Calculate the RSS\n",
    "> * Adjust $m$ and $b$, as these are the only things that can vary in a single-variable regression line.\n",
    "> * Again calculate the RSS \n",
    "> * Repeat this process\n",
    "> * The regression line (that is, the values of $b$ and $m$) with the smallest RSS is our **best fit line**\n",
    "\n",
    "We'll eventually tweak and improve upon that process, but for now it will do.  In fact, we will make things even easier at first by holding $m$ fixed to a constant value while we experiment with different $b$ values.  In later lessons, we will change both variables."
   ]
  },
  {
   "cell_type": "markdown",
   "metadata": {},
   "source": [
    "#### Updating the regression line to improve accuracy"
   ]
  },
  {
   "cell_type": "code",
   "execution_count": 19,
   "metadata": {},
   "outputs": [
    {
     "data": {
      "text/plain": [
       "[1, 4]"
      ]
     },
     "execution_count": 19,
     "metadata": {},
     "output_type": "execute_result"
    }
   ],
   "source": [
    "list(range(0,5,4))"
   ]
  },
  {
   "cell_type": "markdown",
   "metadata": {},
   "source": [
    "Ok, so we have a regression line of $\\hat{y} = mx + b $, and we started with values of $m = 1.417 $ and $b = 133.33 $.  Then seeing how well this regression line matched our dataset, we calculated that $ RSS = 22,263.18 $.  Our next step is to plug in different values of $b$ and see how RSS changes.  Let's try $b$ = 140 instead of $133.33$."
   ]
  },
  {
   "cell_type": "code",
   "execution_count": 10,
   "metadata": {
    "scrolled": true
   },
   "outputs": [
    {
     "data": {
      "text/plain": [
       "{'name2': 'rss', 'RSS': 20}"
      ]
     },
     "execution_count": 10,
     "metadata": {},
     "output_type": "execute_result"
    }
   ],
   "source": [
    "min([{'name0':'rss','RSS':23},{'name1':'rss','RSS':25},{'name2':'rss','RSS':20}], key=lambda x:x['RSS'])"
   ]
  },
  {
   "cell_type": "code",
   "execution_count": 87,
   "metadata": {},
   "outputs": [
    {
     "data": {
      "text/plain": [
       "[0,\n",
       " 3,\n",
       " 6,\n",
       " 9,\n",
       " 12,\n",
       " 15,\n",
       " 18,\n",
       " 21,\n",
       " 24,\n",
       " 27,\n",
       " 30,\n",
       " 33,\n",
       " 36,\n",
       " 39,\n",
       " 42,\n",
       " 45,\n",
       " 48,\n",
       " 51,\n",
       " 54,\n",
       " 57,\n",
       " 60,\n",
       " 63,\n",
       " 66,\n",
       " 69,\n",
       " 72,\n",
       " 75,\n",
       " 78,\n",
       " 81,\n",
       " 84,\n",
       " 87,\n",
       " 90,\n",
       " 93,\n",
       " 96,\n",
       " 99,\n",
       " 102,\n",
       " 105,\n",
       " 108,\n",
       " 111,\n",
       " 114,\n",
       " 117,\n",
       " 120,\n",
       " 123,\n",
       " 126,\n",
       " 129,\n",
       " 132,\n",
       " 135,\n",
       " 138,\n",
       " 141,\n",
       " 144,\n",
       " 147,\n",
       " 150,\n",
       " 153,\n",
       " 156,\n",
       " 159,\n",
       " 162,\n",
       " 165,\n",
       " 168,\n",
       " 171,\n",
       " 174,\n",
       " 177,\n",
       " 180,\n",
       " 183,\n",
       " 186,\n",
       " 189,\n",
       " 192,\n",
       " 195,\n",
       " 198,\n",
       " 201,\n",
       " 204,\n",
       " 207,\n",
       " 210,\n",
       " 213,\n",
       " 216,\n",
       " 219,\n",
       " 222,\n",
       " 225,\n",
       " 228,\n",
       " 231,\n",
       " 234,\n",
       " 237,\n",
       " 240,\n",
       " 243,\n",
       " 246,\n",
       " 249,\n",
       " 252,\n",
       " 255,\n",
       " 258,\n",
       " 261,\n",
       " 264,\n",
       " 267,\n",
       " 270,\n",
       " 273,\n",
       " 276,\n",
       " 279,\n",
       " 282,\n",
       " 285,\n",
       " 288,\n",
       " 291,\n",
       " 294,\n",
       " 297]"
      ]
     },
     "execution_count": 87,
     "metadata": {},
     "output_type": "execute_result"
    }
   ],
   "source": [
    "def sequence(start,n,d):\n",
    "    x=[]\n",
    "    k=start\n",
    "    N=0\n",
    "    while N<n:\n",
    "        x.append(round(k,3))\n",
    "        N+=1\n",
    "        k+=d\n",
    "    return x\n",
    "    \n",
    "\n",
    "sequence(start=0,n=100,d=3)"
   ]
  },
  {
   "cell_type": "code",
   "execution_count": 89,
   "metadata": {},
   "outputs": [],
   "source": [
    "def RSSs():\n",
    "    z=[]\n",
    "    for m in sequence(start=1,n=30,d=.1):\n",
    "        for b in sequence(start=0,n=100,d=3):\n",
    "            k={'RSS':residual_sum_squares(budgets, revenues, m, b),'name':f'm:{m}; b:{b}'}\n",
    "            z.append(k)\n",
    "    print(len(z),z)\n",
    "    return min(list(z), key=lambda x:x['RSS'])"
   ]
  },
  {
   "cell_type": "code",
   "execution_count": 70,
   "metadata": {},
   "outputs": [],
   "source": [
    "def function():\n",
    "    z=[]\n",
    "    for x in [1,2,3]:\n",
    "        for y in [1,2]:\n",
    "            print(x,y)\n",
    "            z.append({'x':x,'y':y})\n",
    "        print(z)"
   ]
  },
  {
   "cell_type": "code",
   "execution_count": 90,
   "metadata": {},
   "outputs": [
    {
     "name": "stdout",
     "output_type": "stream",
     "text": [
      "3000 [{'RSS': 260625, 'name': 'm:1; b:0'}, {'RSS': 254220, 'name': 'm:1; b:3'}, {'RSS': 247905, 'name': 'm:1; b:6'}, {'RSS': 241680, 'name': 'm:1; b:9'}, {'RSS': 235545, 'name': 'm:1; b:12'}, {'RSS': 229500, 'name': 'm:1; b:15'}, {'RSS': 223545, 'name': 'm:1; b:18'}, {'RSS': 217680, 'name': 'm:1; b:21'}, {'RSS': 211905, 'name': 'm:1; b:24'}, {'RSS': 206220, 'name': 'm:1; b:27'}, {'RSS': 200625, 'name': 'm:1; b:30'}, {'RSS': 195120, 'name': 'm:1; b:33'}, {'RSS': 189705, 'name': 'm:1; b:36'}, {'RSS': 184380, 'name': 'm:1; b:39'}, {'RSS': 179145, 'name': 'm:1; b:42'}, {'RSS': 174000, 'name': 'm:1; b:45'}, {'RSS': 168945, 'name': 'm:1; b:48'}, {'RSS': 163980, 'name': 'm:1; b:51'}, {'RSS': 159105, 'name': 'm:1; b:54'}, {'RSS': 154320, 'name': 'm:1; b:57'}, {'RSS': 149625, 'name': 'm:1; b:60'}, {'RSS': 145020, 'name': 'm:1; b:63'}, {'RSS': 140505, 'name': 'm:1; b:66'}, {'RSS': 136080, 'name': 'm:1; b:69'}, {'RSS': 131745, 'name': 'm:1; b:72'}, {'RSS': 127500, 'name': 'm:1; b:75'}, {'RSS': 123345, 'name': 'm:1; b:78'}, {'RSS': 119280, 'name': 'm:1; b:81'}, {'RSS': 115305, 'name': 'm:1; b:84'}, {'RSS': 111420, 'name': 'm:1; b:87'}, {'RSS': 107625, 'name': 'm:1; b:90'}, {'RSS': 103920, 'name': 'm:1; b:93'}, {'RSS': 100305, 'name': 'm:1; b:96'}, {'RSS': 96780, 'name': 'm:1; b:99'}, {'RSS': 93345, 'name': 'm:1; b:102'}, {'RSS': 90000, 'name': 'm:1; b:105'}, {'RSS': 86745, 'name': 'm:1; b:108'}, {'RSS': 83580, 'name': 'm:1; b:111'}, {'RSS': 80505, 'name': 'm:1; b:114'}, {'RSS': 77520, 'name': 'm:1; b:117'}, {'RSS': 74625, 'name': 'm:1; b:120'}, {'RSS': 71820, 'name': 'm:1; b:123'}, {'RSS': 69105, 'name': 'm:1; b:126'}, {'RSS': 66480, 'name': 'm:1; b:129'}, {'RSS': 63945, 'name': 'm:1; b:132'}, {'RSS': 61500, 'name': 'm:1; b:135'}, {'RSS': 59145, 'name': 'm:1; b:138'}, {'RSS': 56880, 'name': 'm:1; b:141'}, {'RSS': 54705, 'name': 'm:1; b:144'}, {'RSS': 52620, 'name': 'm:1; b:147'}, {'RSS': 50625, 'name': 'm:1; b:150'}, {'RSS': 48720, 'name': 'm:1; b:153'}, {'RSS': 46905, 'name': 'm:1; b:156'}, {'RSS': 45180, 'name': 'm:1; b:159'}, {'RSS': 43545, 'name': 'm:1; b:162'}, {'RSS': 42000, 'name': 'm:1; b:165'}, {'RSS': 40545, 'name': 'm:1; b:168'}, {'RSS': 39180, 'name': 'm:1; b:171'}, {'RSS': 37905, 'name': 'm:1; b:174'}, {'RSS': 36720, 'name': 'm:1; b:177'}, {'RSS': 35625, 'name': 'm:1; b:180'}, {'RSS': 34620, 'name': 'm:1; b:183'}, {'RSS': 33705, 'name': 'm:1; b:186'}, {'RSS': 32880, 'name': 'm:1; b:189'}, {'RSS': 32145, 'name': 'm:1; b:192'}, {'RSS': 31500, 'name': 'm:1; b:195'}, {'RSS': 30945, 'name': 'm:1; b:198'}, {'RSS': 30480, 'name': 'm:1; b:201'}, {'RSS': 30105, 'name': 'm:1; b:204'}, {'RSS': 29820, 'name': 'm:1; b:207'}, {'RSS': 29625, 'name': 'm:1; b:210'}, {'RSS': 29520, 'name': 'm:1; b:213'}, {'RSS': 29505, 'name': 'm:1; b:216'}, {'RSS': 29580, 'name': 'm:1; b:219'}, {'RSS': 29745, 'name': 'm:1; b:222'}, {'RSS': 30000, 'name': 'm:1; b:225'}, {'RSS': 30345, 'name': 'm:1; b:228'}, {'RSS': 30780, 'name': 'm:1; b:231'}, {'RSS': 31305, 'name': 'm:1; b:234'}, {'RSS': 31920, 'name': 'm:1; b:237'}, {'RSS': 32625, 'name': 'm:1; b:240'}, {'RSS': 33420, 'name': 'm:1; b:243'}, {'RSS': 34305, 'name': 'm:1; b:246'}, {'RSS': 35280, 'name': 'm:1; b:249'}, {'RSS': 36345, 'name': 'm:1; b:252'}, {'RSS': 37500, 'name': 'm:1; b:255'}, {'RSS': 38745, 'name': 'm:1; b:258'}, {'RSS': 40080, 'name': 'm:1; b:261'}, {'RSS': 41505, 'name': 'm:1; b:264'}, {'RSS': 43020, 'name': 'm:1; b:267'}, {'RSS': 44625, 'name': 'm:1; b:270'}, {'RSS': 46320, 'name': 'm:1; b:273'}, {'RSS': 48105, 'name': 'm:1; b:276'}, {'RSS': 49980, 'name': 'm:1; b:279'}, {'RSS': 51945, 'name': 'm:1; b:282'}, {'RSS': 54000, 'name': 'm:1; b:285'}, {'RSS': 56145, 'name': 'm:1; b:288'}, {'RSS': 58380, 'name': 'm:1; b:291'}, {'RSS': 60705, 'name': 'm:1; b:294'}, {'RSS': 63120, 'name': 'm:1; b:297'}, {'RSS': 204906.25, 'name': 'm:1.1; b:0'}, {'RSS': 199266.25, 'name': 'm:1.1; b:3'}, {'RSS': 193716.25, 'name': 'm:1.1; b:6'}, {'RSS': 188256.25, 'name': 'm:1.1; b:9'}, {'RSS': 182886.25, 'name': 'm:1.1; b:12'}, {'RSS': 177606.25, 'name': 'm:1.1; b:15'}, {'RSS': 172416.25, 'name': 'm:1.1; b:18'}, {'RSS': 167316.25, 'name': 'm:1.1; b:21'}, {'RSS': 162306.25, 'name': 'm:1.1; b:24'}, {'RSS': 157386.25, 'name': 'm:1.1; b:27'}, {'RSS': 152556.25, 'name': 'm:1.1; b:30'}, {'RSS': 147816.25, 'name': 'm:1.1; b:33'}, {'RSS': 143166.25, 'name': 'm:1.1; b:36'}, {'RSS': 138606.25, 'name': 'm:1.1; b:39'}, {'RSS': 134136.25, 'name': 'm:1.1; b:42'}, {'RSS': 129756.25, 'name': 'm:1.1; b:45'}, {'RSS': 125466.25, 'name': 'm:1.1; b:48'}, {'RSS': 121266.25, 'name': 'm:1.1; b:51'}, {'RSS': 117156.25, 'name': 'm:1.1; b:54'}, {'RSS': 113136.25, 'name': 'm:1.1; b:57'}, {'RSS': 109206.25, 'name': 'm:1.1; b:60'}, {'RSS': 105366.25, 'name': 'm:1.1; b:63'}, {'RSS': 101616.25, 'name': 'm:1.1; b:66'}, {'RSS': 97956.25, 'name': 'm:1.1; b:69'}, {'RSS': 94386.25, 'name': 'm:1.1; b:72'}, {'RSS': 90906.25, 'name': 'm:1.1; b:75'}, {'RSS': 87516.25, 'name': 'm:1.1; b:78'}, {'RSS': 84216.25, 'name': 'm:1.1; b:81'}, {'RSS': 81006.25, 'name': 'm:1.1; b:84'}, {'RSS': 77886.25, 'name': 'm:1.1; b:87'}, {'RSS': 74856.25, 'name': 'm:1.1; b:90'}, {'RSS': 71916.25, 'name': 'm:1.1; b:93'}, {'RSS': 69066.25, 'name': 'm:1.1; b:96'}, {'RSS': 66306.25, 'name': 'm:1.1; b:99'}, {'RSS': 63636.25, 'name': 'm:1.1; b:102'}, {'RSS': 61056.25, 'name': 'm:1.1; b:105'}, {'RSS': 58566.25, 'name': 'm:1.1; b:108'}, {'RSS': 56166.25, 'name': 'm:1.1; b:111'}, {'RSS': 53856.25, 'name': 'm:1.1; b:114'}, {'RSS': 51636.25, 'name': 'm:1.1; b:117'}, {'RSS': 49506.25, 'name': 'm:1.1; b:120'}, {'RSS': 47466.25, 'name': 'm:1.1; b:123'}, {'RSS': 45516.25, 'name': 'm:1.1; b:126'}, {'RSS': 43656.25, 'name': 'm:1.1; b:129'}, {'RSS': 41886.25, 'name': 'm:1.1; b:132'}, {'RSS': 40206.25, 'name': 'm:1.1; b:135'}, {'RSS': 38616.25, 'name': 'm:1.1; b:138'}, {'RSS': 37116.25, 'name': 'm:1.1; b:141'}, {'RSS': 35706.25, 'name': 'm:1.1; b:144'}, {'RSS': 34386.25, 'name': 'm:1.1; b:147'}, {'RSS': 33156.25, 'name': 'm:1.1; b:150'}, {'RSS': 32016.25, 'name': 'm:1.1; b:153'}, {'RSS': 30966.25, 'name': 'm:1.1; b:156'}, {'RSS': 30006.25, 'name': 'm:1.1; b:159'}, {'RSS': 29136.25, 'name': 'm:1.1; b:162'}, {'RSS': 28356.25, 'name': 'm:1.1; b:165'}, {'RSS': 27666.25, 'name': 'm:1.1; b:168'}, {'RSS': 27066.25, 'name': 'm:1.1; b:171'}, {'RSS': 26556.25, 'name': 'm:1.1; b:174'}, {'RSS': 26136.25, 'name': 'm:1.1; b:177'}, {'RSS': 25806.25, 'name': 'm:1.1; b:180'}, {'RSS': 25566.25, 'name': 'm:1.1; b:183'}, {'RSS': 25416.25, 'name': 'm:1.1; b:186'}, {'RSS': 25356.25, 'name': 'm:1.1; b:189'}, {'RSS': 25386.25, 'name': 'm:1.1; b:192'}, {'RSS': 25506.25, 'name': 'm:1.1; b:195'}, {'RSS': 25716.25, 'name': 'm:1.1; b:198'}, {'RSS': 26016.25, 'name': 'm:1.1; b:201'}, {'RSS': 26406.25, 'name': 'm:1.1; b:204'}, {'RSS': 26886.25, 'name': 'm:1.1; b:207'}, {'RSS': 27456.25, 'name': 'm:1.1; b:210'}, {'RSS': 28116.25, 'name': 'm:1.1; b:213'}, {'RSS': 28866.25, 'name': 'm:1.1; b:216'}, {'RSS': 29706.25, 'name': 'm:1.1; b:219'}, {'RSS': 30636.25, 'name': 'm:1.1; b:222'}, {'RSS': 31656.25, 'name': 'm:1.1; b:225'}, {'RSS': 32766.25, 'name': 'm:1.1; b:228'}, {'RSS': 33966.25, 'name': 'm:1.1; b:231'}, {'RSS': 35256.25, 'name': 'm:1.1; b:234'}, {'RSS': 36636.25, 'name': 'm:1.1; b:237'}, {'RSS': 38106.25, 'name': 'm:1.1; b:240'}, {'RSS': 39666.25, 'name': 'm:1.1; b:243'}, {'RSS': 41316.25, 'name': 'm:1.1; b:246'}, {'RSS': 43056.25, 'name': 'm:1.1; b:249'}, {'RSS': 44886.25, 'name': 'm:1.1; b:252'}, {'RSS': 46806.25, 'name': 'm:1.1; b:255'}, {'RSS': 48816.25, 'name': 'm:1.1; b:258'}, {'RSS': 50916.25, 'name': 'm:1.1; b:261'}, {'RSS': 53106.25, 'name': 'm:1.1; b:264'}, {'RSS': 55386.25, 'name': 'm:1.1; b:267'}, {'RSS': 57756.25, 'name': 'm:1.1; b:270'}, {'RSS': 60216.25, 'name': 'm:1.1; b:273'}, {'RSS': 62766.25, 'name': 'm:1.1; b:276'}, {'RSS': 65406.25, 'name': 'm:1.1; b:279'}, {'RSS': 68136.25, 'name': 'm:1.1; b:282'}, {'RSS': 70956.25, 'name': 'm:1.1; b:285'}, {'RSS': 73866.25, 'name': 'm:1.1; b:288'}, {'RSS': 76866.25, 'name': 'm:1.1; b:291'}, {'RSS': 79956.25, 'name': 'm:1.1; b:294'}, {'RSS': 83136.25, 'name': 'm:1.1; b:297'}, {'RSS': 156750.0, 'name': 'm:1.2; b:0'}, {'RSS': 151875.0, 'name': 'm:1.2; b:3'}, {'RSS': 147090.0, 'name': 'm:1.2; b:6'}, {'RSS': 142395.0, 'name': 'm:1.2; b:9'}, {'RSS': 137790.0, 'name': 'm:1.2; b:12'}, {'RSS': 133275.0, 'name': 'm:1.2; b:15'}, {'RSS': 128850.0, 'name': 'm:1.2; b:18'}, {'RSS': 124515.0, 'name': 'm:1.2; b:21'}, {'RSS': 120270.0, 'name': 'm:1.2; b:24'}, {'RSS': 116115.0, 'name': 'm:1.2; b:27'}, {'RSS': 112050.0, 'name': 'm:1.2; b:30'}, {'RSS': 108075.0, 'name': 'm:1.2; b:33'}, {'RSS': 104190.0, 'name': 'm:1.2; b:36'}, {'RSS': 100395.0, 'name': 'm:1.2; b:39'}, {'RSS': 96690.0, 'name': 'm:1.2; b:42'}, {'RSS': 93075.0, 'name': 'm:1.2; b:45'}, {'RSS': 89550.0, 'name': 'm:1.2; b:48'}, {'RSS': 86115.0, 'name': 'm:1.2; b:51'}, {'RSS': 82770.0, 'name': 'm:1.2; b:54'}, {'RSS': 79515.0, 'name': 'm:1.2; b:57'}, {'RSS': 76350.0, 'name': 'm:1.2; b:60'}, {'RSS': 73275.0, 'name': 'm:1.2; b:63'}, {'RSS': 70290.0, 'name': 'm:1.2; b:66'}, {'RSS': 67395.0, 'name': 'm:1.2; b:69'}, {'RSS': 64590.0, 'name': 'm:1.2; b:72'}, {'RSS': 61875.0, 'name': 'm:1.2; b:75'}, {'RSS': 59250.0, 'name': 'm:1.2; b:78'}, {'RSS': 56715.0, 'name': 'm:1.2; b:81'}, {'RSS': 54270.0, 'name': 'm:1.2; b:84'}, {'RSS': 51915.0, 'name': 'm:1.2; b:87'}, {'RSS': 49650.0, 'name': 'm:1.2; b:90'}, {'RSS': 47475.0, 'name': 'm:1.2; b:93'}, {'RSS': 45390.0, 'name': 'm:1.2; b:96'}, {'RSS': 43395.0, 'name': 'm:1.2; b:99'}, {'RSS': 41490.0, 'name': 'm:1.2; b:102'}, {'RSS': 39675.0, 'name': 'm:1.2; b:105'}, {'RSS': 37950.0, 'name': 'm:1.2; b:108'}, {'RSS': 36315.0, 'name': 'm:1.2; b:111'}, {'RSS': 34770.0, 'name': 'm:1.2; b:114'}, {'RSS': 33315.0, 'name': 'm:1.2; b:117'}, {'RSS': 31950.0, 'name': 'm:1.2; b:120'}, {'RSS': 30675.0, 'name': 'm:1.2; b:123'}, {'RSS': 29490.0, 'name': 'm:1.2; b:126'}, {'RSS': 28395.0, 'name': 'm:1.2; b:129'}, {'RSS': 27390.0, 'name': 'm:1.2; b:132'}, {'RSS': 26475.0, 'name': 'm:1.2; b:135'}, {'RSS': 25650.0, 'name': 'm:1.2; b:138'}, {'RSS': 24915.0, 'name': 'm:1.2; b:141'}, {'RSS': 24270.0, 'name': 'm:1.2; b:144'}, {'RSS': 23715.0, 'name': 'm:1.2; b:147'}, {'RSS': 23250.0, 'name': 'm:1.2; b:150'}, {'RSS': 22875.0, 'name': 'm:1.2; b:153'}, {'RSS': 22590.0, 'name': 'm:1.2; b:156'}, {'RSS': 22395.0, 'name': 'm:1.2; b:159'}, {'RSS': 22290.0, 'name': 'm:1.2; b:162'}, {'RSS': 22275.0, 'name': 'm:1.2; b:165'}, {'RSS': 22350.0, 'name': 'm:1.2; b:168'}, {'RSS': 22515.0, 'name': 'm:1.2; b:171'}, {'RSS': 22770.0, 'name': 'm:1.2; b:174'}, {'RSS': 23115.0, 'name': 'm:1.2; b:177'}, {'RSS': 23550.0, 'name': 'm:1.2; b:180'}, {'RSS': 24075.0, 'name': 'm:1.2; b:183'}, {'RSS': 24690.0, 'name': 'm:1.2; b:186'}, {'RSS': 25395.0, 'name': 'm:1.2; b:189'}, {'RSS': 26190.0, 'name': 'm:1.2; b:192'}, {'RSS': 27075.0, 'name': 'm:1.2; b:195'}, {'RSS': 28050.0, 'name': 'm:1.2; b:198'}, {'RSS': 29115.0, 'name': 'm:1.2; b:201'}, {'RSS': 30270.0, 'name': 'm:1.2; b:204'}, {'RSS': 31515.0, 'name': 'm:1.2; b:207'}, {'RSS': 32850.0, 'name': 'm:1.2; b:210'}, {'RSS': 34275.0, 'name': 'm:1.2; b:213'}, {'RSS': 35790.0, 'name': 'm:1.2; b:216'}, {'RSS': 37395.0, 'name': 'm:1.2; b:219'}, {'RSS': 39090.0, 'name': 'm:1.2; b:222'}, {'RSS': 40875.0, 'name': 'm:1.2; b:225'}, {'RSS': 42750.0, 'name': 'm:1.2; b:228'}, {'RSS': 44715.0, 'name': 'm:1.2; b:231'}, {'RSS': 46770.0, 'name': 'm:1.2; b:234'}, {'RSS': 48915.0, 'name': 'm:1.2; b:237'}, {'RSS': 51150.0, 'name': 'm:1.2; b:240'}, {'RSS': 53475.0, 'name': 'm:1.2; b:243'}, {'RSS': 55890.0, 'name': 'm:1.2; b:246'}, {'RSS': 58395.0, 'name': 'm:1.2; b:249'}, {'RSS': 60990.0, 'name': 'm:1.2; b:252'}, {'RSS': 63675.0, 'name': 'm:1.2; b:255'}, {'RSS': 66450.0, 'name': 'm:1.2; b:258'}, {'RSS': 69315.0, 'name': 'm:1.2; b:261'}, {'RSS': 72270.0, 'name': 'm:1.2; b:264'}, {'RSS': 75315.0, 'name': 'm:1.2; b:267'}, {'RSS': 78450.0, 'name': 'm:1.2; b:270'}, {'RSS': 81675.0, 'name': 'm:1.2; b:273'}, {'RSS': 84990.0, 'name': 'm:1.2; b:276'}, {'RSS': 88395.0, 'name': 'm:1.2; b:279'}, {'RSS': 91890.0, 'name': 'm:1.2; b:282'}, {'RSS': 95475.0, 'name': 'm:1.2; b:285'}, {'RSS': 99150.0, 'name': 'm:1.2; b:288'}, {'RSS': 102915.0, 'name': 'm:1.2; b:291'}, {'RSS': 106770.0, 'name': 'm:1.2; b:294'}, {'RSS': 110715.0, 'name': 'm:1.2; b:297'}, {'RSS': 116156.25, 'name': 'm:1.3; b:0'}, {'RSS': 112046.25, 'name': 'm:1.3; b:3'}, {'RSS': 108026.25, 'name': 'm:1.3; b:6'}, {'RSS': 104096.25, 'name': 'm:1.3; b:9'}, {'RSS': 100256.25, 'name': 'm:1.3; b:12'}, {'RSS': 96506.25, 'name': 'm:1.3; b:15'}, {'RSS': 92846.25, 'name': 'm:1.3; b:18'}, {'RSS': 89276.25, 'name': 'm:1.3; b:21'}, {'RSS': 85796.25, 'name': 'm:1.3; b:24'}, {'RSS': 82406.25, 'name': 'm:1.3; b:27'}, {'RSS': 79106.25, 'name': 'm:1.3; b:30'}, {'RSS': 75896.25, 'name': 'm:1.3; b:33'}, {'RSS': 72776.25, 'name': 'm:1.3; b:36'}, {'RSS': 69746.25, 'name': 'm:1.3; b:39'}, {'RSS': 66806.25, 'name': 'm:1.3; b:42'}, {'RSS': 63956.25, 'name': 'm:1.3; b:45'}, {'RSS': 61196.25, 'name': 'm:1.3; b:48'}, {'RSS': 58526.25, 'name': 'm:1.3; b:51'}, {'RSS': 55946.25, 'name': 'm:1.3; b:54'}, {'RSS': 53456.25, 'name': 'm:1.3; b:57'}, {'RSS': 51056.25, 'name': 'm:1.3; b:60'}, {'RSS': 48746.25, 'name': 'm:1.3; b:63'}, {'RSS': 46526.25, 'name': 'm:1.3; b:66'}, {'RSS': 44396.25, 'name': 'm:1.3; b:69'}, {'RSS': 42356.25, 'name': 'm:1.3; b:72'}, {'RSS': 40406.25, 'name': 'm:1.3; b:75'}, {'RSS': 38546.25, 'name': 'm:1.3; b:78'}, {'RSS': 36776.25, 'name': 'm:1.3; b:81'}, {'RSS': 35096.25, 'name': 'm:1.3; b:84'}, {'RSS': 33506.25, 'name': 'm:1.3; b:87'}, {'RSS': 32006.25, 'name': 'm:1.3; b:90'}, {'RSS': 30596.25, 'name': 'm:1.3; b:93'}, {'RSS': 29276.25, 'name': 'm:1.3; b:96'}, {'RSS': 28046.25, 'name': 'm:1.3; b:99'}, {'RSS': 26906.25, 'name': 'm:1.3; b:102'}, {'RSS': 25856.25, 'name': 'm:1.3; b:105'}, {'RSS': 24896.25, 'name': 'm:1.3; b:108'}, {'RSS': 24026.25, 'name': 'm:1.3; b:111'}, {'RSS': 23246.25, 'name': 'm:1.3; b:114'}, {'RSS': 22556.25, 'name': 'm:1.3; b:117'}, {'RSS': 21956.25, 'name': 'm:1.3; b:120'}, {'RSS': 21446.25, 'name': 'm:1.3; b:123'}, {'RSS': 21026.25, 'name': 'm:1.3; b:126'}, {'RSS': 20696.25, 'name': 'm:1.3; b:129'}, {'RSS': 20456.25, 'name': 'm:1.3; b:132'}, {'RSS': 20306.25, 'name': 'm:1.3; b:135'}, {'RSS': 20246.25, 'name': 'm:1.3; b:138'}, {'RSS': 20276.25, 'name': 'm:1.3; b:141'}, {'RSS': 20396.25, 'name': 'm:1.3; b:144'}, {'RSS': 20606.25, 'name': 'm:1.3; b:147'}, {'RSS': 20906.25, 'name': 'm:1.3; b:150'}, {'RSS': 21296.25, 'name': 'm:1.3; b:153'}, {'RSS': 21776.25, 'name': 'm:1.3; b:156'}, {'RSS': 22346.25, 'name': 'm:1.3; b:159'}, {'RSS': 23006.25, 'name': 'm:1.3; b:162'}, {'RSS': 23756.25, 'name': 'm:1.3; b:165'}, {'RSS': 24596.25, 'name': 'm:1.3; b:168'}, {'RSS': 25526.25, 'name': 'm:1.3; b:171'}, {'RSS': 26546.25, 'name': 'm:1.3; b:174'}, {'RSS': 27656.25, 'name': 'm:1.3; b:177'}, {'RSS': 28856.25, 'name': 'm:1.3; b:180'}, {'RSS': 30146.25, 'name': 'm:1.3; b:183'}, {'RSS': 31526.25, 'name': 'm:1.3; b:186'}, {'RSS': 32996.25, 'name': 'm:1.3; b:189'}, {'RSS': 34556.25, 'name': 'm:1.3; b:192'}, {'RSS': 36206.25, 'name': 'm:1.3; b:195'}, {'RSS': 37946.25, 'name': 'm:1.3; b:198'}, {'RSS': 39776.25, 'name': 'm:1.3; b:201'}, {'RSS': 41696.25, 'name': 'm:1.3; b:204'}, {'RSS': 43706.25, 'name': 'm:1.3; b:207'}, {'RSS': 45806.25, 'name': 'm:1.3; b:210'}, {'RSS': 47996.25, 'name': 'm:1.3; b:213'}, {'RSS': 50276.25, 'name': 'm:1.3; b:216'}, {'RSS': 52646.25, 'name': 'm:1.3; b:219'}, {'RSS': 55106.25, 'name': 'm:1.3; b:222'}, {'RSS': 57656.25, 'name': 'm:1.3; b:225'}, {'RSS': 60296.25, 'name': 'm:1.3; b:228'}, {'RSS': 63026.25, 'name': 'm:1.3; b:231'}, {'RSS': 65846.25, 'name': 'm:1.3; b:234'}, {'RSS': 68756.25, 'name': 'm:1.3; b:237'}, {'RSS': 71756.25, 'name': 'm:1.3; b:240'}, {'RSS': 74846.25, 'name': 'm:1.3; b:243'}, {'RSS': 78026.25, 'name': 'm:1.3; b:246'}, {'RSS': 81296.25, 'name': 'm:1.3; b:249'}, {'RSS': 84656.25, 'name': 'm:1.3; b:252'}, {'RSS': 88106.25, 'name': 'm:1.3; b:255'}, {'RSS': 91646.25, 'name': 'm:1.3; b:258'}, {'RSS': 95276.25, 'name': 'm:1.3; b:261'}, {'RSS': 98996.25, 'name': 'm:1.3; b:264'}, {'RSS': 102806.25, 'name': 'm:1.3; b:267'}, {'RSS': 106706.25, 'name': 'm:1.3; b:270'}, {'RSS': 110696.25, 'name': 'm:1.3; b:273'}, {'RSS': 114776.25, 'name': 'm:1.3; b:276'}, {'RSS': 118946.25, 'name': 'm:1.3; b:279'}, {'RSS': 123206.25, 'name': 'm:1.3; b:282'}, {'RSS': 127556.25, 'name': 'm:1.3; b:285'}, {'RSS': 131996.25, 'name': 'm:1.3; b:288'}, {'RSS': 136526.25, 'name': 'm:1.3; b:291'}, {'RSS': 141146.25, 'name': 'm:1.3; b:294'}, {'RSS': 145856.25, 'name': 'm:1.3; b:297'}, {'RSS': 83125.0, 'name': 'm:1.4; b:0'}, {'RSS': 79780.0, 'name': 'm:1.4; b:3'}, {'RSS': 76525.0, 'name': 'm:1.4; b:6'}, {'RSS': 73360.0, 'name': 'm:1.4; b:9'}, {'RSS': 70285.0, 'name': 'm:1.4; b:12'}, {'RSS': 67300.0, 'name': 'm:1.4; b:15'}, {'RSS': 64405.0, 'name': 'm:1.4; b:18'}, {'RSS': 61600.0, 'name': 'm:1.4; b:21'}, {'RSS': 58885.0, 'name': 'm:1.4; b:24'}, {'RSS': 56260.0, 'name': 'm:1.4; b:27'}, {'RSS': 53725.0, 'name': 'm:1.4; b:30'}, {'RSS': 51280.0, 'name': 'm:1.4; b:33'}, {'RSS': 48925.0, 'name': 'm:1.4; b:36'}, {'RSS': 46660.0, 'name': 'm:1.4; b:39'}, {'RSS': 44485.0, 'name': 'm:1.4; b:42'}, {'RSS': 42400.0, 'name': 'm:1.4; b:45'}, {'RSS': 40405.0, 'name': 'm:1.4; b:48'}, {'RSS': 38500.0, 'name': 'm:1.4; b:51'}, {'RSS': 36685.0, 'name': 'm:1.4; b:54'}, {'RSS': 34960.0, 'name': 'm:1.4; b:57'}, {'RSS': 33325.0, 'name': 'm:1.4; b:60'}, {'RSS': 31780.0, 'name': 'm:1.4; b:63'}, {'RSS': 30325.0, 'name': 'm:1.4; b:66'}, {'RSS': 28960.0, 'name': 'm:1.4; b:69'}, {'RSS': 27685.0, 'name': 'm:1.4; b:72'}, {'RSS': 26500.0, 'name': 'm:1.4; b:75'}, {'RSS': 25405.0, 'name': 'm:1.4; b:78'}, {'RSS': 24400.0, 'name': 'm:1.4; b:81'}, {'RSS': 23485.0, 'name': 'm:1.4; b:84'}, {'RSS': 22660.0, 'name': 'm:1.4; b:87'}, {'RSS': 21925.0, 'name': 'm:1.4; b:90'}, {'RSS': 21280.0, 'name': 'm:1.4; b:93'}, {'RSS': 20725.0, 'name': 'm:1.4; b:96'}, {'RSS': 20260.0, 'name': 'm:1.4; b:99'}, {'RSS': 19885.0, 'name': 'm:1.4; b:102'}, {'RSS': 19600.0, 'name': 'm:1.4; b:105'}, {'RSS': 19405.0, 'name': 'm:1.4; b:108'}, {'RSS': 19300.0, 'name': 'm:1.4; b:111'}, {'RSS': 19285.0, 'name': 'm:1.4; b:114'}, {'RSS': 19360.0, 'name': 'm:1.4; b:117'}, {'RSS': 19525.0, 'name': 'm:1.4; b:120'}, {'RSS': 19780.0, 'name': 'm:1.4; b:123'}, {'RSS': 20125.0, 'name': 'm:1.4; b:126'}, {'RSS': 20560.0, 'name': 'm:1.4; b:129'}, {'RSS': 21085.0, 'name': 'm:1.4; b:132'}, {'RSS': 21700.0, 'name': 'm:1.4; b:135'}, {'RSS': 22405.0, 'name': 'm:1.4; b:138'}, {'RSS': 23200.0, 'name': 'm:1.4; b:141'}, {'RSS': 24085.0, 'name': 'm:1.4; b:144'}, {'RSS': 25060.0, 'name': 'm:1.4; b:147'}, {'RSS': 26125.0, 'name': 'm:1.4; b:150'}, {'RSS': 27280.0, 'name': 'm:1.4; b:153'}, {'RSS': 28525.0, 'name': 'm:1.4; b:156'}, {'RSS': 29860.0, 'name': 'm:1.4; b:159'}, {'RSS': 31285.0, 'name': 'm:1.4; b:162'}, {'RSS': 32800.0, 'name': 'm:1.4; b:165'}, {'RSS': 34405.0, 'name': 'm:1.4; b:168'}, {'RSS': 36100.0, 'name': 'm:1.4; b:171'}, {'RSS': 37885.0, 'name': 'm:1.4; b:174'}, {'RSS': 39760.0, 'name': 'm:1.4; b:177'}, {'RSS': 41725.0, 'name': 'm:1.4; b:180'}, {'RSS': 43780.0, 'name': 'm:1.4; b:183'}, {'RSS': 45925.0, 'name': 'm:1.4; b:186'}, {'RSS': 48160.0, 'name': 'm:1.4; b:189'}, {'RSS': 50485.0, 'name': 'm:1.4; b:192'}, {'RSS': 52900.0, 'name': 'm:1.4; b:195'}, {'RSS': 55405.0, 'name': 'm:1.4; b:198'}, {'RSS': 58000.0, 'name': 'm:1.4; b:201'}, {'RSS': 60685.0, 'name': 'm:1.4; b:204'}, {'RSS': 63460.0, 'name': 'm:1.4; b:207'}, {'RSS': 66325.0, 'name': 'm:1.4; b:210'}, {'RSS': 69280.0, 'name': 'm:1.4; b:213'}, {'RSS': 72325.0, 'name': 'm:1.4; b:216'}, {'RSS': 75460.0, 'name': 'm:1.4; b:219'}, {'RSS': 78685.0, 'name': 'm:1.4; b:222'}, {'RSS': 82000.0, 'name': 'm:1.4; b:225'}, {'RSS': 85405.0, 'name': 'm:1.4; b:228'}, {'RSS': 88900.0, 'name': 'm:1.4; b:231'}, {'RSS': 92485.0, 'name': 'm:1.4; b:234'}, {'RSS': 96160.0, 'name': 'm:1.4; b:237'}, {'RSS': 99925.0, 'name': 'm:1.4; b:240'}, {'RSS': 103780.0, 'name': 'm:1.4; b:243'}, {'RSS': 107725.0, 'name': 'm:1.4; b:246'}, {'RSS': 111760.0, 'name': 'm:1.4; b:249'}, {'RSS': 115885.0, 'name': 'm:1.4; b:252'}, {'RSS': 120100.0, 'name': 'm:1.4; b:255'}, {'RSS': 124405.0, 'name': 'm:1.4; b:258'}, {'RSS': 128800.0, 'name': 'm:1.4; b:261'}, {'RSS': 133285.0, 'name': 'm:1.4; b:264'}, {'RSS': 137860.0, 'name': 'm:1.4; b:267'}, {'RSS': 142525.0, 'name': 'm:1.4; b:270'}, {'RSS': 147280.0, 'name': 'm:1.4; b:273'}, {'RSS': 152125.0, 'name': 'm:1.4; b:276'}, {'RSS': 157060.0, 'name': 'm:1.4; b:279'}, {'RSS': 162085.0, 'name': 'm:1.4; b:282'}, {'RSS': 167200.0, 'name': 'm:1.4; b:285'}, {'RSS': 172405.0, 'name': 'm:1.4; b:288'}, {'RSS': 177700.0, 'name': 'm:1.4; b:291'}, {'RSS': 183085.0, 'name': 'm:1.4; b:294'}, {'RSS': 188560.0, 'name': 'm:1.4; b:297'}, {'RSS': 57656.25, 'name': 'm:1.5; b:0'}, {'RSS': 55076.25, 'name': 'm:1.5; b:3'}, {'RSS': 52586.25, 'name': 'm:1.5; b:6'}, {'RSS': 50186.25, 'name': 'm:1.5; b:9'}, {'RSS': 47876.25, 'name': 'm:1.5; b:12'}, {'RSS': 45656.25, 'name': 'm:1.5; b:15'}, {'RSS': 43526.25, 'name': 'm:1.5; b:18'}, {'RSS': 41486.25, 'name': 'm:1.5; b:21'}, {'RSS': 39536.25, 'name': 'm:1.5; b:24'}, {'RSS': 37676.25, 'name': 'm:1.5; b:27'}, {'RSS': 35906.25, 'name': 'm:1.5; b:30'}, {'RSS': 34226.25, 'name': 'm:1.5; b:33'}, {'RSS': 32636.25, 'name': 'm:1.5; b:36'}, {'RSS': 31136.25, 'name': 'm:1.5; b:39'}, {'RSS': 29726.25, 'name': 'm:1.5; b:42'}, {'RSS': 28406.25, 'name': 'm:1.5; b:45'}, {'RSS': 27176.25, 'name': 'm:1.5; b:48'}, {'RSS': 26036.25, 'name': 'm:1.5; b:51'}, {'RSS': 24986.25, 'name': 'm:1.5; b:54'}, {'RSS': 24026.25, 'name': 'm:1.5; b:57'}, {'RSS': 23156.25, 'name': 'm:1.5; b:60'}, {'RSS': 22376.25, 'name': 'm:1.5; b:63'}, {'RSS': 21686.25, 'name': 'm:1.5; b:66'}, {'RSS': 21086.25, 'name': 'm:1.5; b:69'}, {'RSS': 20576.25, 'name': 'm:1.5; b:72'}, {'RSS': 20156.25, 'name': 'm:1.5; b:75'}, {'RSS': 19826.25, 'name': 'm:1.5; b:78'}, {'RSS': 19586.25, 'name': 'm:1.5; b:81'}, {'RSS': 19436.25, 'name': 'm:1.5; b:84'}, {'RSS': 19376.25, 'name': 'm:1.5; b:87'}, {'RSS': 19406.25, 'name': 'm:1.5; b:90'}, {'RSS': 19526.25, 'name': 'm:1.5; b:93'}, {'RSS': 19736.25, 'name': 'm:1.5; b:96'}, {'RSS': 20036.25, 'name': 'm:1.5; b:99'}, {'RSS': 20426.25, 'name': 'm:1.5; b:102'}, {'RSS': 20906.25, 'name': 'm:1.5; b:105'}, {'RSS': 21476.25, 'name': 'm:1.5; b:108'}, {'RSS': 22136.25, 'name': 'm:1.5; b:111'}, {'RSS': 22886.25, 'name': 'm:1.5; b:114'}, {'RSS': 23726.25, 'name': 'm:1.5; b:117'}, {'RSS': 24656.25, 'name': 'm:1.5; b:120'}, {'RSS': 25676.25, 'name': 'm:1.5; b:123'}, {'RSS': 26786.25, 'name': 'm:1.5; b:126'}, {'RSS': 27986.25, 'name': 'm:1.5; b:129'}, {'RSS': 29276.25, 'name': 'm:1.5; b:132'}, {'RSS': 30656.25, 'name': 'm:1.5; b:135'}, {'RSS': 32126.25, 'name': 'm:1.5; b:138'}, {'RSS': 33686.25, 'name': 'm:1.5; b:141'}, {'RSS': 35336.25, 'name': 'm:1.5; b:144'}, {'RSS': 37076.25, 'name': 'm:1.5; b:147'}, {'RSS': 38906.25, 'name': 'm:1.5; b:150'}, {'RSS': 40826.25, 'name': 'm:1.5; b:153'}, {'RSS': 42836.25, 'name': 'm:1.5; b:156'}, {'RSS': 44936.25, 'name': 'm:1.5; b:159'}, {'RSS': 47126.25, 'name': 'm:1.5; b:162'}, {'RSS': 49406.25, 'name': 'm:1.5; b:165'}, {'RSS': 51776.25, 'name': 'm:1.5; b:168'}, {'RSS': 54236.25, 'name': 'm:1.5; b:171'}, {'RSS': 56786.25, 'name': 'm:1.5; b:174'}, {'RSS': 59426.25, 'name': 'm:1.5; b:177'}, {'RSS': 62156.25, 'name': 'm:1.5; b:180'}, {'RSS': 64976.25, 'name': 'm:1.5; b:183'}, {'RSS': 67886.25, 'name': 'm:1.5; b:186'}, {'RSS': 70886.25, 'name': 'm:1.5; b:189'}, {'RSS': 73976.25, 'name': 'm:1.5; b:192'}, {'RSS': 77156.25, 'name': 'm:1.5; b:195'}, {'RSS': 80426.25, 'name': 'm:1.5; b:198'}, {'RSS': 83786.25, 'name': 'm:1.5; b:201'}, {'RSS': 87236.25, 'name': 'm:1.5; b:204'}, {'RSS': 90776.25, 'name': 'm:1.5; b:207'}, {'RSS': 94406.25, 'name': 'm:1.5; b:210'}, {'RSS': 98126.25, 'name': 'm:1.5; b:213'}, {'RSS': 101936.25, 'name': 'm:1.5; b:216'}, {'RSS': 105836.25, 'name': 'm:1.5; b:219'}, {'RSS': 109826.25, 'name': 'm:1.5; b:222'}, {'RSS': 113906.25, 'name': 'm:1.5; b:225'}, {'RSS': 118076.25, 'name': 'm:1.5; b:228'}, {'RSS': 122336.25, 'name': 'm:1.5; b:231'}, {'RSS': 126686.25, 'name': 'm:1.5; b:234'}, {'RSS': 131126.25, 'name': 'm:1.5; b:237'}, {'RSS': 135656.25, 'name': 'm:1.5; b:240'}, {'RSS': 140276.25, 'name': 'm:1.5; b:243'}, {'RSS': 144986.25, 'name': 'm:1.5; b:246'}, {'RSS': 149786.25, 'name': 'm:1.5; b:249'}, {'RSS': 154676.25, 'name': 'm:1.5; b:252'}, {'RSS': 159656.25, 'name': 'm:1.5; b:255'}, {'RSS': 164726.25, 'name': 'm:1.5; b:258'}, {'RSS': 169886.25, 'name': 'm:1.5; b:261'}, {'RSS': 175136.25, 'name': 'm:1.5; b:264'}, {'RSS': 180476.25, 'name': 'm:1.5; b:267'}, {'RSS': 185906.25, 'name': 'm:1.5; b:270'}, {'RSS': 191426.25, 'name': 'm:1.5; b:273'}, {'RSS': 197036.25, 'name': 'm:1.5; b:276'}, {'RSS': 202736.25, 'name': 'm:1.5; b:279'}, {'RSS': 208526.25, 'name': 'm:1.5; b:282'}, {'RSS': 214406.25, 'name': 'm:1.5; b:285'}, {'RSS': 220376.25, 'name': 'm:1.5; b:288'}, {'RSS': 226436.25, 'name': 'm:1.5; b:291'}, {'RSS': 232586.25, 'name': 'm:1.5; b:294'}, {'RSS': 238826.25, 'name': 'm:1.5; b:297'}, {'RSS': 39750.0, 'name': 'm:1.6; b:0'}, {'RSS': 37935.0, 'name': 'm:1.6; b:3'}, {'RSS': 36210.0, 'name': 'm:1.6; b:6'}, {'RSS': 34575.0, 'name': 'm:1.6; b:9'}, {'RSS': 33030.0, 'name': 'm:1.6; b:12'}, {'RSS': 31575.0, 'name': 'm:1.6; b:15'}, {'RSS': 30210.0, 'name': 'm:1.6; b:18'}, {'RSS': 28935.0, 'name': 'm:1.6; b:21'}, {'RSS': 27750.0, 'name': 'm:1.6; b:24'}, {'RSS': 26655.0, 'name': 'm:1.6; b:27'}, {'RSS': 25650.0, 'name': 'm:1.6; b:30'}, {'RSS': 24735.0, 'name': 'm:1.6; b:33'}, {'RSS': 23910.0, 'name': 'm:1.6; b:36'}, {'RSS': 23175.0, 'name': 'm:1.6; b:39'}, {'RSS': 22530.0, 'name': 'm:1.6; b:42'}, {'RSS': 21975.0, 'name': 'm:1.6; b:45'}, {'RSS': 21510.0, 'name': 'm:1.6; b:48'}, {'RSS': 21135.0, 'name': 'm:1.6; b:51'}, {'RSS': 20850.0, 'name': 'm:1.6; b:54'}, {'RSS': 20655.0, 'name': 'm:1.6; b:57'}, {'RSS': 20550.0, 'name': 'm:1.6; b:60'}, {'RSS': 20535.0, 'name': 'm:1.6; b:63'}, {'RSS': 20610.0, 'name': 'm:1.6; b:66'}, {'RSS': 20775.0, 'name': 'm:1.6; b:69'}, {'RSS': 21030.0, 'name': 'm:1.6; b:72'}, {'RSS': 21375.0, 'name': 'm:1.6; b:75'}, {'RSS': 21810.0, 'name': 'm:1.6; b:78'}, {'RSS': 22335.0, 'name': 'm:1.6; b:81'}, {'RSS': 22950.0, 'name': 'm:1.6; b:84'}, {'RSS': 23655.0, 'name': 'm:1.6; b:87'}, {'RSS': 24450.0, 'name': 'm:1.6; b:90'}, {'RSS': 25335.0, 'name': 'm:1.6; b:93'}, {'RSS': 26310.0, 'name': 'm:1.6; b:96'}, {'RSS': 27375.0, 'name': 'm:1.6; b:99'}, {'RSS': 28530.0, 'name': 'm:1.6; b:102'}, {'RSS': 29775.0, 'name': 'm:1.6; b:105'}, {'RSS': 31110.0, 'name': 'm:1.6; b:108'}, {'RSS': 32535.0, 'name': 'm:1.6; b:111'}, {'RSS': 34050.0, 'name': 'm:1.6; b:114'}, {'RSS': 35655.0, 'name': 'm:1.6; b:117'}, {'RSS': 37350.0, 'name': 'm:1.6; b:120'}, {'RSS': 39135.0, 'name': 'm:1.6; b:123'}, {'RSS': 41010.0, 'name': 'm:1.6; b:126'}, {'RSS': 42975.0, 'name': 'm:1.6; b:129'}, {'RSS': 45030.0, 'name': 'm:1.6; b:132'}, {'RSS': 47175.0, 'name': 'm:1.6; b:135'}, {'RSS': 49410.0, 'name': 'm:1.6; b:138'}, {'RSS': 51735.0, 'name': 'm:1.6; b:141'}, {'RSS': 54150.0, 'name': 'm:1.6; b:144'}, {'RSS': 56655.0, 'name': 'm:1.6; b:147'}, {'RSS': 59250.0, 'name': 'm:1.6; b:150'}, {'RSS': 61935.0, 'name': 'm:1.6; b:153'}, {'RSS': 64710.0, 'name': 'm:1.6; b:156'}, {'RSS': 67575.0, 'name': 'm:1.6; b:159'}, {'RSS': 70530.0, 'name': 'm:1.6; b:162'}, {'RSS': 73575.0, 'name': 'm:1.6; b:165'}, {'RSS': 76710.0, 'name': 'm:1.6; b:168'}, {'RSS': 79935.0, 'name': 'm:1.6; b:171'}, {'RSS': 83250.0, 'name': 'm:1.6; b:174'}, {'RSS': 86655.0, 'name': 'm:1.6; b:177'}, {'RSS': 90150.0, 'name': 'm:1.6; b:180'}, {'RSS': 93735.0, 'name': 'm:1.6; b:183'}, {'RSS': 97410.0, 'name': 'm:1.6; b:186'}, {'RSS': 101175.0, 'name': 'm:1.6; b:189'}, {'RSS': 105030.0, 'name': 'm:1.6; b:192'}, {'RSS': 108975.0, 'name': 'm:1.6; b:195'}, {'RSS': 113010.0, 'name': 'm:1.6; b:198'}, {'RSS': 117135.0, 'name': 'm:1.6; b:201'}, {'RSS': 121350.0, 'name': 'm:1.6; b:204'}, {'RSS': 125655.0, 'name': 'm:1.6; b:207'}, {'RSS': 130050.0, 'name': 'm:1.6; b:210'}, {'RSS': 134535.0, 'name': 'm:1.6; b:213'}, {'RSS': 139110.0, 'name': 'm:1.6; b:216'}, {'RSS': 143775.0, 'name': 'm:1.6; b:219'}, {'RSS': 148530.0, 'name': 'm:1.6; b:222'}, {'RSS': 153375.0, 'name': 'm:1.6; b:225'}, {'RSS': 158310.0, 'name': 'm:1.6; b:228'}, {'RSS': 163335.0, 'name': 'm:1.6; b:231'}, {'RSS': 168450.0, 'name': 'm:1.6; b:234'}, {'RSS': 173655.0, 'name': 'm:1.6; b:237'}, {'RSS': 178950.0, 'name': 'm:1.6; b:240'}, {'RSS': 184335.0, 'name': 'm:1.6; b:243'}, {'RSS': 189810.0, 'name': 'm:1.6; b:246'}, {'RSS': 195375.0, 'name': 'm:1.6; b:249'}, {'RSS': 201030.0, 'name': 'm:1.6; b:252'}, {'RSS': 206775.0, 'name': 'm:1.6; b:255'}, {'RSS': 212610.0, 'name': 'm:1.6; b:258'}, {'RSS': 218535.0, 'name': 'm:1.6; b:261'}, {'RSS': 224550.0, 'name': 'm:1.6; b:264'}, {'RSS': 230655.0, 'name': 'm:1.6; b:267'}, {'RSS': 236850.0, 'name': 'm:1.6; b:270'}, {'RSS': 243135.0, 'name': 'm:1.6; b:273'}, {'RSS': 249510.0, 'name': 'm:1.6; b:276'}, {'RSS': 255975.0, 'name': 'm:1.6; b:279'}, {'RSS': 262530.0, 'name': 'm:1.6; b:282'}, {'RSS': 269175.0, 'name': 'm:1.6; b:285'}, {'RSS': 275910.0, 'name': 'm:1.6; b:288'}, {'RSS': 282735.0, 'name': 'm:1.6; b:291'}, {'RSS': 289650.0, 'name': 'm:1.6; b:294'}, {'RSS': 296655.0, 'name': 'm:1.6; b:297'}, {'RSS': 29406.25, 'name': 'm:1.7; b:0'}, {'RSS': 28356.25, 'name': 'm:1.7; b:3'}, {'RSS': 27396.25, 'name': 'm:1.7; b:6'}, {'RSS': 26526.25, 'name': 'm:1.7; b:9'}, {'RSS': 25746.25, 'name': 'm:1.7; b:12'}, {'RSS': 25056.25, 'name': 'm:1.7; b:15'}, {'RSS': 24456.25, 'name': 'm:1.7; b:18'}, {'RSS': 23946.25, 'name': 'm:1.7; b:21'}, {'RSS': 23526.25, 'name': 'm:1.7; b:24'}, {'RSS': 23196.25, 'name': 'm:1.7; b:27'}, {'RSS': 22956.25, 'name': 'm:1.7; b:30'}, {'RSS': 22806.25, 'name': 'm:1.7; b:33'}, {'RSS': 22746.25, 'name': 'm:1.7; b:36'}, {'RSS': 22776.25, 'name': 'm:1.7; b:39'}, {'RSS': 22896.25, 'name': 'm:1.7; b:42'}, {'RSS': 23106.25, 'name': 'm:1.7; b:45'}, {'RSS': 23406.25, 'name': 'm:1.7; b:48'}, {'RSS': 23796.25, 'name': 'm:1.7; b:51'}, {'RSS': 24276.25, 'name': 'm:1.7; b:54'}, {'RSS': 24846.25, 'name': 'm:1.7; b:57'}, {'RSS': 25506.25, 'name': 'm:1.7; b:60'}, {'RSS': 26256.25, 'name': 'm:1.7; b:63'}, {'RSS': 27096.25, 'name': 'm:1.7; b:66'}, {'RSS': 28026.25, 'name': 'm:1.7; b:69'}, {'RSS': 29046.25, 'name': 'm:1.7; b:72'}, {'RSS': 30156.25, 'name': 'm:1.7; b:75'}, {'RSS': 31356.25, 'name': 'm:1.7; b:78'}, {'RSS': 32646.25, 'name': 'm:1.7; b:81'}, {'RSS': 34026.25, 'name': 'm:1.7; b:84'}, {'RSS': 35496.25, 'name': 'm:1.7; b:87'}, {'RSS': 37056.25, 'name': 'm:1.7; b:90'}, {'RSS': 38706.25, 'name': 'm:1.7; b:93'}, {'RSS': 40446.25, 'name': 'm:1.7; b:96'}, {'RSS': 42276.25, 'name': 'm:1.7; b:99'}, {'RSS': 44196.25, 'name': 'm:1.7; b:102'}, {'RSS': 46206.25, 'name': 'm:1.7; b:105'}, {'RSS': 48306.25, 'name': 'm:1.7; b:108'}, {'RSS': 50496.25, 'name': 'm:1.7; b:111'}, {'RSS': 52776.25, 'name': 'm:1.7; b:114'}, {'RSS': 55146.25, 'name': 'm:1.7; b:117'}, {'RSS': 57606.25, 'name': 'm:1.7; b:120'}, {'RSS': 60156.25, 'name': 'm:1.7; b:123'}, {'RSS': 62796.25, 'name': 'm:1.7; b:126'}, {'RSS': 65526.25, 'name': 'm:1.7; b:129'}, {'RSS': 68346.25, 'name': 'm:1.7; b:132'}, {'RSS': 71256.25, 'name': 'm:1.7; b:135'}, {'RSS': 74256.25, 'name': 'm:1.7; b:138'}, {'RSS': 77346.25, 'name': 'm:1.7; b:141'}, {'RSS': 80526.25, 'name': 'm:1.7; b:144'}, {'RSS': 83796.25, 'name': 'm:1.7; b:147'}, {'RSS': 87156.25, 'name': 'm:1.7; b:150'}, {'RSS': 90606.25, 'name': 'm:1.7; b:153'}, {'RSS': 94146.25, 'name': 'm:1.7; b:156'}, {'RSS': 97776.25, 'name': 'm:1.7; b:159'}, {'RSS': 101496.25, 'name': 'm:1.7; b:162'}, {'RSS': 105306.25, 'name': 'm:1.7; b:165'}, {'RSS': 109206.25, 'name': 'm:1.7; b:168'}, {'RSS': 113196.25, 'name': 'm:1.7; b:171'}, {'RSS': 117276.25, 'name': 'm:1.7; b:174'}, {'RSS': 121446.25, 'name': 'm:1.7; b:177'}, {'RSS': 125706.25, 'name': 'm:1.7; b:180'}, {'RSS': 130056.25, 'name': 'm:1.7; b:183'}, {'RSS': 134496.25, 'name': 'm:1.7; b:186'}, {'RSS': 139026.25, 'name': 'm:1.7; b:189'}, {'RSS': 143646.25, 'name': 'm:1.7; b:192'}, {'RSS': 148356.25, 'name': 'm:1.7; b:195'}, {'RSS': 153156.25, 'name': 'm:1.7; b:198'}, {'RSS': 158046.25, 'name': 'm:1.7; b:201'}, {'RSS': 163026.25, 'name': 'm:1.7; b:204'}, {'RSS': 168096.25, 'name': 'm:1.7; b:207'}, {'RSS': 173256.25, 'name': 'm:1.7; b:210'}, {'RSS': 178506.25, 'name': 'm:1.7; b:213'}, {'RSS': 183846.25, 'name': 'm:1.7; b:216'}, {'RSS': 189276.25, 'name': 'm:1.7; b:219'}, {'RSS': 194796.25, 'name': 'm:1.7; b:222'}, {'RSS': 200406.25, 'name': 'm:1.7; b:225'}, {'RSS': 206106.25, 'name': 'm:1.7; b:228'}, {'RSS': 211896.25, 'name': 'm:1.7; b:231'}, {'RSS': 217776.25, 'name': 'm:1.7; b:234'}, {'RSS': 223746.25, 'name': 'm:1.7; b:237'}, {'RSS': 229806.25, 'name': 'm:1.7; b:240'}, {'RSS': 235956.25, 'name': 'm:1.7; b:243'}, {'RSS': 242196.25, 'name': 'm:1.7; b:246'}, {'RSS': 248526.25, 'name': 'm:1.7; b:249'}, {'RSS': 254946.25, 'name': 'm:1.7; b:252'}, {'RSS': 261456.25, 'name': 'm:1.7; b:255'}, {'RSS': 268056.25, 'name': 'm:1.7; b:258'}, {'RSS': 274746.25, 'name': 'm:1.7; b:261'}, {'RSS': 281526.25, 'name': 'm:1.7; b:264'}, {'RSS': 288396.25, 'name': 'm:1.7; b:267'}, {'RSS': 295356.25, 'name': 'm:1.7; b:270'}, {'RSS': 302406.25, 'name': 'm:1.7; b:273'}, {'RSS': 309546.25, 'name': 'm:1.7; b:276'}, {'RSS': 316776.25, 'name': 'm:1.7; b:279'}, {'RSS': 324096.25, 'name': 'm:1.7; b:282'}, {'RSS': 331506.25, 'name': 'm:1.7; b:285'}, {'RSS': 339006.25, 'name': 'm:1.7; b:288'}, {'RSS': 346596.25, 'name': 'm:1.7; b:291'}, {'RSS': 354276.25, 'name': 'm:1.7; b:294'}, {'RSS': 362046.25, 'name': 'm:1.7; b:297'}, {'RSS': 26625.0, 'name': 'm:1.8; b:0'}, {'RSS': 26340.0, 'name': 'm:1.8; b:3'}, {'RSS': 26145.0, 'name': 'm:1.8; b:6'}, {'RSS': 26040.0, 'name': 'm:1.8; b:9'}, {'RSS': 26025.0, 'name': 'm:1.8; b:12'}, {'RSS': 26100.0, 'name': 'm:1.8; b:15'}, {'RSS': 26265.0, 'name': 'm:1.8; b:18'}, {'RSS': 26520.0, 'name': 'm:1.8; b:21'}, {'RSS': 26865.0, 'name': 'm:1.8; b:24'}, {'RSS': 27300.0, 'name': 'm:1.8; b:27'}, {'RSS': 27825.0, 'name': 'm:1.8; b:30'}, {'RSS': 28440.0, 'name': 'm:1.8; b:33'}, {'RSS': 29145.0, 'name': 'm:1.8; b:36'}, {'RSS': 29940.0, 'name': 'm:1.8; b:39'}, {'RSS': 30825.0, 'name': 'm:1.8; b:42'}, {'RSS': 31800.0, 'name': 'm:1.8; b:45'}, {'RSS': 32865.0, 'name': 'm:1.8; b:48'}, {'RSS': 34020.0, 'name': 'm:1.8; b:51'}, {'RSS': 35265.0, 'name': 'm:1.8; b:54'}, {'RSS': 36600.0, 'name': 'm:1.8; b:57'}, {'RSS': 38025.0, 'name': 'm:1.8; b:60'}, {'RSS': 39540.0, 'name': 'm:1.8; b:63'}, {'RSS': 41145.0, 'name': 'm:1.8; b:66'}, {'RSS': 42840.0, 'name': 'm:1.8; b:69'}, {'RSS': 44625.0, 'name': 'm:1.8; b:72'}, {'RSS': 46500.0, 'name': 'm:1.8; b:75'}, {'RSS': 48465.0, 'name': 'm:1.8; b:78'}, {'RSS': 50520.0, 'name': 'm:1.8; b:81'}, {'RSS': 52665.0, 'name': 'm:1.8; b:84'}, {'RSS': 54900.0, 'name': 'm:1.8; b:87'}, {'RSS': 57225.0, 'name': 'm:1.8; b:90'}, {'RSS': 59640.0, 'name': 'm:1.8; b:93'}, {'RSS': 62145.0, 'name': 'm:1.8; b:96'}, {'RSS': 64740.0, 'name': 'm:1.8; b:99'}, {'RSS': 67425.0, 'name': 'm:1.8; b:102'}, {'RSS': 70200.0, 'name': 'm:1.8; b:105'}, {'RSS': 73065.0, 'name': 'm:1.8; b:108'}, {'RSS': 76020.0, 'name': 'm:1.8; b:111'}, {'RSS': 79065.0, 'name': 'm:1.8; b:114'}, {'RSS': 82200.0, 'name': 'm:1.8; b:117'}, {'RSS': 85425.0, 'name': 'm:1.8; b:120'}, {'RSS': 88740.0, 'name': 'm:1.8; b:123'}, {'RSS': 92145.0, 'name': 'm:1.8; b:126'}, {'RSS': 95640.0, 'name': 'm:1.8; b:129'}, {'RSS': 99225.0, 'name': 'm:1.8; b:132'}, {'RSS': 102900.0, 'name': 'm:1.8; b:135'}, {'RSS': 106665.0, 'name': 'm:1.8; b:138'}, {'RSS': 110520.0, 'name': 'm:1.8; b:141'}, {'RSS': 114465.0, 'name': 'm:1.8; b:144'}, {'RSS': 118500.0, 'name': 'm:1.8; b:147'}, {'RSS': 122625.0, 'name': 'm:1.8; b:150'}, {'RSS': 126840.0, 'name': 'm:1.8; b:153'}, {'RSS': 131145.0, 'name': 'm:1.8; b:156'}, {'RSS': 135540.0, 'name': 'm:1.8; b:159'}, {'RSS': 140025.0, 'name': 'm:1.8; b:162'}, {'RSS': 144600.0, 'name': 'm:1.8; b:165'}, {'RSS': 149265.0, 'name': 'm:1.8; b:168'}, {'RSS': 154020.0, 'name': 'm:1.8; b:171'}, {'RSS': 158865.0, 'name': 'm:1.8; b:174'}, {'RSS': 163800.0, 'name': 'm:1.8; b:177'}, {'RSS': 168825.0, 'name': 'm:1.8; b:180'}, {'RSS': 173940.0, 'name': 'm:1.8; b:183'}, {'RSS': 179145.0, 'name': 'm:1.8; b:186'}, {'RSS': 184440.0, 'name': 'm:1.8; b:189'}, {'RSS': 189825.0, 'name': 'm:1.8; b:192'}, {'RSS': 195300.0, 'name': 'm:1.8; b:195'}, {'RSS': 200865.0, 'name': 'm:1.8; b:198'}, {'RSS': 206520.0, 'name': 'm:1.8; b:201'}, {'RSS': 212265.0, 'name': 'm:1.8; b:204'}, {'RSS': 218100.0, 'name': 'm:1.8; b:207'}, {'RSS': 224025.0, 'name': 'm:1.8; b:210'}, {'RSS': 230040.0, 'name': 'm:1.8; b:213'}, {'RSS': 236145.0, 'name': 'm:1.8; b:216'}, {'RSS': 242340.0, 'name': 'm:1.8; b:219'}, {'RSS': 248625.0, 'name': 'm:1.8; b:222'}, {'RSS': 255000.0, 'name': 'm:1.8; b:225'}, {'RSS': 261465.0, 'name': 'm:1.8; b:228'}, {'RSS': 268020.0, 'name': 'm:1.8; b:231'}, {'RSS': 274665.0, 'name': 'm:1.8; b:234'}, {'RSS': 281400.0, 'name': 'm:1.8; b:237'}, {'RSS': 288225.0, 'name': 'm:1.8; b:240'}, {'RSS': 295140.0, 'name': 'm:1.8; b:243'}, {'RSS': 302145.0, 'name': 'm:1.8; b:246'}, {'RSS': 309240.0, 'name': 'm:1.8; b:249'}, {'RSS': 316425.0, 'name': 'm:1.8; b:252'}, {'RSS': 323700.0, 'name': 'm:1.8; b:255'}, {'RSS': 331065.0, 'name': 'm:1.8; b:258'}, {'RSS': 338520.0, 'name': 'm:1.8; b:261'}, {'RSS': 346065.0, 'name': 'm:1.8; b:264'}, {'RSS': 353700.0, 'name': 'm:1.8; b:267'}, {'RSS': 361425.0, 'name': 'm:1.8; b:270'}, {'RSS': 369240.0, 'name': 'm:1.8; b:273'}, {'RSS': 377145.0, 'name': 'm:1.8; b:276'}, {'RSS': 385140.0, 'name': 'm:1.8; b:279'}, {'RSS': 393225.0, 'name': 'm:1.8; b:282'}, {'RSS': 401400.0, 'name': 'm:1.8; b:285'}, {'RSS': 409665.0, 'name': 'm:1.8; b:288'}, {'RSS': 418020.0, 'name': 'm:1.8; b:291'}, {'RSS': 426465.0, 'name': 'm:1.8; b:294'}, {'RSS': 435000.0, 'name': 'm:1.8; b:297'}, {'RSS': 31406.25, 'name': 'm:1.9; b:0'}, {'RSS': 31886.25, 'name': 'm:1.9; b:3'}, {'RSS': 32456.25, 'name': 'm:1.9; b:6'}, {'RSS': 33116.25, 'name': 'm:1.9; b:9'}, {'RSS': 33866.25, 'name': 'm:1.9; b:12'}, {'RSS': 34706.25, 'name': 'm:1.9; b:15'}, {'RSS': 35636.25, 'name': 'm:1.9; b:18'}, {'RSS': 36656.25, 'name': 'm:1.9; b:21'}, {'RSS': 37766.25, 'name': 'm:1.9; b:24'}, {'RSS': 38966.25, 'name': 'm:1.9; b:27'}, {'RSS': 40256.25, 'name': 'm:1.9; b:30'}, {'RSS': 41636.25, 'name': 'm:1.9; b:33'}, {'RSS': 43106.25, 'name': 'm:1.9; b:36'}, {'RSS': 44666.25, 'name': 'm:1.9; b:39'}, {'RSS': 46316.25, 'name': 'm:1.9; b:42'}, {'RSS': 48056.25, 'name': 'm:1.9; b:45'}, {'RSS': 49886.25, 'name': 'm:1.9; b:48'}, {'RSS': 51806.25, 'name': 'm:1.9; b:51'}, {'RSS': 53816.25, 'name': 'm:1.9; b:54'}, {'RSS': 55916.25, 'name': 'm:1.9; b:57'}, {'RSS': 58106.25, 'name': 'm:1.9; b:60'}, {'RSS': 60386.25, 'name': 'm:1.9; b:63'}, {'RSS': 62756.25, 'name': 'm:1.9; b:66'}, {'RSS': 65216.25, 'name': 'm:1.9; b:69'}, {'RSS': 67766.25, 'name': 'm:1.9; b:72'}, {'RSS': 70406.25, 'name': 'm:1.9; b:75'}, {'RSS': 73136.25, 'name': 'm:1.9; b:78'}, {'RSS': 75956.25, 'name': 'm:1.9; b:81'}, {'RSS': 78866.25, 'name': 'm:1.9; b:84'}, {'RSS': 81866.25, 'name': 'm:1.9; b:87'}, {'RSS': 84956.25, 'name': 'm:1.9; b:90'}, {'RSS': 88136.25, 'name': 'm:1.9; b:93'}, {'RSS': 91406.25, 'name': 'm:1.9; b:96'}, {'RSS': 94766.25, 'name': 'm:1.9; b:99'}, {'RSS': 98216.25, 'name': 'm:1.9; b:102'}, {'RSS': 101756.25, 'name': 'm:1.9; b:105'}, {'RSS': 105386.25, 'name': 'm:1.9; b:108'}, {'RSS': 109106.25, 'name': 'm:1.9; b:111'}, {'RSS': 112916.25, 'name': 'm:1.9; b:114'}, {'RSS': 116816.25, 'name': 'm:1.9; b:117'}, {'RSS': 120806.25, 'name': 'm:1.9; b:120'}, {'RSS': 124886.25, 'name': 'm:1.9; b:123'}, {'RSS': 129056.25, 'name': 'm:1.9; b:126'}, {'RSS': 133316.25, 'name': 'm:1.9; b:129'}, {'RSS': 137666.25, 'name': 'm:1.9; b:132'}, {'RSS': 142106.25, 'name': 'm:1.9; b:135'}, {'RSS': 146636.25, 'name': 'm:1.9; b:138'}, {'RSS': 151256.25, 'name': 'm:1.9; b:141'}, {'RSS': 155966.25, 'name': 'm:1.9; b:144'}, {'RSS': 160766.25, 'name': 'm:1.9; b:147'}, {'RSS': 165656.25, 'name': 'm:1.9; b:150'}, {'RSS': 170636.25, 'name': 'm:1.9; b:153'}, {'RSS': 175706.25, 'name': 'm:1.9; b:156'}, {'RSS': 180866.25, 'name': 'm:1.9; b:159'}, {'RSS': 186116.25, 'name': 'm:1.9; b:162'}, {'RSS': 191456.25, 'name': 'm:1.9; b:165'}, {'RSS': 196886.25, 'name': 'm:1.9; b:168'}, {'RSS': 202406.25, 'name': 'm:1.9; b:171'}, {'RSS': 208016.25, 'name': 'm:1.9; b:174'}, {'RSS': 213716.25, 'name': 'm:1.9; b:177'}, {'RSS': 219506.25, 'name': 'm:1.9; b:180'}, {'RSS': 225386.25, 'name': 'm:1.9; b:183'}, {'RSS': 231356.25, 'name': 'm:1.9; b:186'}, {'RSS': 237416.25, 'name': 'm:1.9; b:189'}, {'RSS': 243566.25, 'name': 'm:1.9; b:192'}, {'RSS': 249806.25, 'name': 'm:1.9; b:195'}, {'RSS': 256136.25, 'name': 'm:1.9; b:198'}, {'RSS': 262556.25, 'name': 'm:1.9; b:201'}, {'RSS': 269066.25, 'name': 'm:1.9; b:204'}, {'RSS': 275666.25, 'name': 'm:1.9; b:207'}, {'RSS': 282356.25, 'name': 'm:1.9; b:210'}, {'RSS': 289136.25, 'name': 'm:1.9; b:213'}, {'RSS': 296006.25, 'name': 'm:1.9; b:216'}, {'RSS': 302966.25, 'name': 'm:1.9; b:219'}, {'RSS': 310016.25, 'name': 'm:1.9; b:222'}, {'RSS': 317156.25, 'name': 'm:1.9; b:225'}, {'RSS': 324386.25, 'name': 'm:1.9; b:228'}, {'RSS': 331706.25, 'name': 'm:1.9; b:231'}, {'RSS': 339116.25, 'name': 'm:1.9; b:234'}, {'RSS': 346616.25, 'name': 'm:1.9; b:237'}, {'RSS': 354206.25, 'name': 'm:1.9; b:240'}, {'RSS': 361886.25, 'name': 'm:1.9; b:243'}, {'RSS': 369656.25, 'name': 'm:1.9; b:246'}, {'RSS': 377516.25, 'name': 'm:1.9; b:249'}, {'RSS': 385466.25, 'name': 'm:1.9; b:252'}, {'RSS': 393506.25, 'name': 'm:1.9; b:255'}, {'RSS': 401636.25, 'name': 'm:1.9; b:258'}, {'RSS': 409856.25, 'name': 'm:1.9; b:261'}, {'RSS': 418166.25, 'name': 'm:1.9; b:264'}, {'RSS': 426566.25, 'name': 'm:1.9; b:267'}, {'RSS': 435056.25, 'name': 'm:1.9; b:270'}, {'RSS': 443636.25, 'name': 'm:1.9; b:273'}, {'RSS': 452306.25, 'name': 'm:1.9; b:276'}, {'RSS': 461066.25, 'name': 'm:1.9; b:279'}, {'RSS': 469916.25, 'name': 'm:1.9; b:282'}, {'RSS': 478856.25, 'name': 'm:1.9; b:285'}, {'RSS': 487886.25, 'name': 'm:1.9; b:288'}, {'RSS': 497006.25, 'name': 'm:1.9; b:291'}, {'RSS': 506216.25, 'name': 'm:1.9; b:294'}, {'RSS': 515516.25, 'name': 'm:1.9; b:297'}, {'RSS': 43750.0, 'name': 'm:2.0; b:0'}, {'RSS': 44995.0, 'name': 'm:2.0; b:3'}, {'RSS': 46330.0, 'name': 'm:2.0; b:6'}, {'RSS': 47755.0, 'name': 'm:2.0; b:9'}, {'RSS': 49270.0, 'name': 'm:2.0; b:12'}, {'RSS': 50875.0, 'name': 'm:2.0; b:15'}, {'RSS': 52570.0, 'name': 'm:2.0; b:18'}, {'RSS': 54355.0, 'name': 'm:2.0; b:21'}, {'RSS': 56230.0, 'name': 'm:2.0; b:24'}, {'RSS': 58195.0, 'name': 'm:2.0; b:27'}, {'RSS': 60250.0, 'name': 'm:2.0; b:30'}, {'RSS': 62395.0, 'name': 'm:2.0; b:33'}, {'RSS': 64630.0, 'name': 'm:2.0; b:36'}, {'RSS': 66955.0, 'name': 'm:2.0; b:39'}, {'RSS': 69370.0, 'name': 'm:2.0; b:42'}, {'RSS': 71875.0, 'name': 'm:2.0; b:45'}, {'RSS': 74470.0, 'name': 'm:2.0; b:48'}, {'RSS': 77155.0, 'name': 'm:2.0; b:51'}, {'RSS': 79930.0, 'name': 'm:2.0; b:54'}, {'RSS': 82795.0, 'name': 'm:2.0; b:57'}, {'RSS': 85750.0, 'name': 'm:2.0; b:60'}, {'RSS': 88795.0, 'name': 'm:2.0; b:63'}, {'RSS': 91930.0, 'name': 'm:2.0; b:66'}, {'RSS': 95155.0, 'name': 'm:2.0; b:69'}, {'RSS': 98470.0, 'name': 'm:2.0; b:72'}, {'RSS': 101875.0, 'name': 'm:2.0; b:75'}, {'RSS': 105370.0, 'name': 'm:2.0; b:78'}, {'RSS': 108955.0, 'name': 'm:2.0; b:81'}, {'RSS': 112630.0, 'name': 'm:2.0; b:84'}, {'RSS': 116395.0, 'name': 'm:2.0; b:87'}, {'RSS': 120250.0, 'name': 'm:2.0; b:90'}, {'RSS': 124195.0, 'name': 'm:2.0; b:93'}, {'RSS': 128230.0, 'name': 'm:2.0; b:96'}, {'RSS': 132355.0, 'name': 'm:2.0; b:99'}, {'RSS': 136570.0, 'name': 'm:2.0; b:102'}, {'RSS': 140875.0, 'name': 'm:2.0; b:105'}, {'RSS': 145270.0, 'name': 'm:2.0; b:108'}, {'RSS': 149755.0, 'name': 'm:2.0; b:111'}, {'RSS': 154330.0, 'name': 'm:2.0; b:114'}, {'RSS': 158995.0, 'name': 'm:2.0; b:117'}, {'RSS': 163750.0, 'name': 'm:2.0; b:120'}, {'RSS': 168595.0, 'name': 'm:2.0; b:123'}, {'RSS': 173530.0, 'name': 'm:2.0; b:126'}, {'RSS': 178555.0, 'name': 'm:2.0; b:129'}, {'RSS': 183670.0, 'name': 'm:2.0; b:132'}, {'RSS': 188875.0, 'name': 'm:2.0; b:135'}, {'RSS': 194170.0, 'name': 'm:2.0; b:138'}, {'RSS': 199555.0, 'name': 'm:2.0; b:141'}, {'RSS': 205030.0, 'name': 'm:2.0; b:144'}, {'RSS': 210595.0, 'name': 'm:2.0; b:147'}, {'RSS': 216250.0, 'name': 'm:2.0; b:150'}, {'RSS': 221995.0, 'name': 'm:2.0; b:153'}, {'RSS': 227830.0, 'name': 'm:2.0; b:156'}, {'RSS': 233755.0, 'name': 'm:2.0; b:159'}, {'RSS': 239770.0, 'name': 'm:2.0; b:162'}, {'RSS': 245875.0, 'name': 'm:2.0; b:165'}, {'RSS': 252070.0, 'name': 'm:2.0; b:168'}, {'RSS': 258355.0, 'name': 'm:2.0; b:171'}, {'RSS': 264730.0, 'name': 'm:2.0; b:174'}, {'RSS': 271195.0, 'name': 'm:2.0; b:177'}, {'RSS': 277750.0, 'name': 'm:2.0; b:180'}, {'RSS': 284395.0, 'name': 'm:2.0; b:183'}, {'RSS': 291130.0, 'name': 'm:2.0; b:186'}, {'RSS': 297955.0, 'name': 'm:2.0; b:189'}, {'RSS': 304870.0, 'name': 'm:2.0; b:192'}, {'RSS': 311875.0, 'name': 'm:2.0; b:195'}, {'RSS': 318970.0, 'name': 'm:2.0; b:198'}, {'RSS': 326155.0, 'name': 'm:2.0; b:201'}, {'RSS': 333430.0, 'name': 'm:2.0; b:204'}, {'RSS': 340795.0, 'name': 'm:2.0; b:207'}, {'RSS': 348250.0, 'name': 'm:2.0; b:210'}, {'RSS': 355795.0, 'name': 'm:2.0; b:213'}, {'RSS': 363430.0, 'name': 'm:2.0; b:216'}, {'RSS': 371155.0, 'name': 'm:2.0; b:219'}, {'RSS': 378970.0, 'name': 'm:2.0; b:222'}, {'RSS': 386875.0, 'name': 'm:2.0; b:225'}, {'RSS': 394870.0, 'name': 'm:2.0; b:228'}, {'RSS': 402955.0, 'name': 'm:2.0; b:231'}, {'RSS': 411130.0, 'name': 'm:2.0; b:234'}, {'RSS': 419395.0, 'name': 'm:2.0; b:237'}, {'RSS': 427750.0, 'name': 'm:2.0; b:240'}, {'RSS': 436195.0, 'name': 'm:2.0; b:243'}, {'RSS': 444730.0, 'name': 'm:2.0; b:246'}, {'RSS': 453355.0, 'name': 'm:2.0; b:249'}, {'RSS': 462070.0, 'name': 'm:2.0; b:252'}, {'RSS': 470875.0, 'name': 'm:2.0; b:255'}, {'RSS': 479770.0, 'name': 'm:2.0; b:258'}, {'RSS': 488755.0, 'name': 'm:2.0; b:261'}, {'RSS': 497830.0, 'name': 'm:2.0; b:264'}, {'RSS': 506995.0, 'name': 'm:2.0; b:267'}, {'RSS': 516250.0, 'name': 'm:2.0; b:270'}, {'RSS': 525595.0, 'name': 'm:2.0; b:273'}, {'RSS': 535030.0, 'name': 'm:2.0; b:276'}, {'RSS': 544555.0, 'name': 'm:2.0; b:279'}, {'RSS': 554170.0, 'name': 'm:2.0; b:282'}, {'RSS': 563875.0, 'name': 'm:2.0; b:285'}, {'RSS': 573670.0, 'name': 'm:2.0; b:288'}, {'RSS': 583555.0, 'name': 'm:2.0; b:291'}, {'RSS': 593530.0, 'name': 'm:2.0; b:294'}, {'RSS': 603595.0, 'name': 'm:2.0; b:297'}, {'RSS': 63656.25, 'name': 'm:2.1; b:0'}, {'RSS': 65666.25, 'name': 'm:2.1; b:3'}, {'RSS': 67766.25, 'name': 'm:2.1; b:6'}, {'RSS': 69956.25, 'name': 'm:2.1; b:9'}, {'RSS': 72236.25, 'name': 'm:2.1; b:12'}, {'RSS': 74606.25, 'name': 'm:2.1; b:15'}, {'RSS': 77066.25, 'name': 'm:2.1; b:18'}, {'RSS': 79616.25, 'name': 'm:2.1; b:21'}, {'RSS': 82256.25, 'name': 'm:2.1; b:24'}, {'RSS': 84986.25, 'name': 'm:2.1; b:27'}, {'RSS': 87806.25, 'name': 'm:2.1; b:30'}, {'RSS': 90716.25, 'name': 'm:2.1; b:33'}, {'RSS': 93716.25, 'name': 'm:2.1; b:36'}, {'RSS': 96806.25, 'name': 'm:2.1; b:39'}, {'RSS': 99986.25, 'name': 'm:2.1; b:42'}, {'RSS': 103256.25, 'name': 'm:2.1; b:45'}, {'RSS': 106616.25, 'name': 'm:2.1; b:48'}, {'RSS': 110066.25, 'name': 'm:2.1; b:51'}, {'RSS': 113606.25, 'name': 'm:2.1; b:54'}, {'RSS': 117236.25, 'name': 'm:2.1; b:57'}, {'RSS': 120956.25, 'name': 'm:2.1; b:60'}, {'RSS': 124766.25, 'name': 'm:2.1; b:63'}, {'RSS': 128666.25, 'name': 'm:2.1; b:66'}, {'RSS': 132656.25, 'name': 'm:2.1; b:69'}, {'RSS': 136736.25, 'name': 'm:2.1; b:72'}, {'RSS': 140906.25, 'name': 'm:2.1; b:75'}, {'RSS': 145166.25, 'name': 'm:2.1; b:78'}, {'RSS': 149516.25, 'name': 'm:2.1; b:81'}, {'RSS': 153956.25, 'name': 'm:2.1; b:84'}, {'RSS': 158486.25, 'name': 'm:2.1; b:87'}, {'RSS': 163106.25, 'name': 'm:2.1; b:90'}, {'RSS': 167816.25, 'name': 'm:2.1; b:93'}, {'RSS': 172616.25, 'name': 'm:2.1; b:96'}, {'RSS': 177506.25, 'name': 'm:2.1; b:99'}, {'RSS': 182486.25, 'name': 'm:2.1; b:102'}, {'RSS': 187556.25, 'name': 'm:2.1; b:105'}, {'RSS': 192716.25, 'name': 'm:2.1; b:108'}, {'RSS': 197966.25, 'name': 'm:2.1; b:111'}, {'RSS': 203306.25, 'name': 'm:2.1; b:114'}, {'RSS': 208736.25, 'name': 'm:2.1; b:117'}, {'RSS': 214256.25, 'name': 'm:2.1; b:120'}, {'RSS': 219866.25, 'name': 'm:2.1; b:123'}, {'RSS': 225566.25, 'name': 'm:2.1; b:126'}, {'RSS': 231356.25, 'name': 'm:2.1; b:129'}, {'RSS': 237236.25, 'name': 'm:2.1; b:132'}, {'RSS': 243206.25, 'name': 'm:2.1; b:135'}, {'RSS': 249266.25, 'name': 'm:2.1; b:138'}, {'RSS': 255416.25, 'name': 'm:2.1; b:141'}, {'RSS': 261656.25, 'name': 'm:2.1; b:144'}, {'RSS': 267986.25, 'name': 'm:2.1; b:147'}, {'RSS': 274406.25, 'name': 'm:2.1; b:150'}, {'RSS': 280916.25, 'name': 'm:2.1; b:153'}, {'RSS': 287516.25, 'name': 'm:2.1; b:156'}, {'RSS': 294206.25, 'name': 'm:2.1; b:159'}, {'RSS': 300986.25, 'name': 'm:2.1; b:162'}, {'RSS': 307856.25, 'name': 'm:2.1; b:165'}, {'RSS': 314816.25, 'name': 'm:2.1; b:168'}, {'RSS': 321866.25, 'name': 'm:2.1; b:171'}, {'RSS': 329006.25, 'name': 'm:2.1; b:174'}, {'RSS': 336236.25, 'name': 'm:2.1; b:177'}, {'RSS': 343556.25, 'name': 'm:2.1; b:180'}, {'RSS': 350966.25, 'name': 'm:2.1; b:183'}, {'RSS': 358466.25, 'name': 'm:2.1; b:186'}, {'RSS': 366056.25, 'name': 'm:2.1; b:189'}, {'RSS': 373736.25, 'name': 'm:2.1; b:192'}, {'RSS': 381506.25, 'name': 'm:2.1; b:195'}, {'RSS': 389366.25, 'name': 'm:2.1; b:198'}, {'RSS': 397316.25, 'name': 'm:2.1; b:201'}, {'RSS': 405356.25, 'name': 'm:2.1; b:204'}, {'RSS': 413486.25, 'name': 'm:2.1; b:207'}, {'RSS': 421706.25, 'name': 'm:2.1; b:210'}, {'RSS': 430016.25, 'name': 'm:2.1; b:213'}, {'RSS': 438416.25, 'name': 'm:2.1; b:216'}, {'RSS': 446906.25, 'name': 'm:2.1; b:219'}, {'RSS': 455486.25, 'name': 'm:2.1; b:222'}, {'RSS': 464156.25, 'name': 'm:2.1; b:225'}, {'RSS': 472916.25, 'name': 'm:2.1; b:228'}, {'RSS': 481766.25, 'name': 'm:2.1; b:231'}, {'RSS': 490706.25, 'name': 'm:2.1; b:234'}, {'RSS': 499736.25, 'name': 'm:2.1; b:237'}, {'RSS': 508856.25, 'name': 'm:2.1; b:240'}, {'RSS': 518066.25, 'name': 'm:2.1; b:243'}, {'RSS': 527366.25, 'name': 'm:2.1; b:246'}, {'RSS': 536756.25, 'name': 'm:2.1; b:249'}, {'RSS': 546236.25, 'name': 'm:2.1; b:252'}, {'RSS': 555806.25, 'name': 'm:2.1; b:255'}, {'RSS': 565466.25, 'name': 'm:2.1; b:258'}, {'RSS': 575216.25, 'name': 'm:2.1; b:261'}, {'RSS': 585056.25, 'name': 'm:2.1; b:264'}, {'RSS': 594986.25, 'name': 'm:2.1; b:267'}, {'RSS': 605006.25, 'name': 'm:2.1; b:270'}, {'RSS': 615116.25, 'name': 'm:2.1; b:273'}, {'RSS': 625316.25, 'name': 'm:2.1; b:276'}, {'RSS': 635606.25, 'name': 'm:2.1; b:279'}, {'RSS': 645986.25, 'name': 'm:2.1; b:282'}, {'RSS': 656456.25, 'name': 'm:2.1; b:285'}, {'RSS': 667016.25, 'name': 'm:2.1; b:288'}, {'RSS': 677666.25, 'name': 'm:2.1; b:291'}, {'RSS': 688406.25, 'name': 'm:2.1; b:294'}, {'RSS': 699236.25, 'name': 'm:2.1; b:297'}, {'RSS': 91125.0, 'name': 'm:2.2; b:0'}, {'RSS': 93900.0, 'name': 'm:2.2; b:3'}, {'RSS': 96765.0, 'name': 'm:2.2; b:6'}, {'RSS': 99720.0, 'name': 'm:2.2; b:9'}, {'RSS': 102765.0, 'name': 'm:2.2; b:12'}, {'RSS': 105900.0, 'name': 'm:2.2; b:15'}, {'RSS': 109125.0, 'name': 'm:2.2; b:18'}, {'RSS': 112440.0, 'name': 'm:2.2; b:21'}, {'RSS': 115845.0, 'name': 'm:2.2; b:24'}, {'RSS': 119340.0, 'name': 'm:2.2; b:27'}, {'RSS': 122925.0, 'name': 'm:2.2; b:30'}, {'RSS': 126600.0, 'name': 'm:2.2; b:33'}, {'RSS': 130365.0, 'name': 'm:2.2; b:36'}, {'RSS': 134220.0, 'name': 'm:2.2; b:39'}, {'RSS': 138165.0, 'name': 'm:2.2; b:42'}, {'RSS': 142200.0, 'name': 'm:2.2; b:45'}, {'RSS': 146325.0, 'name': 'm:2.2; b:48'}, {'RSS': 150540.0, 'name': 'm:2.2; b:51'}, {'RSS': 154845.0, 'name': 'm:2.2; b:54'}, {'RSS': 159240.0, 'name': 'm:2.2; b:57'}, {'RSS': 163725.0, 'name': 'm:2.2; b:60'}, {'RSS': 168300.0, 'name': 'm:2.2; b:63'}, {'RSS': 172965.0, 'name': 'm:2.2; b:66'}, {'RSS': 177720.0, 'name': 'm:2.2; b:69'}, {'RSS': 182565.0, 'name': 'm:2.2; b:72'}, {'RSS': 187500.0, 'name': 'm:2.2; b:75'}, {'RSS': 192525.0, 'name': 'm:2.2; b:78'}, {'RSS': 197640.0, 'name': 'm:2.2; b:81'}, {'RSS': 202845.0, 'name': 'm:2.2; b:84'}, {'RSS': 208140.0, 'name': 'm:2.2; b:87'}, {'RSS': 213525.0, 'name': 'm:2.2; b:90'}, {'RSS': 219000.0, 'name': 'm:2.2; b:93'}, {'RSS': 224565.0, 'name': 'm:2.2; b:96'}, {'RSS': 230220.0, 'name': 'm:2.2; b:99'}, {'RSS': 235965.0, 'name': 'm:2.2; b:102'}, {'RSS': 241800.0, 'name': 'm:2.2; b:105'}, {'RSS': 247725.0, 'name': 'm:2.2; b:108'}, {'RSS': 253740.0, 'name': 'm:2.2; b:111'}, {'RSS': 259845.0, 'name': 'm:2.2; b:114'}, {'RSS': 266040.0, 'name': 'm:2.2; b:117'}, {'RSS': 272325.0, 'name': 'm:2.2; b:120'}, {'RSS': 278700.0, 'name': 'm:2.2; b:123'}, {'RSS': 285165.0, 'name': 'm:2.2; b:126'}, {'RSS': 291720.0, 'name': 'm:2.2; b:129'}, {'RSS': 298365.0, 'name': 'm:2.2; b:132'}, {'RSS': 305100.0, 'name': 'm:2.2; b:135'}, {'RSS': 311925.0, 'name': 'm:2.2; b:138'}, {'RSS': 318840.0, 'name': 'm:2.2; b:141'}, {'RSS': 325845.0, 'name': 'm:2.2; b:144'}, {'RSS': 332940.0, 'name': 'm:2.2; b:147'}, {'RSS': 340125.0, 'name': 'm:2.2; b:150'}, {'RSS': 347400.0, 'name': 'm:2.2; b:153'}, {'RSS': 354765.0, 'name': 'm:2.2; b:156'}, {'RSS': 362220.0, 'name': 'm:2.2; b:159'}, {'RSS': 369765.0, 'name': 'm:2.2; b:162'}, {'RSS': 377400.0, 'name': 'm:2.2; b:165'}, {'RSS': 385125.0, 'name': 'm:2.2; b:168'}, {'RSS': 392940.0, 'name': 'm:2.2; b:171'}, {'RSS': 400845.0, 'name': 'm:2.2; b:174'}, {'RSS': 408840.0, 'name': 'm:2.2; b:177'}, {'RSS': 416925.0, 'name': 'm:2.2; b:180'}, {'RSS': 425100.0, 'name': 'm:2.2; b:183'}, {'RSS': 433365.0, 'name': 'm:2.2; b:186'}, {'RSS': 441720.0, 'name': 'm:2.2; b:189'}, {'RSS': 450165.0, 'name': 'm:2.2; b:192'}, {'RSS': 458700.0, 'name': 'm:2.2; b:195'}, {'RSS': 467325.0, 'name': 'm:2.2; b:198'}, {'RSS': 476040.0, 'name': 'm:2.2; b:201'}, {'RSS': 484845.0, 'name': 'm:2.2; b:204'}, {'RSS': 493740.0, 'name': 'm:2.2; b:207'}, {'RSS': 502725.0, 'name': 'm:2.2; b:210'}, {'RSS': 511800.0, 'name': 'm:2.2; b:213'}, {'RSS': 520965.0, 'name': 'm:2.2; b:216'}, {'RSS': 530220.0, 'name': 'm:2.2; b:219'}, {'RSS': 539565.0, 'name': 'm:2.2; b:222'}, {'RSS': 549000.0, 'name': 'm:2.2; b:225'}, {'RSS': 558525.0, 'name': 'm:2.2; b:228'}, {'RSS': 568140.0, 'name': 'm:2.2; b:231'}, {'RSS': 577845.0, 'name': 'm:2.2; b:234'}, {'RSS': 587640.0, 'name': 'm:2.2; b:237'}, {'RSS': 597525.0, 'name': 'm:2.2; b:240'}, {'RSS': 607500.0, 'name': 'm:2.2; b:243'}, {'RSS': 617565.0, 'name': 'm:2.2; b:246'}, {'RSS': 627720.0, 'name': 'm:2.2; b:249'}, {'RSS': 637965.0, 'name': 'm:2.2; b:252'}, {'RSS': 648300.0, 'name': 'm:2.2; b:255'}, {'RSS': 658725.0, 'name': 'm:2.2; b:258'}, {'RSS': 669240.0, 'name': 'm:2.2; b:261'}, {'RSS': 679845.0, 'name': 'm:2.2; b:264'}, {'RSS': 690540.0, 'name': 'm:2.2; b:267'}, {'RSS': 701325.0, 'name': 'm:2.2; b:270'}, {'RSS': 712200.0, 'name': 'm:2.2; b:273'}, {'RSS': 723165.0, 'name': 'm:2.2; b:276'}, {'RSS': 734220.0, 'name': 'm:2.2; b:279'}, {'RSS': 745365.0, 'name': 'm:2.2; b:282'}, {'RSS': 756600.0, 'name': 'm:2.2; b:285'}, {'RSS': 767925.0, 'name': 'm:2.2; b:288'}, {'RSS': 779340.0, 'name': 'm:2.2; b:291'}, {'RSS': 790845.0, 'name': 'm:2.2; b:294'}, {'RSS': 802440.0, 'name': 'm:2.2; b:297'}, {'RSS': 126156.25, 'name': 'm:2.3; b:0'}, {'RSS': 129696.25, 'name': 'm:2.3; b:3'}, {'RSS': 133326.25, 'name': 'm:2.3; b:6'}, {'RSS': 137046.25, 'name': 'm:2.3; b:9'}, {'RSS': 140856.25, 'name': 'm:2.3; b:12'}, {'RSS': 144756.25, 'name': 'm:2.3; b:15'}, {'RSS': 148746.25, 'name': 'm:2.3; b:18'}, {'RSS': 152826.25, 'name': 'm:2.3; b:21'}, {'RSS': 156996.25, 'name': 'm:2.3; b:24'}, {'RSS': 161256.25, 'name': 'm:2.3; b:27'}, {'RSS': 165606.25, 'name': 'm:2.3; b:30'}, {'RSS': 170046.25, 'name': 'm:2.3; b:33'}, {'RSS': 174576.25, 'name': 'm:2.3; b:36'}, {'RSS': 179196.25, 'name': 'm:2.3; b:39'}, {'RSS': 183906.25, 'name': 'm:2.3; b:42'}, {'RSS': 188706.25, 'name': 'm:2.3; b:45'}, {'RSS': 193596.25, 'name': 'm:2.3; b:48'}, {'RSS': 198576.25, 'name': 'm:2.3; b:51'}, {'RSS': 203646.25, 'name': 'm:2.3; b:54'}, {'RSS': 208806.25, 'name': 'm:2.3; b:57'}, {'RSS': 214056.25, 'name': 'm:2.3; b:60'}, {'RSS': 219396.25, 'name': 'm:2.3; b:63'}, {'RSS': 224826.25, 'name': 'm:2.3; b:66'}, {'RSS': 230346.25, 'name': 'm:2.3; b:69'}, {'RSS': 235956.25, 'name': 'm:2.3; b:72'}, {'RSS': 241656.25, 'name': 'm:2.3; b:75'}, {'RSS': 247446.25, 'name': 'm:2.3; b:78'}, {'RSS': 253326.25, 'name': 'm:2.3; b:81'}, {'RSS': 259296.25, 'name': 'm:2.3; b:84'}, {'RSS': 265356.25, 'name': 'm:2.3; b:87'}, {'RSS': 271506.25, 'name': 'm:2.3; b:90'}, {'RSS': 277746.25, 'name': 'm:2.3; b:93'}, {'RSS': 284076.25, 'name': 'm:2.3; b:96'}, {'RSS': 290496.25, 'name': 'm:2.3; b:99'}, {'RSS': 297006.25, 'name': 'm:2.3; b:102'}, {'RSS': 303606.25, 'name': 'm:2.3; b:105'}, {'RSS': 310296.25, 'name': 'm:2.3; b:108'}, {'RSS': 317076.25, 'name': 'm:2.3; b:111'}, {'RSS': 323946.25, 'name': 'm:2.3; b:114'}, {'RSS': 330906.25, 'name': 'm:2.3; b:117'}, {'RSS': 337956.25, 'name': 'm:2.3; b:120'}, {'RSS': 345096.25, 'name': 'm:2.3; b:123'}, {'RSS': 352326.25, 'name': 'm:2.3; b:126'}, {'RSS': 359646.25, 'name': 'm:2.3; b:129'}, {'RSS': 367056.25, 'name': 'm:2.3; b:132'}, {'RSS': 374556.25, 'name': 'm:2.3; b:135'}, {'RSS': 382146.25, 'name': 'm:2.3; b:138'}, {'RSS': 389826.25, 'name': 'm:2.3; b:141'}, {'RSS': 397596.25, 'name': 'm:2.3; b:144'}, {'RSS': 405456.25, 'name': 'm:2.3; b:147'}, {'RSS': 413406.25, 'name': 'm:2.3; b:150'}, {'RSS': 421446.25, 'name': 'm:2.3; b:153'}, {'RSS': 429576.25, 'name': 'm:2.3; b:156'}, {'RSS': 437796.25, 'name': 'm:2.3; b:159'}, {'RSS': 446106.25, 'name': 'm:2.3; b:162'}, {'RSS': 454506.25, 'name': 'm:2.3; b:165'}, {'RSS': 462996.25, 'name': 'm:2.3; b:168'}, {'RSS': 471576.25, 'name': 'm:2.3; b:171'}, {'RSS': 480246.25, 'name': 'm:2.3; b:174'}, {'RSS': 489006.25, 'name': 'm:2.3; b:177'}, {'RSS': 497856.25, 'name': 'm:2.3; b:180'}, {'RSS': 506796.25, 'name': 'm:2.3; b:183'}, {'RSS': 515826.25, 'name': 'm:2.3; b:186'}, {'RSS': 524946.25, 'name': 'm:2.3; b:189'}, {'RSS': 534156.25, 'name': 'm:2.3; b:192'}, {'RSS': 543456.25, 'name': 'm:2.3; b:195'}, {'RSS': 552846.25, 'name': 'm:2.3; b:198'}, {'RSS': 562326.25, 'name': 'm:2.3; b:201'}, {'RSS': 571896.25, 'name': 'm:2.3; b:204'}, {'RSS': 581556.25, 'name': 'm:2.3; b:207'}, {'RSS': 591306.25, 'name': 'm:2.3; b:210'}, {'RSS': 601146.25, 'name': 'm:2.3; b:213'}, {'RSS': 611076.25, 'name': 'm:2.3; b:216'}, {'RSS': 621096.25, 'name': 'm:2.3; b:219'}, {'RSS': 631206.25, 'name': 'm:2.3; b:222'}, {'RSS': 641406.25, 'name': 'm:2.3; b:225'}, {'RSS': 651696.25, 'name': 'm:2.3; b:228'}, {'RSS': 662076.25, 'name': 'm:2.3; b:231'}, {'RSS': 672546.25, 'name': 'm:2.3; b:234'}, {'RSS': 683106.25, 'name': 'm:2.3; b:237'}, {'RSS': 693756.25, 'name': 'm:2.3; b:240'}, {'RSS': 704496.25, 'name': 'm:2.3; b:243'}, {'RSS': 715326.25, 'name': 'm:2.3; b:246'}, {'RSS': 726246.25, 'name': 'm:2.3; b:249'}, {'RSS': 737256.25, 'name': 'm:2.3; b:252'}, {'RSS': 748356.25, 'name': 'm:2.3; b:255'}, {'RSS': 759546.25, 'name': 'm:2.3; b:258'}, {'RSS': 770826.25, 'name': 'm:2.3; b:261'}, {'RSS': 782196.25, 'name': 'm:2.3; b:264'}, {'RSS': 793656.25, 'name': 'm:2.3; b:267'}, {'RSS': 805206.25, 'name': 'm:2.3; b:270'}, {'RSS': 816846.25, 'name': 'm:2.3; b:273'}, {'RSS': 828576.25, 'name': 'm:2.3; b:276'}, {'RSS': 840396.25, 'name': 'm:2.3; b:279'}, {'RSS': 852306.25, 'name': 'm:2.3; b:282'}, {'RSS': 864306.25, 'name': 'm:2.3; b:285'}, {'RSS': 876396.25, 'name': 'm:2.3; b:288'}, {'RSS': 888576.25, 'name': 'm:2.3; b:291'}, {'RSS': 900846.25, 'name': 'm:2.3; b:294'}, {'RSS': 913206.25, 'name': 'm:2.3; b:297'}, {'RSS': 168750.0, 'name': 'm:2.4; b:0'}, {'RSS': 173055.0, 'name': 'm:2.4; b:3'}, {'RSS': 177450.0, 'name': 'm:2.4; b:6'}, {'RSS': 181935.0, 'name': 'm:2.4; b:9'}, {'RSS': 186510.0, 'name': 'm:2.4; b:12'}, {'RSS': 191175.0, 'name': 'm:2.4; b:15'}, {'RSS': 195930.0, 'name': 'm:2.4; b:18'}, {'RSS': 200775.0, 'name': 'm:2.4; b:21'}, {'RSS': 205710.0, 'name': 'm:2.4; b:24'}, {'RSS': 210735.0, 'name': 'm:2.4; b:27'}, {'RSS': 215850.0, 'name': 'm:2.4; b:30'}, {'RSS': 221055.0, 'name': 'm:2.4; b:33'}, {'RSS': 226350.0, 'name': 'm:2.4; b:36'}, {'RSS': 231735.0, 'name': 'm:2.4; b:39'}, {'RSS': 237210.0, 'name': 'm:2.4; b:42'}, {'RSS': 242775.0, 'name': 'm:2.4; b:45'}, {'RSS': 248430.0, 'name': 'm:2.4; b:48'}, {'RSS': 254175.0, 'name': 'm:2.4; b:51'}, {'RSS': 260010.0, 'name': 'm:2.4; b:54'}, {'RSS': 265935.0, 'name': 'm:2.4; b:57'}, {'RSS': 271950.0, 'name': 'm:2.4; b:60'}, {'RSS': 278055.0, 'name': 'm:2.4; b:63'}, {'RSS': 284250.0, 'name': 'm:2.4; b:66'}, {'RSS': 290535.0, 'name': 'm:2.4; b:69'}, {'RSS': 296910.0, 'name': 'm:2.4; b:72'}, {'RSS': 303375.0, 'name': 'm:2.4; b:75'}, {'RSS': 309930.0, 'name': 'm:2.4; b:78'}, {'RSS': 316575.0, 'name': 'm:2.4; b:81'}, {'RSS': 323310.0, 'name': 'm:2.4; b:84'}, {'RSS': 330135.0, 'name': 'm:2.4; b:87'}, {'RSS': 337050.0, 'name': 'm:2.4; b:90'}, {'RSS': 344055.0, 'name': 'm:2.4; b:93'}, {'RSS': 351150.0, 'name': 'm:2.4; b:96'}, {'RSS': 358335.0, 'name': 'm:2.4; b:99'}, {'RSS': 365610.0, 'name': 'm:2.4; b:102'}, {'RSS': 372975.0, 'name': 'm:2.4; b:105'}, {'RSS': 380430.0, 'name': 'm:2.4; b:108'}, {'RSS': 387975.0, 'name': 'm:2.4; b:111'}, {'RSS': 395610.0, 'name': 'm:2.4; b:114'}, {'RSS': 403335.0, 'name': 'm:2.4; b:117'}, {'RSS': 411150.0, 'name': 'm:2.4; b:120'}, {'RSS': 419055.0, 'name': 'm:2.4; b:123'}, {'RSS': 427050.0, 'name': 'm:2.4; b:126'}, {'RSS': 435135.0, 'name': 'm:2.4; b:129'}, {'RSS': 443310.0, 'name': 'm:2.4; b:132'}, {'RSS': 451575.0, 'name': 'm:2.4; b:135'}, {'RSS': 459930.0, 'name': 'm:2.4; b:138'}, {'RSS': 468375.0, 'name': 'm:2.4; b:141'}, {'RSS': 476910.0, 'name': 'm:2.4; b:144'}, {'RSS': 485535.0, 'name': 'm:2.4; b:147'}, {'RSS': 494250.0, 'name': 'm:2.4; b:150'}, {'RSS': 503055.0, 'name': 'm:2.4; b:153'}, {'RSS': 511950.0, 'name': 'm:2.4; b:156'}, {'RSS': 520935.0, 'name': 'm:2.4; b:159'}, {'RSS': 530010.0, 'name': 'm:2.4; b:162'}, {'RSS': 539175.0, 'name': 'm:2.4; b:165'}, {'RSS': 548430.0, 'name': 'm:2.4; b:168'}, {'RSS': 557775.0, 'name': 'm:2.4; b:171'}, {'RSS': 567210.0, 'name': 'm:2.4; b:174'}, {'RSS': 576735.0, 'name': 'm:2.4; b:177'}, {'RSS': 586350.0, 'name': 'm:2.4; b:180'}, {'RSS': 596055.0, 'name': 'm:2.4; b:183'}, {'RSS': 605850.0, 'name': 'm:2.4; b:186'}, {'RSS': 615735.0, 'name': 'm:2.4; b:189'}, {'RSS': 625710.0, 'name': 'm:2.4; b:192'}, {'RSS': 635775.0, 'name': 'm:2.4; b:195'}, {'RSS': 645930.0, 'name': 'm:2.4; b:198'}, {'RSS': 656175.0, 'name': 'm:2.4; b:201'}, {'RSS': 666510.0, 'name': 'm:2.4; b:204'}, {'RSS': 676935.0, 'name': 'm:2.4; b:207'}, {'RSS': 687450.0, 'name': 'm:2.4; b:210'}, {'RSS': 698055.0, 'name': 'm:2.4; b:213'}, {'RSS': 708750.0, 'name': 'm:2.4; b:216'}, {'RSS': 719535.0, 'name': 'm:2.4; b:219'}, {'RSS': 730410.0, 'name': 'm:2.4; b:222'}, {'RSS': 741375.0, 'name': 'm:2.4; b:225'}, {'RSS': 752430.0, 'name': 'm:2.4; b:228'}, {'RSS': 763575.0, 'name': 'm:2.4; b:231'}, {'RSS': 774810.0, 'name': 'm:2.4; b:234'}, {'RSS': 786135.0, 'name': 'm:2.4; b:237'}, {'RSS': 797550.0, 'name': 'm:2.4; b:240'}, {'RSS': 809055.0, 'name': 'm:2.4; b:243'}, {'RSS': 820650.0, 'name': 'm:2.4; b:246'}, {'RSS': 832335.0, 'name': 'm:2.4; b:249'}, {'RSS': 844110.0, 'name': 'm:2.4; b:252'}, {'RSS': 855975.0, 'name': 'm:2.4; b:255'}, {'RSS': 867930.0, 'name': 'm:2.4; b:258'}, {'RSS': 879975.0, 'name': 'm:2.4; b:261'}, {'RSS': 892110.0, 'name': 'm:2.4; b:264'}, {'RSS': 904335.0, 'name': 'm:2.4; b:267'}, {'RSS': 916650.0, 'name': 'm:2.4; b:270'}, {'RSS': 929055.0, 'name': 'm:2.4; b:273'}, {'RSS': 941550.0, 'name': 'm:2.4; b:276'}, {'RSS': 954135.0, 'name': 'm:2.4; b:279'}, {'RSS': 966810.0, 'name': 'm:2.4; b:282'}, {'RSS': 979575.0, 'name': 'm:2.4; b:285'}, {'RSS': 992430.0, 'name': 'm:2.4; b:288'}, {'RSS': 1005375.0, 'name': 'm:2.4; b:291'}, {'RSS': 1018410.0, 'name': 'm:2.4; b:294'}, {'RSS': 1031535.0, 'name': 'm:2.4; b:297'}, {'RSS': 218906.25, 'name': 'm:2.5; b:0'}, {'RSS': 223976.25, 'name': 'm:2.5; b:3'}, {'RSS': 229136.25, 'name': 'm:2.5; b:6'}, {'RSS': 234386.25, 'name': 'm:2.5; b:9'}, {'RSS': 239726.25, 'name': 'm:2.5; b:12'}, {'RSS': 245156.25, 'name': 'm:2.5; b:15'}, {'RSS': 250676.25, 'name': 'm:2.5; b:18'}, {'RSS': 256286.25, 'name': 'm:2.5; b:21'}, {'RSS': 261986.25, 'name': 'm:2.5; b:24'}, {'RSS': 267776.25, 'name': 'm:2.5; b:27'}, {'RSS': 273656.25, 'name': 'm:2.5; b:30'}, {'RSS': 279626.25, 'name': 'm:2.5; b:33'}, {'RSS': 285686.25, 'name': 'm:2.5; b:36'}, {'RSS': 291836.25, 'name': 'm:2.5; b:39'}, {'RSS': 298076.25, 'name': 'm:2.5; b:42'}, {'RSS': 304406.25, 'name': 'm:2.5; b:45'}, {'RSS': 310826.25, 'name': 'm:2.5; b:48'}, {'RSS': 317336.25, 'name': 'm:2.5; b:51'}, {'RSS': 323936.25, 'name': 'm:2.5; b:54'}, {'RSS': 330626.25, 'name': 'm:2.5; b:57'}, {'RSS': 337406.25, 'name': 'm:2.5; b:60'}, {'RSS': 344276.25, 'name': 'm:2.5; b:63'}, {'RSS': 351236.25, 'name': 'm:2.5; b:66'}, {'RSS': 358286.25, 'name': 'm:2.5; b:69'}, {'RSS': 365426.25, 'name': 'm:2.5; b:72'}, {'RSS': 372656.25, 'name': 'm:2.5; b:75'}, {'RSS': 379976.25, 'name': 'm:2.5; b:78'}, {'RSS': 387386.25, 'name': 'm:2.5; b:81'}, {'RSS': 394886.25, 'name': 'm:2.5; b:84'}, {'RSS': 402476.25, 'name': 'm:2.5; b:87'}, {'RSS': 410156.25, 'name': 'm:2.5; b:90'}, {'RSS': 417926.25, 'name': 'm:2.5; b:93'}, {'RSS': 425786.25, 'name': 'm:2.5; b:96'}, {'RSS': 433736.25, 'name': 'm:2.5; b:99'}, {'RSS': 441776.25, 'name': 'm:2.5; b:102'}, {'RSS': 449906.25, 'name': 'm:2.5; b:105'}, {'RSS': 458126.25, 'name': 'm:2.5; b:108'}, {'RSS': 466436.25, 'name': 'm:2.5; b:111'}, {'RSS': 474836.25, 'name': 'm:2.5; b:114'}, {'RSS': 483326.25, 'name': 'm:2.5; b:117'}, {'RSS': 491906.25, 'name': 'm:2.5; b:120'}, {'RSS': 500576.25, 'name': 'm:2.5; b:123'}, {'RSS': 509336.25, 'name': 'm:2.5; b:126'}, {'RSS': 518186.25, 'name': 'm:2.5; b:129'}, {'RSS': 527126.25, 'name': 'm:2.5; b:132'}, {'RSS': 536156.25, 'name': 'm:2.5; b:135'}, {'RSS': 545276.25, 'name': 'm:2.5; b:138'}, {'RSS': 554486.25, 'name': 'm:2.5; b:141'}, {'RSS': 563786.25, 'name': 'm:2.5; b:144'}, {'RSS': 573176.25, 'name': 'm:2.5; b:147'}, {'RSS': 582656.25, 'name': 'm:2.5; b:150'}, {'RSS': 592226.25, 'name': 'm:2.5; b:153'}, {'RSS': 601886.25, 'name': 'm:2.5; b:156'}, {'RSS': 611636.25, 'name': 'm:2.5; b:159'}, {'RSS': 621476.25, 'name': 'm:2.5; b:162'}, {'RSS': 631406.25, 'name': 'm:2.5; b:165'}, {'RSS': 641426.25, 'name': 'm:2.5; b:168'}, {'RSS': 651536.25, 'name': 'm:2.5; b:171'}, {'RSS': 661736.25, 'name': 'm:2.5; b:174'}, {'RSS': 672026.25, 'name': 'm:2.5; b:177'}, {'RSS': 682406.25, 'name': 'm:2.5; b:180'}, {'RSS': 692876.25, 'name': 'm:2.5; b:183'}, {'RSS': 703436.25, 'name': 'm:2.5; b:186'}, {'RSS': 714086.25, 'name': 'm:2.5; b:189'}, {'RSS': 724826.25, 'name': 'm:2.5; b:192'}, {'RSS': 735656.25, 'name': 'm:2.5; b:195'}, {'RSS': 746576.25, 'name': 'm:2.5; b:198'}, {'RSS': 757586.25, 'name': 'm:2.5; b:201'}, {'RSS': 768686.25, 'name': 'm:2.5; b:204'}, {'RSS': 779876.25, 'name': 'm:2.5; b:207'}, {'RSS': 791156.25, 'name': 'm:2.5; b:210'}, {'RSS': 802526.25, 'name': 'm:2.5; b:213'}, {'RSS': 813986.25, 'name': 'm:2.5; b:216'}, {'RSS': 825536.25, 'name': 'm:2.5; b:219'}, {'RSS': 837176.25, 'name': 'm:2.5; b:222'}, {'RSS': 848906.25, 'name': 'm:2.5; b:225'}, {'RSS': 860726.25, 'name': 'm:2.5; b:228'}, {'RSS': 872636.25, 'name': 'm:2.5; b:231'}, {'RSS': 884636.25, 'name': 'm:2.5; b:234'}, {'RSS': 896726.25, 'name': 'm:2.5; b:237'}, {'RSS': 908906.25, 'name': 'm:2.5; b:240'}, {'RSS': 921176.25, 'name': 'm:2.5; b:243'}, {'RSS': 933536.25, 'name': 'm:2.5; b:246'}, {'RSS': 945986.25, 'name': 'm:2.5; b:249'}, {'RSS': 958526.25, 'name': 'm:2.5; b:252'}, {'RSS': 971156.25, 'name': 'm:2.5; b:255'}, {'RSS': 983876.25, 'name': 'm:2.5; b:258'}, {'RSS': 996686.25, 'name': 'm:2.5; b:261'}, {'RSS': 1009586.25, 'name': 'm:2.5; b:264'}, {'RSS': 1022576.25, 'name': 'm:2.5; b:267'}, {'RSS': 1035656.25, 'name': 'm:2.5; b:270'}, {'RSS': 1048826.25, 'name': 'm:2.5; b:273'}, {'RSS': 1062086.25, 'name': 'm:2.5; b:276'}, {'RSS': 1075436.25, 'name': 'm:2.5; b:279'}, {'RSS': 1088876.25, 'name': 'm:2.5; b:282'}, {'RSS': 1102406.25, 'name': 'm:2.5; b:285'}, {'RSS': 1116026.25, 'name': 'm:2.5; b:288'}, {'RSS': 1129736.25, 'name': 'm:2.5; b:291'}, {'RSS': 1143536.25, 'name': 'm:2.5; b:294'}, {'RSS': 1157426.25, 'name': 'm:2.5; b:297'}, {'RSS': 276625.0, 'name': 'm:2.6; b:0'}, {'RSS': 282460.0, 'name': 'm:2.6; b:3'}, {'RSS': 288385.0, 'name': 'm:2.6; b:6'}, {'RSS': 294400.0, 'name': 'm:2.6; b:9'}, {'RSS': 300505.0, 'name': 'm:2.6; b:12'}, {'RSS': 306700.0, 'name': 'm:2.6; b:15'}, {'RSS': 312985.0, 'name': 'm:2.6; b:18'}, {'RSS': 319360.0, 'name': 'm:2.6; b:21'}, {'RSS': 325825.0, 'name': 'm:2.6; b:24'}, {'RSS': 332380.0, 'name': 'm:2.6; b:27'}, {'RSS': 339025.0, 'name': 'm:2.6; b:30'}, {'RSS': 345760.0, 'name': 'm:2.6; b:33'}, {'RSS': 352585.0, 'name': 'm:2.6; b:36'}, {'RSS': 359500.0, 'name': 'm:2.6; b:39'}, {'RSS': 366505.0, 'name': 'm:2.6; b:42'}, {'RSS': 373600.0, 'name': 'm:2.6; b:45'}, {'RSS': 380785.0, 'name': 'm:2.6; b:48'}, {'RSS': 388060.0, 'name': 'm:2.6; b:51'}, {'RSS': 395425.0, 'name': 'm:2.6; b:54'}, {'RSS': 402880.0, 'name': 'm:2.6; b:57'}, {'RSS': 410425.0, 'name': 'm:2.6; b:60'}, {'RSS': 418060.0, 'name': 'm:2.6; b:63'}, {'RSS': 425785.0, 'name': 'm:2.6; b:66'}, {'RSS': 433600.0, 'name': 'm:2.6; b:69'}, {'RSS': 441505.0, 'name': 'm:2.6; b:72'}, {'RSS': 449500.0, 'name': 'm:2.6; b:75'}, {'RSS': 457585.0, 'name': 'm:2.6; b:78'}, {'RSS': 465760.0, 'name': 'm:2.6; b:81'}, {'RSS': 474025.0, 'name': 'm:2.6; b:84'}, {'RSS': 482380.0, 'name': 'm:2.6; b:87'}, {'RSS': 490825.0, 'name': 'm:2.6; b:90'}, {'RSS': 499360.0, 'name': 'm:2.6; b:93'}, {'RSS': 507985.0, 'name': 'm:2.6; b:96'}, {'RSS': 516700.0, 'name': 'm:2.6; b:99'}, {'RSS': 525505.0, 'name': 'm:2.6; b:102'}, {'RSS': 534400.0, 'name': 'm:2.6; b:105'}, {'RSS': 543385.0, 'name': 'm:2.6; b:108'}, {'RSS': 552460.0, 'name': 'm:2.6; b:111'}, {'RSS': 561625.0, 'name': 'm:2.6; b:114'}, {'RSS': 570880.0, 'name': 'm:2.6; b:117'}, {'RSS': 580225.0, 'name': 'm:2.6; b:120'}, {'RSS': 589660.0, 'name': 'm:2.6; b:123'}, {'RSS': 599185.0, 'name': 'm:2.6; b:126'}, {'RSS': 608800.0, 'name': 'm:2.6; b:129'}, {'RSS': 618505.0, 'name': 'm:2.6; b:132'}, {'RSS': 628300.0, 'name': 'm:2.6; b:135'}, {'RSS': 638185.0, 'name': 'm:2.6; b:138'}, {'RSS': 648160.0, 'name': 'm:2.6; b:141'}, {'RSS': 658225.0, 'name': 'm:2.6; b:144'}, {'RSS': 668380.0, 'name': 'm:2.6; b:147'}, {'RSS': 678625.0, 'name': 'm:2.6; b:150'}, {'RSS': 688960.0, 'name': 'm:2.6; b:153'}, {'RSS': 699385.0, 'name': 'm:2.6; b:156'}, {'RSS': 709900.0, 'name': 'm:2.6; b:159'}, {'RSS': 720505.0, 'name': 'm:2.6; b:162'}, {'RSS': 731200.0, 'name': 'm:2.6; b:165'}, {'RSS': 741985.0, 'name': 'm:2.6; b:168'}, {'RSS': 752860.0, 'name': 'm:2.6; b:171'}, {'RSS': 763825.0, 'name': 'm:2.6; b:174'}, {'RSS': 774880.0, 'name': 'm:2.6; b:177'}, {'RSS': 786025.0, 'name': 'm:2.6; b:180'}, {'RSS': 797260.0, 'name': 'm:2.6; b:183'}, {'RSS': 808585.0, 'name': 'm:2.6; b:186'}, {'RSS': 820000.0, 'name': 'm:2.6; b:189'}, {'RSS': 831505.0, 'name': 'm:2.6; b:192'}, {'RSS': 843100.0, 'name': 'm:2.6; b:195'}, {'RSS': 854785.0, 'name': 'm:2.6; b:198'}, {'RSS': 866560.0, 'name': 'm:2.6; b:201'}, {'RSS': 878425.0, 'name': 'm:2.6; b:204'}, {'RSS': 890380.0, 'name': 'm:2.6; b:207'}, {'RSS': 902425.0, 'name': 'm:2.6; b:210'}, {'RSS': 914560.0, 'name': 'm:2.6; b:213'}, {'RSS': 926785.0, 'name': 'm:2.6; b:216'}, {'RSS': 939100.0, 'name': 'm:2.6; b:219'}, {'RSS': 951505.0, 'name': 'm:2.6; b:222'}, {'RSS': 964000.0, 'name': 'm:2.6; b:225'}, {'RSS': 976585.0, 'name': 'm:2.6; b:228'}, {'RSS': 989260.0, 'name': 'm:2.6; b:231'}, {'RSS': 1002025.0, 'name': 'm:2.6; b:234'}, {'RSS': 1014880.0, 'name': 'm:2.6; b:237'}, {'RSS': 1027825.0, 'name': 'm:2.6; b:240'}, {'RSS': 1040860.0, 'name': 'm:2.6; b:243'}, {'RSS': 1053985.0, 'name': 'm:2.6; b:246'}, {'RSS': 1067200.0, 'name': 'm:2.6; b:249'}, {'RSS': 1080505.0, 'name': 'm:2.6; b:252'}, {'RSS': 1093900.0, 'name': 'm:2.6; b:255'}, {'RSS': 1107385.0, 'name': 'm:2.6; b:258'}, {'RSS': 1120960.0, 'name': 'm:2.6; b:261'}, {'RSS': 1134625.0, 'name': 'm:2.6; b:264'}, {'RSS': 1148380.0, 'name': 'm:2.6; b:267'}, {'RSS': 1162225.0, 'name': 'm:2.6; b:270'}, {'RSS': 1176160.0, 'name': 'm:2.6; b:273'}, {'RSS': 1190185.0, 'name': 'm:2.6; b:276'}, {'RSS': 1204300.0, 'name': 'm:2.6; b:279'}, {'RSS': 1218505.0, 'name': 'm:2.6; b:282'}, {'RSS': 1232800.0, 'name': 'm:2.6; b:285'}, {'RSS': 1247185.0, 'name': 'm:2.6; b:288'}, {'RSS': 1261660.0, 'name': 'm:2.6; b:291'}, {'RSS': 1276225.0, 'name': 'm:2.6; b:294'}, {'RSS': 1290880.0, 'name': 'm:2.6; b:297'}, {'RSS': 341906.25, 'name': 'm:2.7; b:0'}, {'RSS': 348506.25, 'name': 'm:2.7; b:3'}, {'RSS': 355196.25, 'name': 'm:2.7; b:6'}, {'RSS': 361976.25, 'name': 'm:2.7; b:9'}, {'RSS': 368846.25, 'name': 'm:2.7; b:12'}, {'RSS': 375806.25, 'name': 'm:2.7; b:15'}, {'RSS': 382856.25, 'name': 'm:2.7; b:18'}, {'RSS': 389996.25, 'name': 'm:2.7; b:21'}, {'RSS': 397226.25, 'name': 'm:2.7; b:24'}, {'RSS': 404546.25, 'name': 'm:2.7; b:27'}, {'RSS': 411956.25, 'name': 'm:2.7; b:30'}, {'RSS': 419456.25, 'name': 'm:2.7; b:33'}, {'RSS': 427046.25, 'name': 'm:2.7; b:36'}, {'RSS': 434726.25, 'name': 'm:2.7; b:39'}, {'RSS': 442496.25, 'name': 'm:2.7; b:42'}, {'RSS': 450356.25, 'name': 'm:2.7; b:45'}, {'RSS': 458306.25, 'name': 'm:2.7; b:48'}, {'RSS': 466346.25, 'name': 'm:2.7; b:51'}, {'RSS': 474476.25, 'name': 'm:2.7; b:54'}, {'RSS': 482696.25, 'name': 'm:2.7; b:57'}, {'RSS': 491006.25, 'name': 'm:2.7; b:60'}, {'RSS': 499406.25, 'name': 'm:2.7; b:63'}, {'RSS': 507896.25, 'name': 'm:2.7; b:66'}, {'RSS': 516476.25, 'name': 'm:2.7; b:69'}, {'RSS': 525146.25, 'name': 'm:2.7; b:72'}, {'RSS': 533906.25, 'name': 'm:2.7; b:75'}, {'RSS': 542756.25, 'name': 'm:2.7; b:78'}, {'RSS': 551696.25, 'name': 'm:2.7; b:81'}, {'RSS': 560726.25, 'name': 'm:2.7; b:84'}, {'RSS': 569846.25, 'name': 'm:2.7; b:87'}, {'RSS': 579056.25, 'name': 'm:2.7; b:90'}, {'RSS': 588356.25, 'name': 'm:2.7; b:93'}, {'RSS': 597746.25, 'name': 'm:2.7; b:96'}, {'RSS': 607226.25, 'name': 'm:2.7; b:99'}, {'RSS': 616796.25, 'name': 'm:2.7; b:102'}, {'RSS': 626456.25, 'name': 'm:2.7; b:105'}, {'RSS': 636206.25, 'name': 'm:2.7; b:108'}, {'RSS': 646046.25, 'name': 'm:2.7; b:111'}, {'RSS': 655976.25, 'name': 'm:2.7; b:114'}, {'RSS': 665996.25, 'name': 'm:2.7; b:117'}, {'RSS': 676106.25, 'name': 'm:2.7; b:120'}, {'RSS': 686306.25, 'name': 'm:2.7; b:123'}, {'RSS': 696596.25, 'name': 'm:2.7; b:126'}, {'RSS': 706976.25, 'name': 'm:2.7; b:129'}, {'RSS': 717446.25, 'name': 'm:2.7; b:132'}, {'RSS': 728006.25, 'name': 'm:2.7; b:135'}, {'RSS': 738656.25, 'name': 'm:2.7; b:138'}, {'RSS': 749396.25, 'name': 'm:2.7; b:141'}, {'RSS': 760226.25, 'name': 'm:2.7; b:144'}, {'RSS': 771146.25, 'name': 'm:2.7; b:147'}, {'RSS': 782156.25, 'name': 'm:2.7; b:150'}, {'RSS': 793256.25, 'name': 'm:2.7; b:153'}, {'RSS': 804446.25, 'name': 'm:2.7; b:156'}, {'RSS': 815726.25, 'name': 'm:2.7; b:159'}, {'RSS': 827096.25, 'name': 'm:2.7; b:162'}, {'RSS': 838556.25, 'name': 'm:2.7; b:165'}, {'RSS': 850106.25, 'name': 'm:2.7; b:168'}, {'RSS': 861746.25, 'name': 'm:2.7; b:171'}, {'RSS': 873476.25, 'name': 'm:2.7; b:174'}, {'RSS': 885296.25, 'name': 'm:2.7; b:177'}, {'RSS': 897206.25, 'name': 'm:2.7; b:180'}, {'RSS': 909206.25, 'name': 'm:2.7; b:183'}, {'RSS': 921296.25, 'name': 'm:2.7; b:186'}, {'RSS': 933476.25, 'name': 'm:2.7; b:189'}, {'RSS': 945746.25, 'name': 'm:2.7; b:192'}, {'RSS': 958106.25, 'name': 'm:2.7; b:195'}, {'RSS': 970556.25, 'name': 'm:2.7; b:198'}, {'RSS': 983096.25, 'name': 'm:2.7; b:201'}, {'RSS': 995726.25, 'name': 'm:2.7; b:204'}, {'RSS': 1008446.25, 'name': 'm:2.7; b:207'}, {'RSS': 1021256.25, 'name': 'm:2.7; b:210'}, {'RSS': 1034156.25, 'name': 'm:2.7; b:213'}, {'RSS': 1047146.25, 'name': 'm:2.7; b:216'}, {'RSS': 1060226.25, 'name': 'm:2.7; b:219'}, {'RSS': 1073396.25, 'name': 'm:2.7; b:222'}, {'RSS': 1086656.25, 'name': 'm:2.7; b:225'}, {'RSS': 1100006.25, 'name': 'm:2.7; b:228'}, {'RSS': 1113446.25, 'name': 'm:2.7; b:231'}, {'RSS': 1126976.25, 'name': 'm:2.7; b:234'}, {'RSS': 1140596.25, 'name': 'm:2.7; b:237'}, {'RSS': 1154306.25, 'name': 'm:2.7; b:240'}, {'RSS': 1168106.25, 'name': 'm:2.7; b:243'}, {'RSS': 1181996.25, 'name': 'm:2.7; b:246'}, {'RSS': 1195976.25, 'name': 'm:2.7; b:249'}, {'RSS': 1210046.25, 'name': 'm:2.7; b:252'}, {'RSS': 1224206.25, 'name': 'm:2.7; b:255'}, {'RSS': 1238456.25, 'name': 'm:2.7; b:258'}, {'RSS': 1252796.25, 'name': 'm:2.7; b:261'}, {'RSS': 1267226.25, 'name': 'm:2.7; b:264'}, {'RSS': 1281746.25, 'name': 'm:2.7; b:267'}, {'RSS': 1296356.25, 'name': 'm:2.7; b:270'}, {'RSS': 1311056.25, 'name': 'm:2.7; b:273'}, {'RSS': 1325846.25, 'name': 'm:2.7; b:276'}, {'RSS': 1340726.25, 'name': 'm:2.7; b:279'}, {'RSS': 1355696.25, 'name': 'm:2.7; b:282'}, {'RSS': 1370756.25, 'name': 'm:2.7; b:285'}, {'RSS': 1385906.25, 'name': 'm:2.7; b:288'}, {'RSS': 1401146.25, 'name': 'm:2.7; b:291'}, {'RSS': 1416476.25, 'name': 'm:2.7; b:294'}, {'RSS': 1431896.25, 'name': 'm:2.7; b:297'}, {'RSS': 414750.0, 'name': 'm:2.8; b:0'}, {'RSS': 422115.0, 'name': 'm:2.8; b:3'}, {'RSS': 429570.0, 'name': 'm:2.8; b:6'}, {'RSS': 437115.0, 'name': 'm:2.8; b:9'}, {'RSS': 444750.0, 'name': 'm:2.8; b:12'}, {'RSS': 452475.0, 'name': 'm:2.8; b:15'}, {'RSS': 460290.0, 'name': 'm:2.8; b:18'}, {'RSS': 468195.0, 'name': 'm:2.8; b:21'}, {'RSS': 476190.0, 'name': 'm:2.8; b:24'}, {'RSS': 484275.0, 'name': 'm:2.8; b:27'}, {'RSS': 492450.0, 'name': 'm:2.8; b:30'}, {'RSS': 500715.0, 'name': 'm:2.8; b:33'}, {'RSS': 509070.0, 'name': 'm:2.8; b:36'}, {'RSS': 517515.0, 'name': 'm:2.8; b:39'}, {'RSS': 526050.0, 'name': 'm:2.8; b:42'}, {'RSS': 534675.0, 'name': 'm:2.8; b:45'}, {'RSS': 543390.0, 'name': 'm:2.8; b:48'}, {'RSS': 552195.0, 'name': 'm:2.8; b:51'}, {'RSS': 561090.0, 'name': 'm:2.8; b:54'}, {'RSS': 570075.0, 'name': 'm:2.8; b:57'}, {'RSS': 579150.0, 'name': 'm:2.8; b:60'}, {'RSS': 588315.0, 'name': 'm:2.8; b:63'}, {'RSS': 597570.0, 'name': 'm:2.8; b:66'}, {'RSS': 606915.0, 'name': 'm:2.8; b:69'}, {'RSS': 616350.0, 'name': 'm:2.8; b:72'}, {'RSS': 625875.0, 'name': 'm:2.8; b:75'}, {'RSS': 635490.0, 'name': 'm:2.8; b:78'}, {'RSS': 645195.0, 'name': 'm:2.8; b:81'}, {'RSS': 654990.0, 'name': 'm:2.8; b:84'}, {'RSS': 664875.0, 'name': 'm:2.8; b:87'}, {'RSS': 674850.0, 'name': 'm:2.8; b:90'}, {'RSS': 684915.0, 'name': 'm:2.8; b:93'}, {'RSS': 695070.0, 'name': 'm:2.8; b:96'}, {'RSS': 705315.0, 'name': 'm:2.8; b:99'}, {'RSS': 715650.0, 'name': 'm:2.8; b:102'}, {'RSS': 726075.0, 'name': 'm:2.8; b:105'}, {'RSS': 736590.0, 'name': 'm:2.8; b:108'}, {'RSS': 747195.0, 'name': 'm:2.8; b:111'}, {'RSS': 757890.0, 'name': 'm:2.8; b:114'}, {'RSS': 768675.0, 'name': 'm:2.8; b:117'}, {'RSS': 779550.0, 'name': 'm:2.8; b:120'}, {'RSS': 790515.0, 'name': 'm:2.8; b:123'}, {'RSS': 801570.0, 'name': 'm:2.8; b:126'}, {'RSS': 812715.0, 'name': 'm:2.8; b:129'}, {'RSS': 823950.0, 'name': 'm:2.8; b:132'}, {'RSS': 835275.0, 'name': 'm:2.8; b:135'}, {'RSS': 846690.0, 'name': 'm:2.8; b:138'}, {'RSS': 858195.0, 'name': 'm:2.8; b:141'}, {'RSS': 869790.0, 'name': 'm:2.8; b:144'}, {'RSS': 881475.0, 'name': 'm:2.8; b:147'}, {'RSS': 893250.0, 'name': 'm:2.8; b:150'}, {'RSS': 905115.0, 'name': 'm:2.8; b:153'}, {'RSS': 917070.0, 'name': 'm:2.8; b:156'}, {'RSS': 929115.0, 'name': 'm:2.8; b:159'}, {'RSS': 941250.0, 'name': 'm:2.8; b:162'}, {'RSS': 953475.0, 'name': 'm:2.8; b:165'}, {'RSS': 965790.0, 'name': 'm:2.8; b:168'}, {'RSS': 978195.0, 'name': 'm:2.8; b:171'}, {'RSS': 990690.0, 'name': 'm:2.8; b:174'}, {'RSS': 1003275.0, 'name': 'm:2.8; b:177'}, {'RSS': 1015950.0, 'name': 'm:2.8; b:180'}, {'RSS': 1028715.0, 'name': 'm:2.8; b:183'}, {'RSS': 1041570.0, 'name': 'm:2.8; b:186'}, {'RSS': 1054515.0, 'name': 'm:2.8; b:189'}, {'RSS': 1067550.0, 'name': 'm:2.8; b:192'}, {'RSS': 1080675.0, 'name': 'm:2.8; b:195'}, {'RSS': 1093890.0, 'name': 'm:2.8; b:198'}, {'RSS': 1107195.0, 'name': 'm:2.8; b:201'}, {'RSS': 1120590.0, 'name': 'm:2.8; b:204'}, {'RSS': 1134075.0, 'name': 'm:2.8; b:207'}, {'RSS': 1147650.0, 'name': 'm:2.8; b:210'}, {'RSS': 1161315.0, 'name': 'm:2.8; b:213'}, {'RSS': 1175070.0, 'name': 'm:2.8; b:216'}, {'RSS': 1188915.0, 'name': 'm:2.8; b:219'}, {'RSS': 1202850.0, 'name': 'm:2.8; b:222'}, {'RSS': 1216875.0, 'name': 'm:2.8; b:225'}, {'RSS': 1230990.0, 'name': 'm:2.8; b:228'}, {'RSS': 1245195.0, 'name': 'm:2.8; b:231'}, {'RSS': 1259490.0, 'name': 'm:2.8; b:234'}, {'RSS': 1273875.0, 'name': 'm:2.8; b:237'}, {'RSS': 1288350.0, 'name': 'm:2.8; b:240'}, {'RSS': 1302915.0, 'name': 'm:2.8; b:243'}, {'RSS': 1317570.0, 'name': 'm:2.8; b:246'}, {'RSS': 1332315.0, 'name': 'm:2.8; b:249'}, {'RSS': 1347150.0, 'name': 'm:2.8; b:252'}, {'RSS': 1362075.0, 'name': 'm:2.8; b:255'}, {'RSS': 1377090.0, 'name': 'm:2.8; b:258'}, {'RSS': 1392195.0, 'name': 'm:2.8; b:261'}, {'RSS': 1407390.0, 'name': 'm:2.8; b:264'}, {'RSS': 1422675.0, 'name': 'm:2.8; b:267'}, {'RSS': 1438050.0, 'name': 'm:2.8; b:270'}, {'RSS': 1453515.0, 'name': 'm:2.8; b:273'}, {'RSS': 1469070.0, 'name': 'm:2.8; b:276'}, {'RSS': 1484715.0, 'name': 'm:2.8; b:279'}, {'RSS': 1500450.0, 'name': 'm:2.8; b:282'}, {'RSS': 1516275.0, 'name': 'm:2.8; b:285'}, {'RSS': 1532190.0, 'name': 'm:2.8; b:288'}, {'RSS': 1548195.0, 'name': 'm:2.8; b:291'}, {'RSS': 1564290.0, 'name': 'm:2.8; b:294'}, {'RSS': 1580475.0, 'name': 'm:2.8; b:297'}, {'RSS': 495156.25, 'name': 'm:2.9; b:0'}, {'RSS': 503286.25, 'name': 'm:2.9; b:3'}, {'RSS': 511506.25, 'name': 'm:2.9; b:6'}, {'RSS': 519816.25, 'name': 'm:2.9; b:9'}, {'RSS': 528216.25, 'name': 'm:2.9; b:12'}, {'RSS': 536706.25, 'name': 'm:2.9; b:15'}, {'RSS': 545286.25, 'name': 'm:2.9; b:18'}, {'RSS': 553956.25, 'name': 'm:2.9; b:21'}, {'RSS': 562716.25, 'name': 'm:2.9; b:24'}, {'RSS': 571566.25, 'name': 'm:2.9; b:27'}, {'RSS': 580506.25, 'name': 'm:2.9; b:30'}, {'RSS': 589536.25, 'name': 'm:2.9; b:33'}, {'RSS': 598656.25, 'name': 'm:2.9; b:36'}, {'RSS': 607866.25, 'name': 'm:2.9; b:39'}, {'RSS': 617166.25, 'name': 'm:2.9; b:42'}, {'RSS': 626556.25, 'name': 'm:2.9; b:45'}, {'RSS': 636036.25, 'name': 'm:2.9; b:48'}, {'RSS': 645606.25, 'name': 'm:2.9; b:51'}, {'RSS': 655266.25, 'name': 'm:2.9; b:54'}, {'RSS': 665016.25, 'name': 'm:2.9; b:57'}, {'RSS': 674856.25, 'name': 'm:2.9; b:60'}, {'RSS': 684786.25, 'name': 'm:2.9; b:63'}, {'RSS': 694806.25, 'name': 'm:2.9; b:66'}, {'RSS': 704916.25, 'name': 'm:2.9; b:69'}, {'RSS': 715116.25, 'name': 'm:2.9; b:72'}, {'RSS': 725406.25, 'name': 'm:2.9; b:75'}, {'RSS': 735786.25, 'name': 'm:2.9; b:78'}, {'RSS': 746256.25, 'name': 'm:2.9; b:81'}, {'RSS': 756816.25, 'name': 'm:2.9; b:84'}, {'RSS': 767466.25, 'name': 'm:2.9; b:87'}, {'RSS': 778206.25, 'name': 'm:2.9; b:90'}, {'RSS': 789036.25, 'name': 'm:2.9; b:93'}, {'RSS': 799956.25, 'name': 'm:2.9; b:96'}, {'RSS': 810966.25, 'name': 'm:2.9; b:99'}, {'RSS': 822066.25, 'name': 'm:2.9; b:102'}, {'RSS': 833256.25, 'name': 'm:2.9; b:105'}, {'RSS': 844536.25, 'name': 'm:2.9; b:108'}, {'RSS': 855906.25, 'name': 'm:2.9; b:111'}, {'RSS': 867366.25, 'name': 'm:2.9; b:114'}, {'RSS': 878916.25, 'name': 'm:2.9; b:117'}, {'RSS': 890556.25, 'name': 'm:2.9; b:120'}, {'RSS': 902286.25, 'name': 'm:2.9; b:123'}, {'RSS': 914106.25, 'name': 'm:2.9; b:126'}, {'RSS': 926016.25, 'name': 'm:2.9; b:129'}, {'RSS': 938016.25, 'name': 'm:2.9; b:132'}, {'RSS': 950106.25, 'name': 'm:2.9; b:135'}, {'RSS': 962286.25, 'name': 'm:2.9; b:138'}, {'RSS': 974556.25, 'name': 'm:2.9; b:141'}, {'RSS': 986916.25, 'name': 'm:2.9; b:144'}, {'RSS': 999366.25, 'name': 'm:2.9; b:147'}, {'RSS': 1011906.25, 'name': 'm:2.9; b:150'}, {'RSS': 1024536.25, 'name': 'm:2.9; b:153'}, {'RSS': 1037256.25, 'name': 'm:2.9; b:156'}, {'RSS': 1050066.25, 'name': 'm:2.9; b:159'}, {'RSS': 1062966.25, 'name': 'm:2.9; b:162'}, {'RSS': 1075956.25, 'name': 'm:2.9; b:165'}, {'RSS': 1089036.25, 'name': 'm:2.9; b:168'}, {'RSS': 1102206.25, 'name': 'm:2.9; b:171'}, {'RSS': 1115466.25, 'name': 'm:2.9; b:174'}, {'RSS': 1128816.25, 'name': 'm:2.9; b:177'}, {'RSS': 1142256.25, 'name': 'm:2.9; b:180'}, {'RSS': 1155786.25, 'name': 'm:2.9; b:183'}, {'RSS': 1169406.25, 'name': 'm:2.9; b:186'}, {'RSS': 1183116.25, 'name': 'm:2.9; b:189'}, {'RSS': 1196916.25, 'name': 'm:2.9; b:192'}, {'RSS': 1210806.25, 'name': 'm:2.9; b:195'}, {'RSS': 1224786.25, 'name': 'm:2.9; b:198'}, {'RSS': 1238856.25, 'name': 'm:2.9; b:201'}, {'RSS': 1253016.25, 'name': 'm:2.9; b:204'}, {'RSS': 1267266.25, 'name': 'm:2.9; b:207'}, {'RSS': 1281606.25, 'name': 'm:2.9; b:210'}, {'RSS': 1296036.25, 'name': 'm:2.9; b:213'}, {'RSS': 1310556.25, 'name': 'm:2.9; b:216'}, {'RSS': 1325166.25, 'name': 'm:2.9; b:219'}, {'RSS': 1339866.25, 'name': 'm:2.9; b:222'}, {'RSS': 1354656.25, 'name': 'm:2.9; b:225'}, {'RSS': 1369536.25, 'name': 'm:2.9; b:228'}, {'RSS': 1384506.25, 'name': 'm:2.9; b:231'}, {'RSS': 1399566.25, 'name': 'm:2.9; b:234'}, {'RSS': 1414716.25, 'name': 'm:2.9; b:237'}, {'RSS': 1429956.25, 'name': 'm:2.9; b:240'}, {'RSS': 1445286.25, 'name': 'm:2.9; b:243'}, {'RSS': 1460706.25, 'name': 'm:2.9; b:246'}, {'RSS': 1476216.25, 'name': 'm:2.9; b:249'}, {'RSS': 1491816.25, 'name': 'm:2.9; b:252'}, {'RSS': 1507506.25, 'name': 'm:2.9; b:255'}, {'RSS': 1523286.25, 'name': 'm:2.9; b:258'}, {'RSS': 1539156.25, 'name': 'm:2.9; b:261'}, {'RSS': 1555116.25, 'name': 'm:2.9; b:264'}, {'RSS': 1571166.25, 'name': 'm:2.9; b:267'}, {'RSS': 1587306.25, 'name': 'm:2.9; b:270'}, {'RSS': 1603536.25, 'name': 'm:2.9; b:273'}, {'RSS': 1619856.25, 'name': 'm:2.9; b:276'}, {'RSS': 1636266.25, 'name': 'm:2.9; b:279'}, {'RSS': 1652766.25, 'name': 'm:2.9; b:282'}, {'RSS': 1669356.25, 'name': 'm:2.9; b:285'}, {'RSS': 1686036.25, 'name': 'm:2.9; b:288'}, {'RSS': 1702806.25, 'name': 'm:2.9; b:291'}, {'RSS': 1719666.25, 'name': 'm:2.9; b:294'}, {'RSS': 1736616.25, 'name': 'm:2.9; b:297'}, {'RSS': 583125.0, 'name': 'm:3.0; b:0'}, {'RSS': 592020.0, 'name': 'm:3.0; b:3'}, {'RSS': 601005.0, 'name': 'm:3.0; b:6'}, {'RSS': 610080.0, 'name': 'm:3.0; b:9'}, {'RSS': 619245.0, 'name': 'm:3.0; b:12'}, {'RSS': 628500.0, 'name': 'm:3.0; b:15'}, {'RSS': 637845.0, 'name': 'm:3.0; b:18'}, {'RSS': 647280.0, 'name': 'm:3.0; b:21'}, {'RSS': 656805.0, 'name': 'm:3.0; b:24'}, {'RSS': 666420.0, 'name': 'm:3.0; b:27'}, {'RSS': 676125.0, 'name': 'm:3.0; b:30'}, {'RSS': 685920.0, 'name': 'm:3.0; b:33'}, {'RSS': 695805.0, 'name': 'm:3.0; b:36'}, {'RSS': 705780.0, 'name': 'm:3.0; b:39'}, {'RSS': 715845.0, 'name': 'm:3.0; b:42'}, {'RSS': 726000.0, 'name': 'm:3.0; b:45'}, {'RSS': 736245.0, 'name': 'm:3.0; b:48'}, {'RSS': 746580.0, 'name': 'm:3.0; b:51'}, {'RSS': 757005.0, 'name': 'm:3.0; b:54'}, {'RSS': 767520.0, 'name': 'm:3.0; b:57'}, {'RSS': 778125.0, 'name': 'm:3.0; b:60'}, {'RSS': 788820.0, 'name': 'm:3.0; b:63'}, {'RSS': 799605.0, 'name': 'm:3.0; b:66'}, {'RSS': 810480.0, 'name': 'm:3.0; b:69'}, {'RSS': 821445.0, 'name': 'm:3.0; b:72'}, {'RSS': 832500.0, 'name': 'm:3.0; b:75'}, {'RSS': 843645.0, 'name': 'm:3.0; b:78'}, {'RSS': 854880.0, 'name': 'm:3.0; b:81'}, {'RSS': 866205.0, 'name': 'm:3.0; b:84'}, {'RSS': 877620.0, 'name': 'm:3.0; b:87'}, {'RSS': 889125.0, 'name': 'm:3.0; b:90'}, {'RSS': 900720.0, 'name': 'm:3.0; b:93'}, {'RSS': 912405.0, 'name': 'm:3.0; b:96'}, {'RSS': 924180.0, 'name': 'm:3.0; b:99'}, {'RSS': 936045.0, 'name': 'm:3.0; b:102'}, {'RSS': 948000.0, 'name': 'm:3.0; b:105'}, {'RSS': 960045.0, 'name': 'm:3.0; b:108'}, {'RSS': 972180.0, 'name': 'm:3.0; b:111'}, {'RSS': 984405.0, 'name': 'm:3.0; b:114'}, {'RSS': 996720.0, 'name': 'm:3.0; b:117'}, {'RSS': 1009125.0, 'name': 'm:3.0; b:120'}, {'RSS': 1021620.0, 'name': 'm:3.0; b:123'}, {'RSS': 1034205.0, 'name': 'm:3.0; b:126'}, {'RSS': 1046880.0, 'name': 'm:3.0; b:129'}, {'RSS': 1059645.0, 'name': 'm:3.0; b:132'}, {'RSS': 1072500.0, 'name': 'm:3.0; b:135'}, {'RSS': 1085445.0, 'name': 'm:3.0; b:138'}, {'RSS': 1098480.0, 'name': 'm:3.0; b:141'}, {'RSS': 1111605.0, 'name': 'm:3.0; b:144'}, {'RSS': 1124820.0, 'name': 'm:3.0; b:147'}, {'RSS': 1138125.0, 'name': 'm:3.0; b:150'}, {'RSS': 1151520.0, 'name': 'm:3.0; b:153'}, {'RSS': 1165005.0, 'name': 'm:3.0; b:156'}, {'RSS': 1178580.0, 'name': 'm:3.0; b:159'}, {'RSS': 1192245.0, 'name': 'm:3.0; b:162'}, {'RSS': 1206000.0, 'name': 'm:3.0; b:165'}, {'RSS': 1219845.0, 'name': 'm:3.0; b:168'}, {'RSS': 1233780.0, 'name': 'm:3.0; b:171'}, {'RSS': 1247805.0, 'name': 'm:3.0; b:174'}, {'RSS': 1261920.0, 'name': 'm:3.0; b:177'}, {'RSS': 1276125.0, 'name': 'm:3.0; b:180'}, {'RSS': 1290420.0, 'name': 'm:3.0; b:183'}, {'RSS': 1304805.0, 'name': 'm:3.0; b:186'}, {'RSS': 1319280.0, 'name': 'm:3.0; b:189'}, {'RSS': 1333845.0, 'name': 'm:3.0; b:192'}, {'RSS': 1348500.0, 'name': 'm:3.0; b:195'}, {'RSS': 1363245.0, 'name': 'm:3.0; b:198'}, {'RSS': 1378080.0, 'name': 'm:3.0; b:201'}, {'RSS': 1393005.0, 'name': 'm:3.0; b:204'}, {'RSS': 1408020.0, 'name': 'm:3.0; b:207'}, {'RSS': 1423125.0, 'name': 'm:3.0; b:210'}, {'RSS': 1438320.0, 'name': 'm:3.0; b:213'}, {'RSS': 1453605.0, 'name': 'm:3.0; b:216'}, {'RSS': 1468980.0, 'name': 'm:3.0; b:219'}, {'RSS': 1484445.0, 'name': 'm:3.0; b:222'}, {'RSS': 1500000.0, 'name': 'm:3.0; b:225'}, {'RSS': 1515645.0, 'name': 'm:3.0; b:228'}, {'RSS': 1531380.0, 'name': 'm:3.0; b:231'}, {'RSS': 1547205.0, 'name': 'm:3.0; b:234'}, {'RSS': 1563120.0, 'name': 'm:3.0; b:237'}, {'RSS': 1579125.0, 'name': 'm:3.0; b:240'}, {'RSS': 1595220.0, 'name': 'm:3.0; b:243'}, {'RSS': 1611405.0, 'name': 'm:3.0; b:246'}, {'RSS': 1627680.0, 'name': 'm:3.0; b:249'}, {'RSS': 1644045.0, 'name': 'm:3.0; b:252'}, {'RSS': 1660500.0, 'name': 'm:3.0; b:255'}, {'RSS': 1677045.0, 'name': 'm:3.0; b:258'}, {'RSS': 1693680.0, 'name': 'm:3.0; b:261'}, {'RSS': 1710405.0, 'name': 'm:3.0; b:264'}, {'RSS': 1727220.0, 'name': 'm:3.0; b:267'}, {'RSS': 1744125.0, 'name': 'm:3.0; b:270'}, {'RSS': 1761120.0, 'name': 'm:3.0; b:273'}, {'RSS': 1778205.0, 'name': 'm:3.0; b:276'}, {'RSS': 1795380.0, 'name': 'm:3.0; b:279'}, {'RSS': 1812645.0, 'name': 'm:3.0; b:282'}, {'RSS': 1830000.0, 'name': 'm:3.0; b:285'}, {'RSS': 1847445.0, 'name': 'm:3.0; b:288'}, {'RSS': 1864980.0, 'name': 'm:3.0; b:291'}, {'RSS': 1882605.0, 'name': 'm:3.0; b:294'}, {'RSS': 1900320.0, 'name': 'm:3.0; b:297'}, {'RSS': 678656.25, 'name': 'm:3.1; b:0'}, {'RSS': 688316.25, 'name': 'm:3.1; b:3'}, {'RSS': 698066.25, 'name': 'm:3.1; b:6'}, {'RSS': 707906.25, 'name': 'm:3.1; b:9'}, {'RSS': 717836.25, 'name': 'm:3.1; b:12'}, {'RSS': 727856.25, 'name': 'm:3.1; b:15'}, {'RSS': 737966.25, 'name': 'm:3.1; b:18'}, {'RSS': 748166.25, 'name': 'm:3.1; b:21'}, {'RSS': 758456.25, 'name': 'm:3.1; b:24'}, {'RSS': 768836.25, 'name': 'm:3.1; b:27'}, {'RSS': 779306.25, 'name': 'm:3.1; b:30'}, {'RSS': 789866.25, 'name': 'm:3.1; b:33'}, {'RSS': 800516.25, 'name': 'm:3.1; b:36'}, {'RSS': 811256.25, 'name': 'm:3.1; b:39'}, {'RSS': 822086.25, 'name': 'm:3.1; b:42'}, {'RSS': 833006.25, 'name': 'm:3.1; b:45'}, {'RSS': 844016.25, 'name': 'm:3.1; b:48'}, {'RSS': 855116.25, 'name': 'm:3.1; b:51'}, {'RSS': 866306.25, 'name': 'm:3.1; b:54'}, {'RSS': 877586.25, 'name': 'm:3.1; b:57'}, {'RSS': 888956.25, 'name': 'm:3.1; b:60'}, {'RSS': 900416.25, 'name': 'm:3.1; b:63'}, {'RSS': 911966.25, 'name': 'm:3.1; b:66'}, {'RSS': 923606.25, 'name': 'm:3.1; b:69'}, {'RSS': 935336.25, 'name': 'm:3.1; b:72'}, {'RSS': 947156.25, 'name': 'm:3.1; b:75'}, {'RSS': 959066.25, 'name': 'm:3.1; b:78'}, {'RSS': 971066.25, 'name': 'm:3.1; b:81'}, {'RSS': 983156.25, 'name': 'm:3.1; b:84'}, {'RSS': 995336.25, 'name': 'm:3.1; b:87'}, {'RSS': 1007606.25, 'name': 'm:3.1; b:90'}, {'RSS': 1019966.25, 'name': 'm:3.1; b:93'}, {'RSS': 1032416.25, 'name': 'm:3.1; b:96'}, {'RSS': 1044956.25, 'name': 'm:3.1; b:99'}, {'RSS': 1057586.25, 'name': 'm:3.1; b:102'}, {'RSS': 1070306.25, 'name': 'm:3.1; b:105'}, {'RSS': 1083116.25, 'name': 'm:3.1; b:108'}, {'RSS': 1096016.25, 'name': 'm:3.1; b:111'}, {'RSS': 1109006.25, 'name': 'm:3.1; b:114'}, {'RSS': 1122086.25, 'name': 'm:3.1; b:117'}, {'RSS': 1135256.25, 'name': 'm:3.1; b:120'}, {'RSS': 1148516.25, 'name': 'm:3.1; b:123'}, {'RSS': 1161866.25, 'name': 'm:3.1; b:126'}, {'RSS': 1175306.25, 'name': 'm:3.1; b:129'}, {'RSS': 1188836.25, 'name': 'm:3.1; b:132'}, {'RSS': 1202456.25, 'name': 'm:3.1; b:135'}, {'RSS': 1216166.25, 'name': 'm:3.1; b:138'}, {'RSS': 1229966.25, 'name': 'm:3.1; b:141'}, {'RSS': 1243856.25, 'name': 'm:3.1; b:144'}, {'RSS': 1257836.25, 'name': 'm:3.1; b:147'}, {'RSS': 1271906.25, 'name': 'm:3.1; b:150'}, {'RSS': 1286066.25, 'name': 'm:3.1; b:153'}, {'RSS': 1300316.25, 'name': 'm:3.1; b:156'}, {'RSS': 1314656.25, 'name': 'm:3.1; b:159'}, {'RSS': 1329086.25, 'name': 'm:3.1; b:162'}, {'RSS': 1343606.25, 'name': 'm:3.1; b:165'}, {'RSS': 1358216.25, 'name': 'm:3.1; b:168'}, {'RSS': 1372916.25, 'name': 'm:3.1; b:171'}, {'RSS': 1387706.25, 'name': 'm:3.1; b:174'}, {'RSS': 1402586.25, 'name': 'm:3.1; b:177'}, {'RSS': 1417556.25, 'name': 'm:3.1; b:180'}, {'RSS': 1432616.25, 'name': 'm:3.1; b:183'}, {'RSS': 1447766.25, 'name': 'm:3.1; b:186'}, {'RSS': 1463006.25, 'name': 'm:3.1; b:189'}, {'RSS': 1478336.25, 'name': 'm:3.1; b:192'}, {'RSS': 1493756.25, 'name': 'm:3.1; b:195'}, {'RSS': 1509266.25, 'name': 'm:3.1; b:198'}, {'RSS': 1524866.25, 'name': 'm:3.1; b:201'}, {'RSS': 1540556.25, 'name': 'm:3.1; b:204'}, {'RSS': 1556336.25, 'name': 'm:3.1; b:207'}, {'RSS': 1572206.25, 'name': 'm:3.1; b:210'}, {'RSS': 1588166.25, 'name': 'm:3.1; b:213'}, {'RSS': 1604216.25, 'name': 'm:3.1; b:216'}, {'RSS': 1620356.25, 'name': 'm:3.1; b:219'}, {'RSS': 1636586.25, 'name': 'm:3.1; b:222'}, {'RSS': 1652906.25, 'name': 'm:3.1; b:225'}, {'RSS': 1669316.25, 'name': 'm:3.1; b:228'}, {'RSS': 1685816.25, 'name': 'm:3.1; b:231'}, {'RSS': 1702406.25, 'name': 'm:3.1; b:234'}, {'RSS': 1719086.25, 'name': 'm:3.1; b:237'}, {'RSS': 1735856.25, 'name': 'm:3.1; b:240'}, {'RSS': 1752716.25, 'name': 'm:3.1; b:243'}, {'RSS': 1769666.25, 'name': 'm:3.1; b:246'}, {'RSS': 1786706.25, 'name': 'm:3.1; b:249'}, {'RSS': 1803836.25, 'name': 'm:3.1; b:252'}, {'RSS': 1821056.25, 'name': 'm:3.1; b:255'}, {'RSS': 1838366.25, 'name': 'm:3.1; b:258'}, {'RSS': 1855766.25, 'name': 'm:3.1; b:261'}, {'RSS': 1873256.25, 'name': 'm:3.1; b:264'}, {'RSS': 1890836.25, 'name': 'm:3.1; b:267'}, {'RSS': 1908506.25, 'name': 'm:3.1; b:270'}, {'RSS': 1926266.25, 'name': 'm:3.1; b:273'}, {'RSS': 1944116.25, 'name': 'm:3.1; b:276'}, {'RSS': 1962056.25, 'name': 'm:3.1; b:279'}, {'RSS': 1980086.25, 'name': 'm:3.1; b:282'}, {'RSS': 1998206.25, 'name': 'm:3.1; b:285'}, {'RSS': 2016416.25, 'name': 'm:3.1; b:288'}, {'RSS': 2034716.25, 'name': 'm:3.1; b:291'}, {'RSS': 2053106.25, 'name': 'm:3.1; b:294'}, {'RSS': 2071586.25, 'name': 'm:3.1; b:297'}, {'RSS': 781750.0, 'name': 'm:3.2; b:0'}, {'RSS': 792175.0, 'name': 'm:3.2; b:3'}, {'RSS': 802690.0, 'name': 'm:3.2; b:6'}, {'RSS': 813295.0, 'name': 'm:3.2; b:9'}, {'RSS': 823990.0, 'name': 'm:3.2; b:12'}, {'RSS': 834775.0, 'name': 'm:3.2; b:15'}, {'RSS': 845650.0, 'name': 'm:3.2; b:18'}, {'RSS': 856615.0, 'name': 'm:3.2; b:21'}, {'RSS': 867670.0, 'name': 'm:3.2; b:24'}, {'RSS': 878815.0, 'name': 'm:3.2; b:27'}, {'RSS': 890050.0, 'name': 'm:3.2; b:30'}, {'RSS': 901375.0, 'name': 'm:3.2; b:33'}, {'RSS': 912790.0, 'name': 'm:3.2; b:36'}, {'RSS': 924295.0, 'name': 'm:3.2; b:39'}, {'RSS': 935890.0, 'name': 'm:3.2; b:42'}, {'RSS': 947575.0, 'name': 'm:3.2; b:45'}, {'RSS': 959350.0, 'name': 'm:3.2; b:48'}, {'RSS': 971215.0, 'name': 'm:3.2; b:51'}, {'RSS': 983170.0, 'name': 'm:3.2; b:54'}, {'RSS': 995215.0, 'name': 'm:3.2; b:57'}, {'RSS': 1007350.0, 'name': 'm:3.2; b:60'}, {'RSS': 1019575.0, 'name': 'm:3.2; b:63'}, {'RSS': 1031890.0, 'name': 'm:3.2; b:66'}, {'RSS': 1044295.0, 'name': 'm:3.2; b:69'}, {'RSS': 1056790.0, 'name': 'm:3.2; b:72'}, {'RSS': 1069375.0, 'name': 'm:3.2; b:75'}, {'RSS': 1082050.0, 'name': 'm:3.2; b:78'}, {'RSS': 1094815.0, 'name': 'm:3.2; b:81'}, {'RSS': 1107670.0, 'name': 'm:3.2; b:84'}, {'RSS': 1120615.0, 'name': 'm:3.2; b:87'}, {'RSS': 1133650.0, 'name': 'm:3.2; b:90'}, {'RSS': 1146775.0, 'name': 'm:3.2; b:93'}, {'RSS': 1159990.0, 'name': 'm:3.2; b:96'}, {'RSS': 1173295.0, 'name': 'm:3.2; b:99'}, {'RSS': 1186690.0, 'name': 'm:3.2; b:102'}, {'RSS': 1200175.0, 'name': 'm:3.2; b:105'}, {'RSS': 1213750.0, 'name': 'm:3.2; b:108'}, {'RSS': 1227415.0, 'name': 'm:3.2; b:111'}, {'RSS': 1241170.0, 'name': 'm:3.2; b:114'}, {'RSS': 1255015.0, 'name': 'm:3.2; b:117'}, {'RSS': 1268950.0, 'name': 'm:3.2; b:120'}, {'RSS': 1282975.0, 'name': 'm:3.2; b:123'}, {'RSS': 1297090.0, 'name': 'm:3.2; b:126'}, {'RSS': 1311295.0, 'name': 'm:3.2; b:129'}, {'RSS': 1325590.0, 'name': 'm:3.2; b:132'}, {'RSS': 1339975.0, 'name': 'm:3.2; b:135'}, {'RSS': 1354450.0, 'name': 'm:3.2; b:138'}, {'RSS': 1369015.0, 'name': 'm:3.2; b:141'}, {'RSS': 1383670.0, 'name': 'm:3.2; b:144'}, {'RSS': 1398415.0, 'name': 'm:3.2; b:147'}, {'RSS': 1413250.0, 'name': 'm:3.2; b:150'}, {'RSS': 1428175.0, 'name': 'm:3.2; b:153'}, {'RSS': 1443190.0, 'name': 'm:3.2; b:156'}, {'RSS': 1458295.0, 'name': 'm:3.2; b:159'}, {'RSS': 1473490.0, 'name': 'm:3.2; b:162'}, {'RSS': 1488775.0, 'name': 'm:3.2; b:165'}, {'RSS': 1504150.0, 'name': 'm:3.2; b:168'}, {'RSS': 1519615.0, 'name': 'm:3.2; b:171'}, {'RSS': 1535170.0, 'name': 'm:3.2; b:174'}, {'RSS': 1550815.0, 'name': 'm:3.2; b:177'}, {'RSS': 1566550.0, 'name': 'm:3.2; b:180'}, {'RSS': 1582375.0, 'name': 'm:3.2; b:183'}, {'RSS': 1598290.0, 'name': 'm:3.2; b:186'}, {'RSS': 1614295.0, 'name': 'm:3.2; b:189'}, {'RSS': 1630390.0, 'name': 'm:3.2; b:192'}, {'RSS': 1646575.0, 'name': 'm:3.2; b:195'}, {'RSS': 1662850.0, 'name': 'm:3.2; b:198'}, {'RSS': 1679215.0, 'name': 'm:3.2; b:201'}, {'RSS': 1695670.0, 'name': 'm:3.2; b:204'}, {'RSS': 1712215.0, 'name': 'm:3.2; b:207'}, {'RSS': 1728850.0, 'name': 'm:3.2; b:210'}, {'RSS': 1745575.0, 'name': 'm:3.2; b:213'}, {'RSS': 1762390.0, 'name': 'm:3.2; b:216'}, {'RSS': 1779295.0, 'name': 'm:3.2; b:219'}, {'RSS': 1796290.0, 'name': 'm:3.2; b:222'}, {'RSS': 1813375.0, 'name': 'm:3.2; b:225'}, {'RSS': 1830550.0, 'name': 'm:3.2; b:228'}, {'RSS': 1847815.0, 'name': 'm:3.2; b:231'}, {'RSS': 1865170.0, 'name': 'm:3.2; b:234'}, {'RSS': 1882615.0, 'name': 'm:3.2; b:237'}, {'RSS': 1900150.0, 'name': 'm:3.2; b:240'}, {'RSS': 1917775.0, 'name': 'm:3.2; b:243'}, {'RSS': 1935490.0, 'name': 'm:3.2; b:246'}, {'RSS': 1953295.0, 'name': 'm:3.2; b:249'}, {'RSS': 1971190.0, 'name': 'm:3.2; b:252'}, {'RSS': 1989175.0, 'name': 'm:3.2; b:255'}, {'RSS': 2007250.0, 'name': 'm:3.2; b:258'}, {'RSS': 2025415.0, 'name': 'm:3.2; b:261'}, {'RSS': 2043670.0, 'name': 'm:3.2; b:264'}, {'RSS': 2062015.0, 'name': 'm:3.2; b:267'}, {'RSS': 2080450.0, 'name': 'm:3.2; b:270'}, {'RSS': 2098975.0, 'name': 'm:3.2; b:273'}, {'RSS': 2117590.0, 'name': 'm:3.2; b:276'}, {'RSS': 2136295.0, 'name': 'm:3.2; b:279'}, {'RSS': 2155090.0, 'name': 'm:3.2; b:282'}, {'RSS': 2173975.0, 'name': 'm:3.2; b:285'}, {'RSS': 2192950.0, 'name': 'm:3.2; b:288'}, {'RSS': 2212015.0, 'name': 'm:3.2; b:291'}, {'RSS': 2231170.0, 'name': 'm:3.2; b:294'}, {'RSS': 2250415.0, 'name': 'm:3.2; b:297'}, {'RSS': 892406.25, 'name': 'm:3.3; b:0'}, {'RSS': 903596.25, 'name': 'm:3.3; b:3'}, {'RSS': 914876.25, 'name': 'm:3.3; b:6'}, {'RSS': 926246.25, 'name': 'm:3.3; b:9'}, {'RSS': 937706.25, 'name': 'm:3.3; b:12'}, {'RSS': 949256.25, 'name': 'm:3.3; b:15'}, {'RSS': 960896.25, 'name': 'm:3.3; b:18'}, {'RSS': 972626.25, 'name': 'm:3.3; b:21'}, {'RSS': 984446.25, 'name': 'm:3.3; b:24'}, {'RSS': 996356.25, 'name': 'm:3.3; b:27'}, {'RSS': 1008356.25, 'name': 'm:3.3; b:30'}, {'RSS': 1020446.25, 'name': 'm:3.3; b:33'}, {'RSS': 1032626.25, 'name': 'm:3.3; b:36'}, {'RSS': 1044896.25, 'name': 'm:3.3; b:39'}, {'RSS': 1057256.25, 'name': 'm:3.3; b:42'}, {'RSS': 1069706.25, 'name': 'm:3.3; b:45'}, {'RSS': 1082246.25, 'name': 'm:3.3; b:48'}, {'RSS': 1094876.25, 'name': 'm:3.3; b:51'}, {'RSS': 1107596.25, 'name': 'm:3.3; b:54'}, {'RSS': 1120406.25, 'name': 'm:3.3; b:57'}, {'RSS': 1133306.25, 'name': 'm:3.3; b:60'}, {'RSS': 1146296.25, 'name': 'm:3.3; b:63'}, {'RSS': 1159376.25, 'name': 'm:3.3; b:66'}, {'RSS': 1172546.25, 'name': 'm:3.3; b:69'}, {'RSS': 1185806.25, 'name': 'm:3.3; b:72'}, {'RSS': 1199156.25, 'name': 'm:3.3; b:75'}, {'RSS': 1212596.25, 'name': 'm:3.3; b:78'}, {'RSS': 1226126.25, 'name': 'm:3.3; b:81'}, {'RSS': 1239746.25, 'name': 'm:3.3; b:84'}, {'RSS': 1253456.25, 'name': 'm:3.3; b:87'}, {'RSS': 1267256.25, 'name': 'm:3.3; b:90'}, {'RSS': 1281146.25, 'name': 'm:3.3; b:93'}, {'RSS': 1295126.25, 'name': 'm:3.3; b:96'}, {'RSS': 1309196.25, 'name': 'm:3.3; b:99'}, {'RSS': 1323356.25, 'name': 'm:3.3; b:102'}, {'RSS': 1337606.25, 'name': 'm:3.3; b:105'}, {'RSS': 1351946.25, 'name': 'm:3.3; b:108'}, {'RSS': 1366376.25, 'name': 'm:3.3; b:111'}, {'RSS': 1380896.25, 'name': 'm:3.3; b:114'}, {'RSS': 1395506.25, 'name': 'm:3.3; b:117'}, {'RSS': 1410206.25, 'name': 'm:3.3; b:120'}, {'RSS': 1424996.25, 'name': 'm:3.3; b:123'}, {'RSS': 1439876.25, 'name': 'm:3.3; b:126'}, {'RSS': 1454846.25, 'name': 'm:3.3; b:129'}, {'RSS': 1469906.25, 'name': 'm:3.3; b:132'}, {'RSS': 1485056.25, 'name': 'm:3.3; b:135'}, {'RSS': 1500296.25, 'name': 'm:3.3; b:138'}, {'RSS': 1515626.25, 'name': 'm:3.3; b:141'}, {'RSS': 1531046.25, 'name': 'm:3.3; b:144'}, {'RSS': 1546556.25, 'name': 'm:3.3; b:147'}, {'RSS': 1562156.25, 'name': 'm:3.3; b:150'}, {'RSS': 1577846.25, 'name': 'm:3.3; b:153'}, {'RSS': 1593626.25, 'name': 'm:3.3; b:156'}, {'RSS': 1609496.25, 'name': 'm:3.3; b:159'}, {'RSS': 1625456.25, 'name': 'm:3.3; b:162'}, {'RSS': 1641506.25, 'name': 'm:3.3; b:165'}, {'RSS': 1657646.25, 'name': 'm:3.3; b:168'}, {'RSS': 1673876.25, 'name': 'm:3.3; b:171'}, {'RSS': 1690196.25, 'name': 'm:3.3; b:174'}, {'RSS': 1706606.25, 'name': 'm:3.3; b:177'}, {'RSS': 1723106.25, 'name': 'm:3.3; b:180'}, {'RSS': 1739696.25, 'name': 'm:3.3; b:183'}, {'RSS': 1756376.25, 'name': 'm:3.3; b:186'}, {'RSS': 1773146.25, 'name': 'm:3.3; b:189'}, {'RSS': 1790006.25, 'name': 'm:3.3; b:192'}, {'RSS': 1806956.25, 'name': 'm:3.3; b:195'}, {'RSS': 1823996.25, 'name': 'm:3.3; b:198'}, {'RSS': 1841126.25, 'name': 'm:3.3; b:201'}, {'RSS': 1858346.25, 'name': 'm:3.3; b:204'}, {'RSS': 1875656.25, 'name': 'm:3.3; b:207'}, {'RSS': 1893056.25, 'name': 'm:3.3; b:210'}, {'RSS': 1910546.25, 'name': 'm:3.3; b:213'}, {'RSS': 1928126.25, 'name': 'm:3.3; b:216'}, {'RSS': 1945796.25, 'name': 'm:3.3; b:219'}, {'RSS': 1963556.25, 'name': 'm:3.3; b:222'}, {'RSS': 1981406.25, 'name': 'm:3.3; b:225'}, {'RSS': 1999346.25, 'name': 'm:3.3; b:228'}, {'RSS': 2017376.25, 'name': 'm:3.3; b:231'}, {'RSS': 2035496.25, 'name': 'm:3.3; b:234'}, {'RSS': 2053706.25, 'name': 'm:3.3; b:237'}, {'RSS': 2072006.25, 'name': 'm:3.3; b:240'}, {'RSS': 2090396.25, 'name': 'm:3.3; b:243'}, {'RSS': 2108876.25, 'name': 'm:3.3; b:246'}, {'RSS': 2127446.25, 'name': 'm:3.3; b:249'}, {'RSS': 2146106.25, 'name': 'm:3.3; b:252'}, {'RSS': 2164856.25, 'name': 'm:3.3; b:255'}, {'RSS': 2183696.25, 'name': 'm:3.3; b:258'}, {'RSS': 2202626.25, 'name': 'm:3.3; b:261'}, {'RSS': 2221646.25, 'name': 'm:3.3; b:264'}, {'RSS': 2240756.25, 'name': 'm:3.3; b:267'}, {'RSS': 2259956.25, 'name': 'm:3.3; b:270'}, {'RSS': 2279246.25, 'name': 'm:3.3; b:273'}, {'RSS': 2298626.25, 'name': 'm:3.3; b:276'}, {'RSS': 2318096.25, 'name': 'm:3.3; b:279'}, {'RSS': 2337656.25, 'name': 'm:3.3; b:282'}, {'RSS': 2357306.25, 'name': 'm:3.3; b:285'}, {'RSS': 2377046.25, 'name': 'm:3.3; b:288'}, {'RSS': 2396876.25, 'name': 'm:3.3; b:291'}, {'RSS': 2416796.25, 'name': 'm:3.3; b:294'}, {'RSS': 2436806.25, 'name': 'm:3.3; b:297'}, {'RSS': 1010625.0, 'name': 'm:3.4; b:0'}, {'RSS': 1022580.0, 'name': 'm:3.4; b:3'}, {'RSS': 1034625.0, 'name': 'm:3.4; b:6'}, {'RSS': 1046760.0, 'name': 'm:3.4; b:9'}, {'RSS': 1058985.0, 'name': 'm:3.4; b:12'}, {'RSS': 1071300.0, 'name': 'm:3.4; b:15'}, {'RSS': 1083705.0, 'name': 'm:3.4; b:18'}, {'RSS': 1096200.0, 'name': 'm:3.4; b:21'}, {'RSS': 1108785.0, 'name': 'm:3.4; b:24'}, {'RSS': 1121460.0, 'name': 'm:3.4; b:27'}, {'RSS': 1134225.0, 'name': 'm:3.4; b:30'}, {'RSS': 1147080.0, 'name': 'm:3.4; b:33'}, {'RSS': 1160025.0, 'name': 'm:3.4; b:36'}, {'RSS': 1173060.0, 'name': 'm:3.4; b:39'}, {'RSS': 1186185.0, 'name': 'm:3.4; b:42'}, {'RSS': 1199400.0, 'name': 'm:3.4; b:45'}, {'RSS': 1212705.0, 'name': 'm:3.4; b:48'}, {'RSS': 1226100.0, 'name': 'm:3.4; b:51'}, {'RSS': 1239585.0, 'name': 'm:3.4; b:54'}, {'RSS': 1253160.0, 'name': 'm:3.4; b:57'}, {'RSS': 1266825.0, 'name': 'm:3.4; b:60'}, {'RSS': 1280580.0, 'name': 'm:3.4; b:63'}, {'RSS': 1294425.0, 'name': 'm:3.4; b:66'}, {'RSS': 1308360.0, 'name': 'm:3.4; b:69'}, {'RSS': 1322385.0, 'name': 'm:3.4; b:72'}, {'RSS': 1336500.0, 'name': 'm:3.4; b:75'}, {'RSS': 1350705.0, 'name': 'm:3.4; b:78'}, {'RSS': 1365000.0, 'name': 'm:3.4; b:81'}, {'RSS': 1379385.0, 'name': 'm:3.4; b:84'}, {'RSS': 1393860.0, 'name': 'm:3.4; b:87'}, {'RSS': 1408425.0, 'name': 'm:3.4; b:90'}, {'RSS': 1423080.0, 'name': 'm:3.4; b:93'}, {'RSS': 1437825.0, 'name': 'm:3.4; b:96'}, {'RSS': 1452660.0, 'name': 'm:3.4; b:99'}, {'RSS': 1467585.0, 'name': 'm:3.4; b:102'}, {'RSS': 1482600.0, 'name': 'm:3.4; b:105'}, {'RSS': 1497705.0, 'name': 'm:3.4; b:108'}, {'RSS': 1512900.0, 'name': 'm:3.4; b:111'}, {'RSS': 1528185.0, 'name': 'm:3.4; b:114'}, {'RSS': 1543560.0, 'name': 'm:3.4; b:117'}, {'RSS': 1559025.0, 'name': 'm:3.4; b:120'}, {'RSS': 1574580.0, 'name': 'm:3.4; b:123'}, {'RSS': 1590225.0, 'name': 'm:3.4; b:126'}, {'RSS': 1605960.0, 'name': 'm:3.4; b:129'}, {'RSS': 1621785.0, 'name': 'm:3.4; b:132'}, {'RSS': 1637700.0, 'name': 'm:3.4; b:135'}, {'RSS': 1653705.0, 'name': 'm:3.4; b:138'}, {'RSS': 1669800.0, 'name': 'm:3.4; b:141'}, {'RSS': 1685985.0, 'name': 'm:3.4; b:144'}, {'RSS': 1702260.0, 'name': 'm:3.4; b:147'}, {'RSS': 1718625.0, 'name': 'm:3.4; b:150'}, {'RSS': 1735080.0, 'name': 'm:3.4; b:153'}, {'RSS': 1751625.0, 'name': 'm:3.4; b:156'}, {'RSS': 1768260.0, 'name': 'm:3.4; b:159'}, {'RSS': 1784985.0, 'name': 'm:3.4; b:162'}, {'RSS': 1801800.0, 'name': 'm:3.4; b:165'}, {'RSS': 1818705.0, 'name': 'm:3.4; b:168'}, {'RSS': 1835700.0, 'name': 'm:3.4; b:171'}, {'RSS': 1852785.0, 'name': 'm:3.4; b:174'}, {'RSS': 1869960.0, 'name': 'm:3.4; b:177'}, {'RSS': 1887225.0, 'name': 'm:3.4; b:180'}, {'RSS': 1904580.0, 'name': 'm:3.4; b:183'}, {'RSS': 1922025.0, 'name': 'm:3.4; b:186'}, {'RSS': 1939560.0, 'name': 'm:3.4; b:189'}, {'RSS': 1957185.0, 'name': 'm:3.4; b:192'}, {'RSS': 1974900.0, 'name': 'm:3.4; b:195'}, {'RSS': 1992705.0, 'name': 'm:3.4; b:198'}, {'RSS': 2010600.0, 'name': 'm:3.4; b:201'}, {'RSS': 2028585.0, 'name': 'm:3.4; b:204'}, {'RSS': 2046660.0, 'name': 'm:3.4; b:207'}, {'RSS': 2064825.0, 'name': 'm:3.4; b:210'}, {'RSS': 2083080.0, 'name': 'm:3.4; b:213'}, {'RSS': 2101425.0, 'name': 'm:3.4; b:216'}, {'RSS': 2119860.0, 'name': 'm:3.4; b:219'}, {'RSS': 2138385.0, 'name': 'm:3.4; b:222'}, {'RSS': 2157000.0, 'name': 'm:3.4; b:225'}, {'RSS': 2175705.0, 'name': 'm:3.4; b:228'}, {'RSS': 2194500.0, 'name': 'm:3.4; b:231'}, {'RSS': 2213385.0, 'name': 'm:3.4; b:234'}, {'RSS': 2232360.0, 'name': 'm:3.4; b:237'}, {'RSS': 2251425.0, 'name': 'm:3.4; b:240'}, {'RSS': 2270580.0, 'name': 'm:3.4; b:243'}, {'RSS': 2289825.0, 'name': 'm:3.4; b:246'}, {'RSS': 2309160.0, 'name': 'm:3.4; b:249'}, {'RSS': 2328585.0, 'name': 'm:3.4; b:252'}, {'RSS': 2348100.0, 'name': 'm:3.4; b:255'}, {'RSS': 2367705.0, 'name': 'm:3.4; b:258'}, {'RSS': 2387400.0, 'name': 'm:3.4; b:261'}, {'RSS': 2407185.0, 'name': 'm:3.4; b:264'}, {'RSS': 2427060.0, 'name': 'm:3.4; b:267'}, {'RSS': 2447025.0, 'name': 'm:3.4; b:270'}, {'RSS': 2467080.0, 'name': 'm:3.4; b:273'}, {'RSS': 2487225.0, 'name': 'm:3.4; b:276'}, {'RSS': 2507460.0, 'name': 'm:3.4; b:279'}, {'RSS': 2527785.0, 'name': 'm:3.4; b:282'}, {'RSS': 2548200.0, 'name': 'm:3.4; b:285'}, {'RSS': 2568705.0, 'name': 'm:3.4; b:288'}, {'RSS': 2589300.0, 'name': 'm:3.4; b:291'}, {'RSS': 2609985.0, 'name': 'm:3.4; b:294'}, {'RSS': 2630760.0, 'name': 'm:3.4; b:297'}, {'RSS': 1136406.25, 'name': 'm:3.5; b:0'}, {'RSS': 1149126.25, 'name': 'm:3.5; b:3'}, {'RSS': 1161936.25, 'name': 'm:3.5; b:6'}, {'RSS': 1174836.25, 'name': 'm:3.5; b:9'}, {'RSS': 1187826.25, 'name': 'm:3.5; b:12'}, {'RSS': 1200906.25, 'name': 'm:3.5; b:15'}, {'RSS': 1214076.25, 'name': 'm:3.5; b:18'}, {'RSS': 1227336.25, 'name': 'm:3.5; b:21'}, {'RSS': 1240686.25, 'name': 'm:3.5; b:24'}, {'RSS': 1254126.25, 'name': 'm:3.5; b:27'}, {'RSS': 1267656.25, 'name': 'm:3.5; b:30'}, {'RSS': 1281276.25, 'name': 'm:3.5; b:33'}, {'RSS': 1294986.25, 'name': 'm:3.5; b:36'}, {'RSS': 1308786.25, 'name': 'm:3.5; b:39'}, {'RSS': 1322676.25, 'name': 'm:3.5; b:42'}, {'RSS': 1336656.25, 'name': 'm:3.5; b:45'}, {'RSS': 1350726.25, 'name': 'm:3.5; b:48'}, {'RSS': 1364886.25, 'name': 'm:3.5; b:51'}, {'RSS': 1379136.25, 'name': 'm:3.5; b:54'}, {'RSS': 1393476.25, 'name': 'm:3.5; b:57'}, {'RSS': 1407906.25, 'name': 'm:3.5; b:60'}, {'RSS': 1422426.25, 'name': 'm:3.5; b:63'}, {'RSS': 1437036.25, 'name': 'm:3.5; b:66'}, {'RSS': 1451736.25, 'name': 'm:3.5; b:69'}, {'RSS': 1466526.25, 'name': 'm:3.5; b:72'}, {'RSS': 1481406.25, 'name': 'm:3.5; b:75'}, {'RSS': 1496376.25, 'name': 'm:3.5; b:78'}, {'RSS': 1511436.25, 'name': 'm:3.5; b:81'}, {'RSS': 1526586.25, 'name': 'm:3.5; b:84'}, {'RSS': 1541826.25, 'name': 'm:3.5; b:87'}, {'RSS': 1557156.25, 'name': 'm:3.5; b:90'}, {'RSS': 1572576.25, 'name': 'm:3.5; b:93'}, {'RSS': 1588086.25, 'name': 'm:3.5; b:96'}, {'RSS': 1603686.25, 'name': 'm:3.5; b:99'}, {'RSS': 1619376.25, 'name': 'm:3.5; b:102'}, {'RSS': 1635156.25, 'name': 'm:3.5; b:105'}, {'RSS': 1651026.25, 'name': 'm:3.5; b:108'}, {'RSS': 1666986.25, 'name': 'm:3.5; b:111'}, {'RSS': 1683036.25, 'name': 'm:3.5; b:114'}, {'RSS': 1699176.25, 'name': 'm:3.5; b:117'}, {'RSS': 1715406.25, 'name': 'm:3.5; b:120'}, {'RSS': 1731726.25, 'name': 'm:3.5; b:123'}, {'RSS': 1748136.25, 'name': 'm:3.5; b:126'}, {'RSS': 1764636.25, 'name': 'm:3.5; b:129'}, {'RSS': 1781226.25, 'name': 'm:3.5; b:132'}, {'RSS': 1797906.25, 'name': 'm:3.5; b:135'}, {'RSS': 1814676.25, 'name': 'm:3.5; b:138'}, {'RSS': 1831536.25, 'name': 'm:3.5; b:141'}, {'RSS': 1848486.25, 'name': 'm:3.5; b:144'}, {'RSS': 1865526.25, 'name': 'm:3.5; b:147'}, {'RSS': 1882656.25, 'name': 'm:3.5; b:150'}, {'RSS': 1899876.25, 'name': 'm:3.5; b:153'}, {'RSS': 1917186.25, 'name': 'm:3.5; b:156'}, {'RSS': 1934586.25, 'name': 'm:3.5; b:159'}, {'RSS': 1952076.25, 'name': 'm:3.5; b:162'}, {'RSS': 1969656.25, 'name': 'm:3.5; b:165'}, {'RSS': 1987326.25, 'name': 'm:3.5; b:168'}, {'RSS': 2005086.25, 'name': 'm:3.5; b:171'}, {'RSS': 2022936.25, 'name': 'm:3.5; b:174'}, {'RSS': 2040876.25, 'name': 'm:3.5; b:177'}, {'RSS': 2058906.25, 'name': 'm:3.5; b:180'}, {'RSS': 2077026.25, 'name': 'm:3.5; b:183'}, {'RSS': 2095236.25, 'name': 'm:3.5; b:186'}, {'RSS': 2113536.25, 'name': 'm:3.5; b:189'}, {'RSS': 2131926.25, 'name': 'm:3.5; b:192'}, {'RSS': 2150406.25, 'name': 'm:3.5; b:195'}, {'RSS': 2168976.25, 'name': 'm:3.5; b:198'}, {'RSS': 2187636.25, 'name': 'm:3.5; b:201'}, {'RSS': 2206386.25, 'name': 'm:3.5; b:204'}, {'RSS': 2225226.25, 'name': 'm:3.5; b:207'}, {'RSS': 2244156.25, 'name': 'm:3.5; b:210'}, {'RSS': 2263176.25, 'name': 'm:3.5; b:213'}, {'RSS': 2282286.25, 'name': 'm:3.5; b:216'}, {'RSS': 2301486.25, 'name': 'm:3.5; b:219'}, {'RSS': 2320776.25, 'name': 'm:3.5; b:222'}, {'RSS': 2340156.25, 'name': 'm:3.5; b:225'}, {'RSS': 2359626.25, 'name': 'm:3.5; b:228'}, {'RSS': 2379186.25, 'name': 'm:3.5; b:231'}, {'RSS': 2398836.25, 'name': 'm:3.5; b:234'}, {'RSS': 2418576.25, 'name': 'm:3.5; b:237'}, {'RSS': 2438406.25, 'name': 'm:3.5; b:240'}, {'RSS': 2458326.25, 'name': 'm:3.5; b:243'}, {'RSS': 2478336.25, 'name': 'm:3.5; b:246'}, {'RSS': 2498436.25, 'name': 'm:3.5; b:249'}, {'RSS': 2518626.25, 'name': 'm:3.5; b:252'}, {'RSS': 2538906.25, 'name': 'm:3.5; b:255'}, {'RSS': 2559276.25, 'name': 'm:3.5; b:258'}, {'RSS': 2579736.25, 'name': 'm:3.5; b:261'}, {'RSS': 2600286.25, 'name': 'm:3.5; b:264'}, {'RSS': 2620926.25, 'name': 'm:3.5; b:267'}, {'RSS': 2641656.25, 'name': 'm:3.5; b:270'}, {'RSS': 2662476.25, 'name': 'm:3.5; b:273'}, {'RSS': 2683386.25, 'name': 'm:3.5; b:276'}, {'RSS': 2704386.25, 'name': 'm:3.5; b:279'}, {'RSS': 2725476.25, 'name': 'm:3.5; b:282'}, {'RSS': 2746656.25, 'name': 'm:3.5; b:285'}, {'RSS': 2767926.25, 'name': 'm:3.5; b:288'}, {'RSS': 2789286.25, 'name': 'm:3.5; b:291'}, {'RSS': 2810736.25, 'name': 'm:3.5; b:294'}, {'RSS': 2832276.25, 'name': 'm:3.5; b:297'}, {'RSS': 1269750.0, 'name': 'm:3.6; b:0'}, {'RSS': 1283235.0, 'name': 'm:3.6; b:3'}, {'RSS': 1296810.0, 'name': 'm:3.6; b:6'}, {'RSS': 1310475.0, 'name': 'm:3.6; b:9'}, {'RSS': 1324230.0, 'name': 'm:3.6; b:12'}, {'RSS': 1338075.0, 'name': 'm:3.6; b:15'}, {'RSS': 1352010.0, 'name': 'm:3.6; b:18'}, {'RSS': 1366035.0, 'name': 'm:3.6; b:21'}, {'RSS': 1380150.0, 'name': 'm:3.6; b:24'}, {'RSS': 1394355.0, 'name': 'm:3.6; b:27'}, {'RSS': 1408650.0, 'name': 'm:3.6; b:30'}, {'RSS': 1423035.0, 'name': 'm:3.6; b:33'}, {'RSS': 1437510.0, 'name': 'm:3.6; b:36'}, {'RSS': 1452075.0, 'name': 'm:3.6; b:39'}, {'RSS': 1466730.0, 'name': 'm:3.6; b:42'}, {'RSS': 1481475.0, 'name': 'm:3.6; b:45'}, {'RSS': 1496310.0, 'name': 'm:3.6; b:48'}, {'RSS': 1511235.0, 'name': 'm:3.6; b:51'}, {'RSS': 1526250.0, 'name': 'm:3.6; b:54'}, {'RSS': 1541355.0, 'name': 'm:3.6; b:57'}, {'RSS': 1556550.0, 'name': 'm:3.6; b:60'}, {'RSS': 1571835.0, 'name': 'm:3.6; b:63'}, {'RSS': 1587210.0, 'name': 'm:3.6; b:66'}, {'RSS': 1602675.0, 'name': 'm:3.6; b:69'}, {'RSS': 1618230.0, 'name': 'm:3.6; b:72'}, {'RSS': 1633875.0, 'name': 'm:3.6; b:75'}, {'RSS': 1649610.0, 'name': 'm:3.6; b:78'}, {'RSS': 1665435.0, 'name': 'm:3.6; b:81'}, {'RSS': 1681350.0, 'name': 'm:3.6; b:84'}, {'RSS': 1697355.0, 'name': 'm:3.6; b:87'}, {'RSS': 1713450.0, 'name': 'm:3.6; b:90'}, {'RSS': 1729635.0, 'name': 'm:3.6; b:93'}, {'RSS': 1745910.0, 'name': 'm:3.6; b:96'}, {'RSS': 1762275.0, 'name': 'm:3.6; b:99'}, {'RSS': 1778730.0, 'name': 'm:3.6; b:102'}, {'RSS': 1795275.0, 'name': 'm:3.6; b:105'}, {'RSS': 1811910.0, 'name': 'm:3.6; b:108'}, {'RSS': 1828635.0, 'name': 'm:3.6; b:111'}, {'RSS': 1845450.0, 'name': 'm:3.6; b:114'}, {'RSS': 1862355.0, 'name': 'm:3.6; b:117'}, {'RSS': 1879350.0, 'name': 'm:3.6; b:120'}, {'RSS': 1896435.0, 'name': 'm:3.6; b:123'}, {'RSS': 1913610.0, 'name': 'm:3.6; b:126'}, {'RSS': 1930875.0, 'name': 'm:3.6; b:129'}, {'RSS': 1948230.0, 'name': 'm:3.6; b:132'}, {'RSS': 1965675.0, 'name': 'm:3.6; b:135'}, {'RSS': 1983210.0, 'name': 'm:3.6; b:138'}, {'RSS': 2000835.0, 'name': 'm:3.6; b:141'}, {'RSS': 2018550.0, 'name': 'm:3.6; b:144'}, {'RSS': 2036355.0, 'name': 'm:3.6; b:147'}, {'RSS': 2054250.0, 'name': 'm:3.6; b:150'}, {'RSS': 2072235.0, 'name': 'm:3.6; b:153'}, {'RSS': 2090310.0, 'name': 'm:3.6; b:156'}, {'RSS': 2108475.0, 'name': 'm:3.6; b:159'}, {'RSS': 2126730.0, 'name': 'm:3.6; b:162'}, {'RSS': 2145075.0, 'name': 'm:3.6; b:165'}, {'RSS': 2163510.0, 'name': 'm:3.6; b:168'}, {'RSS': 2182035.0, 'name': 'm:3.6; b:171'}, {'RSS': 2200650.0, 'name': 'm:3.6; b:174'}, {'RSS': 2219355.0, 'name': 'm:3.6; b:177'}, {'RSS': 2238150.0, 'name': 'm:3.6; b:180'}, {'RSS': 2257035.0, 'name': 'm:3.6; b:183'}, {'RSS': 2276010.0, 'name': 'm:3.6; b:186'}, {'RSS': 2295075.0, 'name': 'm:3.6; b:189'}, {'RSS': 2314230.0, 'name': 'm:3.6; b:192'}, {'RSS': 2333475.0, 'name': 'm:3.6; b:195'}, {'RSS': 2352810.0, 'name': 'm:3.6; b:198'}, {'RSS': 2372235.0, 'name': 'm:3.6; b:201'}, {'RSS': 2391750.0, 'name': 'm:3.6; b:204'}, {'RSS': 2411355.0, 'name': 'm:3.6; b:207'}, {'RSS': 2431050.0, 'name': 'm:3.6; b:210'}, {'RSS': 2450835.0, 'name': 'm:3.6; b:213'}, {'RSS': 2470710.0, 'name': 'm:3.6; b:216'}, {'RSS': 2490675.0, 'name': 'm:3.6; b:219'}, {'RSS': 2510730.0, 'name': 'm:3.6; b:222'}, {'RSS': 2530875.0, 'name': 'm:3.6; b:225'}, {'RSS': 2551110.0, 'name': 'm:3.6; b:228'}, {'RSS': 2571435.0, 'name': 'm:3.6; b:231'}, {'RSS': 2591850.0, 'name': 'm:3.6; b:234'}, {'RSS': 2612355.0, 'name': 'm:3.6; b:237'}, {'RSS': 2632950.0, 'name': 'm:3.6; b:240'}, {'RSS': 2653635.0, 'name': 'm:3.6; b:243'}, {'RSS': 2674410.0, 'name': 'm:3.6; b:246'}, {'RSS': 2695275.0, 'name': 'm:3.6; b:249'}, {'RSS': 2716230.0, 'name': 'm:3.6; b:252'}, {'RSS': 2737275.0, 'name': 'm:3.6; b:255'}, {'RSS': 2758410.0, 'name': 'm:3.6; b:258'}, {'RSS': 2779635.0, 'name': 'm:3.6; b:261'}, {'RSS': 2800950.0, 'name': 'm:3.6; b:264'}, {'RSS': 2822355.0, 'name': 'm:3.6; b:267'}, {'RSS': 2843850.0, 'name': 'm:3.6; b:270'}, {'RSS': 2865435.0, 'name': 'm:3.6; b:273'}, {'RSS': 2887110.0, 'name': 'm:3.6; b:276'}, {'RSS': 2908875.0, 'name': 'm:3.6; b:279'}, {'RSS': 2930730.0, 'name': 'm:3.6; b:282'}, {'RSS': 2952675.0, 'name': 'm:3.6; b:285'}, {'RSS': 2974710.0, 'name': 'm:3.6; b:288'}, {'RSS': 2996835.0, 'name': 'm:3.6; b:291'}, {'RSS': 3019050.0, 'name': 'm:3.6; b:294'}, {'RSS': 3041355.0, 'name': 'm:3.6; b:297'}, {'RSS': 1410656.25, 'name': 'm:3.7; b:0'}, {'RSS': 1424906.25, 'name': 'm:3.7; b:3'}, {'RSS': 1439246.25, 'name': 'm:3.7; b:6'}, {'RSS': 1453676.25, 'name': 'm:3.7; b:9'}, {'RSS': 1468196.25, 'name': 'm:3.7; b:12'}, {'RSS': 1482806.25, 'name': 'm:3.7; b:15'}, {'RSS': 1497506.25, 'name': 'm:3.7; b:18'}, {'RSS': 1512296.25, 'name': 'm:3.7; b:21'}, {'RSS': 1527176.25, 'name': 'm:3.7; b:24'}, {'RSS': 1542146.25, 'name': 'm:3.7; b:27'}, {'RSS': 1557206.25, 'name': 'm:3.7; b:30'}, {'RSS': 1572356.25, 'name': 'm:3.7; b:33'}, {'RSS': 1587596.25, 'name': 'm:3.7; b:36'}, {'RSS': 1602926.25, 'name': 'm:3.7; b:39'}, {'RSS': 1618346.25, 'name': 'm:3.7; b:42'}, {'RSS': 1633856.25, 'name': 'm:3.7; b:45'}, {'RSS': 1649456.25, 'name': 'm:3.7; b:48'}, {'RSS': 1665146.25, 'name': 'm:3.7; b:51'}, {'RSS': 1680926.25, 'name': 'm:3.7; b:54'}, {'RSS': 1696796.25, 'name': 'm:3.7; b:57'}, {'RSS': 1712756.25, 'name': 'm:3.7; b:60'}, {'RSS': 1728806.25, 'name': 'm:3.7; b:63'}, {'RSS': 1744946.25, 'name': 'm:3.7; b:66'}, {'RSS': 1761176.25, 'name': 'm:3.7; b:69'}, {'RSS': 1777496.25, 'name': 'm:3.7; b:72'}, {'RSS': 1793906.25, 'name': 'm:3.7; b:75'}, {'RSS': 1810406.25, 'name': 'm:3.7; b:78'}, {'RSS': 1826996.25, 'name': 'm:3.7; b:81'}, {'RSS': 1843676.25, 'name': 'm:3.7; b:84'}, {'RSS': 1860446.25, 'name': 'm:3.7; b:87'}, {'RSS': 1877306.25, 'name': 'm:3.7; b:90'}, {'RSS': 1894256.25, 'name': 'm:3.7; b:93'}, {'RSS': 1911296.25, 'name': 'm:3.7; b:96'}, {'RSS': 1928426.25, 'name': 'm:3.7; b:99'}, {'RSS': 1945646.25, 'name': 'm:3.7; b:102'}, {'RSS': 1962956.25, 'name': 'm:3.7; b:105'}, {'RSS': 1980356.25, 'name': 'm:3.7; b:108'}, {'RSS': 1997846.25, 'name': 'm:3.7; b:111'}, {'RSS': 2015426.25, 'name': 'm:3.7; b:114'}, {'RSS': 2033096.25, 'name': 'm:3.7; b:117'}, {'RSS': 2050856.25, 'name': 'm:3.7; b:120'}, {'RSS': 2068706.25, 'name': 'm:3.7; b:123'}, {'RSS': 2086646.25, 'name': 'm:3.7; b:126'}, {'RSS': 2104676.25, 'name': 'm:3.7; b:129'}, {'RSS': 2122796.25, 'name': 'm:3.7; b:132'}, {'RSS': 2141006.25, 'name': 'm:3.7; b:135'}, {'RSS': 2159306.25, 'name': 'm:3.7; b:138'}, {'RSS': 2177696.25, 'name': 'm:3.7; b:141'}, {'RSS': 2196176.25, 'name': 'm:3.7; b:144'}, {'RSS': 2214746.25, 'name': 'm:3.7; b:147'}, {'RSS': 2233406.25, 'name': 'm:3.7; b:150'}, {'RSS': 2252156.25, 'name': 'm:3.7; b:153'}, {'RSS': 2270996.25, 'name': 'm:3.7; b:156'}, {'RSS': 2289926.25, 'name': 'm:3.7; b:159'}, {'RSS': 2308946.25, 'name': 'm:3.7; b:162'}, {'RSS': 2328056.25, 'name': 'm:3.7; b:165'}, {'RSS': 2347256.25, 'name': 'm:3.7; b:168'}, {'RSS': 2366546.25, 'name': 'm:3.7; b:171'}, {'RSS': 2385926.25, 'name': 'm:3.7; b:174'}, {'RSS': 2405396.25, 'name': 'm:3.7; b:177'}, {'RSS': 2424956.25, 'name': 'm:3.7; b:180'}, {'RSS': 2444606.25, 'name': 'm:3.7; b:183'}, {'RSS': 2464346.25, 'name': 'm:3.7; b:186'}, {'RSS': 2484176.25, 'name': 'm:3.7; b:189'}, {'RSS': 2504096.25, 'name': 'm:3.7; b:192'}, {'RSS': 2524106.25, 'name': 'm:3.7; b:195'}, {'RSS': 2544206.25, 'name': 'm:3.7; b:198'}, {'RSS': 2564396.25, 'name': 'm:3.7; b:201'}, {'RSS': 2584676.25, 'name': 'm:3.7; b:204'}, {'RSS': 2605046.25, 'name': 'm:3.7; b:207'}, {'RSS': 2625506.25, 'name': 'm:3.7; b:210'}, {'RSS': 2646056.25, 'name': 'm:3.7; b:213'}, {'RSS': 2666696.25, 'name': 'm:3.7; b:216'}, {'RSS': 2687426.25, 'name': 'm:3.7; b:219'}, {'RSS': 2708246.25, 'name': 'm:3.7; b:222'}, {'RSS': 2729156.25, 'name': 'm:3.7; b:225'}, {'RSS': 2750156.25, 'name': 'm:3.7; b:228'}, {'RSS': 2771246.25, 'name': 'm:3.7; b:231'}, {'RSS': 2792426.25, 'name': 'm:3.7; b:234'}, {'RSS': 2813696.25, 'name': 'm:3.7; b:237'}, {'RSS': 2835056.25, 'name': 'm:3.7; b:240'}, {'RSS': 2856506.25, 'name': 'm:3.7; b:243'}, {'RSS': 2878046.25, 'name': 'm:3.7; b:246'}, {'RSS': 2899676.25, 'name': 'm:3.7; b:249'}, {'RSS': 2921396.25, 'name': 'm:3.7; b:252'}, {'RSS': 2943206.25, 'name': 'm:3.7; b:255'}, {'RSS': 2965106.25, 'name': 'm:3.7; b:258'}, {'RSS': 2987096.25, 'name': 'm:3.7; b:261'}, {'RSS': 3009176.25, 'name': 'm:3.7; b:264'}, {'RSS': 3031346.25, 'name': 'm:3.7; b:267'}, {'RSS': 3053606.25, 'name': 'm:3.7; b:270'}, {'RSS': 3075956.25, 'name': 'm:3.7; b:273'}, {'RSS': 3098396.25, 'name': 'm:3.7; b:276'}, {'RSS': 3120926.25, 'name': 'm:3.7; b:279'}, {'RSS': 3143546.25, 'name': 'm:3.7; b:282'}, {'RSS': 3166256.25, 'name': 'm:3.7; b:285'}, {'RSS': 3189056.25, 'name': 'm:3.7; b:288'}, {'RSS': 3211946.25, 'name': 'm:3.7; b:291'}, {'RSS': 3234926.25, 'name': 'm:3.7; b:294'}, {'RSS': 3257996.25, 'name': 'm:3.7; b:297'}, {'RSS': 1559125.0, 'name': 'm:3.8; b:0'}, {'RSS': 1574140.0, 'name': 'm:3.8; b:3'}, {'RSS': 1589245.0, 'name': 'm:3.8; b:6'}, {'RSS': 1604440.0, 'name': 'm:3.8; b:9'}, {'RSS': 1619725.0, 'name': 'm:3.8; b:12'}, {'RSS': 1635100.0, 'name': 'm:3.8; b:15'}, {'RSS': 1650565.0, 'name': 'm:3.8; b:18'}, {'RSS': 1666120.0, 'name': 'm:3.8; b:21'}, {'RSS': 1681765.0, 'name': 'm:3.8; b:24'}, {'RSS': 1697500.0, 'name': 'm:3.8; b:27'}, {'RSS': 1713325.0, 'name': 'm:3.8; b:30'}, {'RSS': 1729240.0, 'name': 'm:3.8; b:33'}, {'RSS': 1745245.0, 'name': 'm:3.8; b:36'}, {'RSS': 1761340.0, 'name': 'm:3.8; b:39'}, {'RSS': 1777525.0, 'name': 'm:3.8; b:42'}, {'RSS': 1793800.0, 'name': 'm:3.8; b:45'}, {'RSS': 1810165.0, 'name': 'm:3.8; b:48'}, {'RSS': 1826620.0, 'name': 'm:3.8; b:51'}, {'RSS': 1843165.0, 'name': 'm:3.8; b:54'}, {'RSS': 1859800.0, 'name': 'm:3.8; b:57'}, {'RSS': 1876525.0, 'name': 'm:3.8; b:60'}, {'RSS': 1893340.0, 'name': 'm:3.8; b:63'}, {'RSS': 1910245.0, 'name': 'm:3.8; b:66'}, {'RSS': 1927240.0, 'name': 'm:3.8; b:69'}, {'RSS': 1944325.0, 'name': 'm:3.8; b:72'}, {'RSS': 1961500.0, 'name': 'm:3.8; b:75'}, {'RSS': 1978765.0, 'name': 'm:3.8; b:78'}, {'RSS': 1996120.0, 'name': 'm:3.8; b:81'}, {'RSS': 2013565.0, 'name': 'm:3.8; b:84'}, {'RSS': 2031100.0, 'name': 'm:3.8; b:87'}, {'RSS': 2048725.0, 'name': 'm:3.8; b:90'}, {'RSS': 2066440.0, 'name': 'm:3.8; b:93'}, {'RSS': 2084245.0, 'name': 'm:3.8; b:96'}, {'RSS': 2102140.0, 'name': 'm:3.8; b:99'}, {'RSS': 2120125.0, 'name': 'm:3.8; b:102'}, {'RSS': 2138200.0, 'name': 'm:3.8; b:105'}, {'RSS': 2156365.0, 'name': 'm:3.8; b:108'}, {'RSS': 2174620.0, 'name': 'm:3.8; b:111'}, {'RSS': 2192965.0, 'name': 'm:3.8; b:114'}, {'RSS': 2211400.0, 'name': 'm:3.8; b:117'}, {'RSS': 2229925.0, 'name': 'm:3.8; b:120'}, {'RSS': 2248540.0, 'name': 'm:3.8; b:123'}, {'RSS': 2267245.0, 'name': 'm:3.8; b:126'}, {'RSS': 2286040.0, 'name': 'm:3.8; b:129'}, {'RSS': 2304925.0, 'name': 'm:3.8; b:132'}, {'RSS': 2323900.0, 'name': 'm:3.8; b:135'}, {'RSS': 2342965.0, 'name': 'm:3.8; b:138'}, {'RSS': 2362120.0, 'name': 'm:3.8; b:141'}, {'RSS': 2381365.0, 'name': 'm:3.8; b:144'}, {'RSS': 2400700.0, 'name': 'm:3.8; b:147'}, {'RSS': 2420125.0, 'name': 'm:3.8; b:150'}, {'RSS': 2439640.0, 'name': 'm:3.8; b:153'}, {'RSS': 2459245.0, 'name': 'm:3.8; b:156'}, {'RSS': 2478940.0, 'name': 'm:3.8; b:159'}, {'RSS': 2498725.0, 'name': 'm:3.8; b:162'}, {'RSS': 2518600.0, 'name': 'm:3.8; b:165'}, {'RSS': 2538565.0, 'name': 'm:3.8; b:168'}, {'RSS': 2558620.0, 'name': 'm:3.8; b:171'}, {'RSS': 2578765.0, 'name': 'm:3.8; b:174'}, {'RSS': 2599000.0, 'name': 'm:3.8; b:177'}, {'RSS': 2619325.0, 'name': 'm:3.8; b:180'}, {'RSS': 2639740.0, 'name': 'm:3.8; b:183'}, {'RSS': 2660245.0, 'name': 'm:3.8; b:186'}, {'RSS': 2680840.0, 'name': 'm:3.8; b:189'}, {'RSS': 2701525.0, 'name': 'm:3.8; b:192'}, {'RSS': 2722300.0, 'name': 'm:3.8; b:195'}, {'RSS': 2743165.0, 'name': 'm:3.8; b:198'}, {'RSS': 2764120.0, 'name': 'm:3.8; b:201'}, {'RSS': 2785165.0, 'name': 'm:3.8; b:204'}, {'RSS': 2806300.0, 'name': 'm:3.8; b:207'}, {'RSS': 2827525.0, 'name': 'm:3.8; b:210'}, {'RSS': 2848840.0, 'name': 'm:3.8; b:213'}, {'RSS': 2870245.0, 'name': 'm:3.8; b:216'}, {'RSS': 2891740.0, 'name': 'm:3.8; b:219'}, {'RSS': 2913325.0, 'name': 'm:3.8; b:222'}, {'RSS': 2935000.0, 'name': 'm:3.8; b:225'}, {'RSS': 2956765.0, 'name': 'm:3.8; b:228'}, {'RSS': 2978620.0, 'name': 'm:3.8; b:231'}, {'RSS': 3000565.0, 'name': 'm:3.8; b:234'}, {'RSS': 3022600.0, 'name': 'm:3.8; b:237'}, {'RSS': 3044725.0, 'name': 'm:3.8; b:240'}, {'RSS': 3066940.0, 'name': 'm:3.8; b:243'}, {'RSS': 3089245.0, 'name': 'm:3.8; b:246'}, {'RSS': 3111640.0, 'name': 'm:3.8; b:249'}, {'RSS': 3134125.0, 'name': 'm:3.8; b:252'}, {'RSS': 3156700.0, 'name': 'm:3.8; b:255'}, {'RSS': 3179365.0, 'name': 'm:3.8; b:258'}, {'RSS': 3202120.0, 'name': 'm:3.8; b:261'}, {'RSS': 3224965.0, 'name': 'm:3.8; b:264'}, {'RSS': 3247900.0, 'name': 'm:3.8; b:267'}, {'RSS': 3270925.0, 'name': 'm:3.8; b:270'}, {'RSS': 3294040.0, 'name': 'm:3.8; b:273'}, {'RSS': 3317245.0, 'name': 'm:3.8; b:276'}, {'RSS': 3340540.0, 'name': 'm:3.8; b:279'}, {'RSS': 3363925.0, 'name': 'm:3.8; b:282'}, {'RSS': 3387400.0, 'name': 'm:3.8; b:285'}, {'RSS': 3410965.0, 'name': 'm:3.8; b:288'}, {'RSS': 3434620.0, 'name': 'm:3.8; b:291'}, {'RSS': 3458365.0, 'name': 'm:3.8; b:294'}, {'RSS': 3482200.0, 'name': 'm:3.8; b:297'}, {'RSS': 1715156.25, 'name': 'm:3.9; b:0'}, {'RSS': 1730936.25, 'name': 'm:3.9; b:3'}, {'RSS': 1746806.25, 'name': 'm:3.9; b:6'}, {'RSS': 1762766.25, 'name': 'm:3.9; b:9'}, {'RSS': 1778816.25, 'name': 'm:3.9; b:12'}, {'RSS': 1794956.25, 'name': 'm:3.9; b:15'}, {'RSS': 1811186.25, 'name': 'm:3.9; b:18'}, {'RSS': 1827506.25, 'name': 'm:3.9; b:21'}, {'RSS': 1843916.25, 'name': 'm:3.9; b:24'}, {'RSS': 1860416.25, 'name': 'm:3.9; b:27'}, {'RSS': 1877006.25, 'name': 'm:3.9; b:30'}, {'RSS': 1893686.25, 'name': 'm:3.9; b:33'}, {'RSS': 1910456.25, 'name': 'm:3.9; b:36'}, {'RSS': 1927316.25, 'name': 'm:3.9; b:39'}, {'RSS': 1944266.25, 'name': 'm:3.9; b:42'}, {'RSS': 1961306.25, 'name': 'm:3.9; b:45'}, {'RSS': 1978436.25, 'name': 'm:3.9; b:48'}, {'RSS': 1995656.25, 'name': 'm:3.9; b:51'}, {'RSS': 2012966.25, 'name': 'm:3.9; b:54'}, {'RSS': 2030366.25, 'name': 'm:3.9; b:57'}, {'RSS': 2047856.25, 'name': 'm:3.9; b:60'}, {'RSS': 2065436.25, 'name': 'm:3.9; b:63'}, {'RSS': 2083106.25, 'name': 'm:3.9; b:66'}, {'RSS': 2100866.25, 'name': 'm:3.9; b:69'}, {'RSS': 2118716.25, 'name': 'm:3.9; b:72'}, {'RSS': 2136656.25, 'name': 'm:3.9; b:75'}, {'RSS': 2154686.25, 'name': 'm:3.9; b:78'}, {'RSS': 2172806.25, 'name': 'm:3.9; b:81'}, {'RSS': 2191016.25, 'name': 'm:3.9; b:84'}, {'RSS': 2209316.25, 'name': 'm:3.9; b:87'}, {'RSS': 2227706.25, 'name': 'm:3.9; b:90'}, {'RSS': 2246186.25, 'name': 'm:3.9; b:93'}, {'RSS': 2264756.25, 'name': 'm:3.9; b:96'}, {'RSS': 2283416.25, 'name': 'm:3.9; b:99'}, {'RSS': 2302166.25, 'name': 'm:3.9; b:102'}, {'RSS': 2321006.25, 'name': 'm:3.9; b:105'}, {'RSS': 2339936.25, 'name': 'm:3.9; b:108'}, {'RSS': 2358956.25, 'name': 'm:3.9; b:111'}, {'RSS': 2378066.25, 'name': 'm:3.9; b:114'}, {'RSS': 2397266.25, 'name': 'm:3.9; b:117'}, {'RSS': 2416556.25, 'name': 'm:3.9; b:120'}, {'RSS': 2435936.25, 'name': 'm:3.9; b:123'}, {'RSS': 2455406.25, 'name': 'm:3.9; b:126'}, {'RSS': 2474966.25, 'name': 'm:3.9; b:129'}, {'RSS': 2494616.25, 'name': 'm:3.9; b:132'}, {'RSS': 2514356.25, 'name': 'm:3.9; b:135'}, {'RSS': 2534186.25, 'name': 'm:3.9; b:138'}, {'RSS': 2554106.25, 'name': 'm:3.9; b:141'}, {'RSS': 2574116.25, 'name': 'm:3.9; b:144'}, {'RSS': 2594216.25, 'name': 'm:3.9; b:147'}, {'RSS': 2614406.25, 'name': 'm:3.9; b:150'}, {'RSS': 2634686.25, 'name': 'm:3.9; b:153'}, {'RSS': 2655056.25, 'name': 'm:3.9; b:156'}, {'RSS': 2675516.25, 'name': 'm:3.9; b:159'}, {'RSS': 2696066.25, 'name': 'm:3.9; b:162'}, {'RSS': 2716706.25, 'name': 'm:3.9; b:165'}, {'RSS': 2737436.25, 'name': 'm:3.9; b:168'}, {'RSS': 2758256.25, 'name': 'm:3.9; b:171'}, {'RSS': 2779166.25, 'name': 'm:3.9; b:174'}, {'RSS': 2800166.25, 'name': 'm:3.9; b:177'}, {'RSS': 2821256.25, 'name': 'm:3.9; b:180'}, {'RSS': 2842436.25, 'name': 'm:3.9; b:183'}, {'RSS': 2863706.25, 'name': 'm:3.9; b:186'}, {'RSS': 2885066.25, 'name': 'm:3.9; b:189'}, {'RSS': 2906516.25, 'name': 'm:3.9; b:192'}, {'RSS': 2928056.25, 'name': 'm:3.9; b:195'}, {'RSS': 2949686.25, 'name': 'm:3.9; b:198'}, {'RSS': 2971406.25, 'name': 'm:3.9; b:201'}, {'RSS': 2993216.25, 'name': 'm:3.9; b:204'}, {'RSS': 3015116.25, 'name': 'm:3.9; b:207'}, {'RSS': 3037106.25, 'name': 'm:3.9; b:210'}, {'RSS': 3059186.25, 'name': 'm:3.9; b:213'}, {'RSS': 3081356.25, 'name': 'm:3.9; b:216'}, {'RSS': 3103616.25, 'name': 'm:3.9; b:219'}, {'RSS': 3125966.25, 'name': 'm:3.9; b:222'}, {'RSS': 3148406.25, 'name': 'm:3.9; b:225'}, {'RSS': 3170936.25, 'name': 'm:3.9; b:228'}, {'RSS': 3193556.25, 'name': 'm:3.9; b:231'}, {'RSS': 3216266.25, 'name': 'm:3.9; b:234'}, {'RSS': 3239066.25, 'name': 'm:3.9; b:237'}, {'RSS': 3261956.25, 'name': 'm:3.9; b:240'}, {'RSS': 3284936.25, 'name': 'm:3.9; b:243'}, {'RSS': 3308006.25, 'name': 'm:3.9; b:246'}, {'RSS': 3331166.25, 'name': 'm:3.9; b:249'}, {'RSS': 3354416.25, 'name': 'm:3.9; b:252'}, {'RSS': 3377756.25, 'name': 'm:3.9; b:255'}, {'RSS': 3401186.25, 'name': 'm:3.9; b:258'}, {'RSS': 3424706.25, 'name': 'm:3.9; b:261'}, {'RSS': 3448316.25, 'name': 'm:3.9; b:264'}, {'RSS': 3472016.25, 'name': 'm:3.9; b:267'}, {'RSS': 3495806.25, 'name': 'm:3.9; b:270'}, {'RSS': 3519686.25, 'name': 'm:3.9; b:273'}, {'RSS': 3543656.25, 'name': 'm:3.9; b:276'}, {'RSS': 3567716.25, 'name': 'm:3.9; b:279'}, {'RSS': 3591866.25, 'name': 'm:3.9; b:282'}, {'RSS': 3616106.25, 'name': 'm:3.9; b:285'}, {'RSS': 3640436.25, 'name': 'm:3.9; b:288'}, {'RSS': 3664856.25, 'name': 'm:3.9; b:291'}, {'RSS': 3689366.25, 'name': 'm:3.9; b:294'}, {'RSS': 3713966.25, 'name': 'm:3.9; b:297'}]\n"
     ]
    },
    {
     "data": {
      "text/plain": [
       "{'RSS': 19285.0, 'name': 'm:1.4; b:114'}"
      ]
     },
     "execution_count": 90,
     "metadata": {},
     "output_type": "execute_result"
    }
   ],
   "source": [
    "RSSs()   # 1.4, 114"
   ]
  },
  {
   "cell_type": "code",
   "execution_count": 53,
   "metadata": {
    "scrolled": true
   },
   "outputs": [
    {
     "data": {
      "text/plain": [
       "24130.78"
      ]
     },
     "execution_count": 53,
     "metadata": {},
     "output_type": "execute_result"
    }
   ],
   "source": [
    "residual_sum_squares(budgets, revenues, 1.417, 140)"
   ]
  },
  {
   "cell_type": "markdown",
   "metadata": {},
   "source": [
    "Now let's the RSS for a variety of $b$ values."
   ]
  },
  {
   "cell_type": "code",
   "execution_count": 8,
   "metadata": {},
   "outputs": [],
   "source": [
    "def residual_sum_squares_errors(x_values, y_values, regression_lines):\n",
    "    errors = []\n",
    "    for regression_line in regression_lines:\n",
    "        error = residual_sum_squares(x_values, y_values, regression_line[0], regression_line[1])\n",
    "        errors.append([regression_line[0], regression_line[1], round(error, 0)])\n",
    "    return errors"
   ]
  },
  {
   "cell_type": "code",
   "execution_count": 9,
   "metadata": {},
   "outputs": [
    {
     "data": {
      "text/plain": [
       "[(1.417, 70),\n",
       " (1.417, 80),\n",
       " (1.417, 90),\n",
       " (1.417, 100),\n",
       " (1.417, 110),\n",
       " (1.417, 120),\n",
       " (1.417, 130),\n",
       " (1.417, 140)]"
      ]
     },
     "execution_count": 9,
     "metadata": {},
     "output_type": "execute_result"
    }
   ],
   "source": [
    "b_values = list(range(70, 150, 10))\n",
    "\n",
    "m_values = [1.417]*8\n",
    "regression_lines = list(zip(m_values, b_values))\n",
    "regression_lines"
   ]
  },
  {
   "cell_type": "code",
   "execution_count": 10,
   "metadata": {},
   "outputs": [
    {
     "data": {
      "text/plain": [
       "[[1.417, 70, 26696.0],\n",
       " [1.417, 80, 23330.0],\n",
       " [1.417, 90, 20963.0],\n",
       " [1.417, 100, 19597.0],\n",
       " [1.417, 110, 19230.0],\n",
       " [1.417, 120, 19864.0],\n",
       " [1.417, 130, 21497.0],\n",
       " [1.417, 140, 24131.0]]"
      ]
     },
     "execution_count": 10,
     "metadata": {},
     "output_type": "execute_result"
    }
   ],
   "source": [
    "rss_lines = residual_sum_squares_errors(budgets, revenues, regression_lines)\n",
    "rss_lines"
   ]
  },
  {
   "cell_type": "markdown",
   "metadata": {},
   "source": [
    "| b        | residual sum of squares           | \n",
    "| ------------- |:-------------:| \n",
    "| 140| 24131\n",
    "| 130      |21497| \n",
    "| 120      |19864 | \n",
    "| 110      |19230| \n",
    "|100 | 19597\n",
    "|90 | 20963\n",
    "|80 | 23330\n",
    "|70| 26696"
   ]
  },
  {
   "cell_type": "markdown",
   "metadata": {},
   "source": [
    "Notice what the above chart represents.  While keeping our value of $m$ fixed at 1.417, we moved towards a smaller residual sum of squares (RSS) by changing our value of $b$, our y-intercept. \n",
    "\n",
    "Setting $b$ to 130 produced a lower error than at 140.  We kept moving our $b$ value lower until we set $b$ = 100, at which point our error began to increase.  Therefore, we know that a value of $b$ between 110 and 100 produces the smallest RSS for our data while $m = 1.417$. \n",
    "\n",
    "This changing output of RSS based on a changing input of different regression lines is called our **cost function**.  Let's plot this chart to see it better.\n",
    "\n",
    "We set:\n",
    "\n",
    "* `b_values` as the input values (x values), and\n",
    "* `rss_errors` as the output values (y values)"
   ]
  },
  {
   "cell_type": "code",
   "execution_count": 11,
   "metadata": {},
   "outputs": [],
   "source": [
    "b_values = list(range(70, 150, 10))\n",
    "\n",
    "# remember that each element in rss_lines has the m value, b value, and related rss error\n",
    "# rss_lines[0] => [1.417, 70, 26696.0]\n",
    "# so we collect the rss errors for each regression line  \n",
    "rss_errors = list(map(lambda line: line[-1], rss_lines))"
   ]
  },
  {
   "cell_type": "code",
   "execution_count": 12,
   "metadata": {},
   "outputs": [
    {
     "data": {
      "text/html": [
       "<script>requirejs.config({paths: { 'plotly': ['https://cdn.plot.ly/plotly-latest.min']},});if(!window.Plotly) {{require(['plotly'],function(plotly) {window.Plotly=plotly;});}}</script>"
      ],
      "text/vnd.plotly.v1+html": [
       "<script>requirejs.config({paths: { 'plotly': ['https://cdn.plot.ly/plotly-latest.min']},});if(!window.Plotly) {{require(['plotly'],function(plotly) {window.Plotly=plotly;});}}</script>"
      ]
     },
     "metadata": {},
     "output_type": "display_data"
    },
    {
     "data": {
      "application/vnd.plotly.v1+json": {
       "data": [
        {
         "mode": "lines",
         "name": "data",
         "text": [],
         "type": "scatter",
         "uid": "55806c4a-d3e6-11e9-aabf-3af9d3ad3e0b",
         "x": [
          70,
          80,
          90,
          100,
          110,
          120,
          130,
          140
         ],
         "y": [
          26696,
          23330,
          20963,
          19597,
          19230,
          19864,
          21497,
          24131
         ]
        }
       ],
       "layout": {}
      },
      "text/html": [
       "<div id=\"865c0b6f-2aa1-4fbc-a85b-ff01503d49a8\" style=\"height: 525px; width: 100%;\" class=\"plotly-graph-div\"></div><script type=\"text/javascript\">require([\"plotly\"], function(Plotly) { window.PLOTLYENV=window.PLOTLYENV || {};window.PLOTLYENV.BASE_URL=\"https://plot.ly\";Plotly.newPlot(\"865c0b6f-2aa1-4fbc-a85b-ff01503d49a8\", [{\"mode\": \"lines\", \"name\": \"data\", \"text\": [], \"x\": [70, 80, 90, 100, 110, 120, 130, 140], \"y\": [26696.0, 23330.0, 20963.0, 19597.0, 19230.0, 19864.0, 21497.0, 24131.0], \"type\": \"scatter\", \"uid\": \"5583ae82-d3e6-11e9-b1e0-3af9d3ad3e0b\"}], {}, {\"showLink\": true, \"linkText\": \"Export to plot.ly\"})});</script>"
      ],
      "text/vnd.plotly.v1+html": [
       "<div id=\"865c0b6f-2aa1-4fbc-a85b-ff01503d49a8\" style=\"height: 525px; width: 100%;\" class=\"plotly-graph-div\"></div><script type=\"text/javascript\">require([\"plotly\"], function(Plotly) { window.PLOTLYENV=window.PLOTLYENV || {};window.PLOTLYENV.BASE_URL=\"https://plot.ly\";Plotly.newPlot(\"865c0b6f-2aa1-4fbc-a85b-ff01503d49a8\", [{\"mode\": \"lines\", \"name\": \"data\", \"text\": [], \"x\": [70, 80, 90, 100, 110, 120, 130, 140], \"y\": [26696.0, 23330.0, 20963.0, 19597.0, 19230.0, 19864.0, 21497.0, 24131.0], \"type\": \"scatter\", \"uid\": \"5583ae82-d3e6-11e9-b1e0-3af9d3ad3e0b\"}], {}, {\"showLink\": true, \"linkText\": \"Export to plot.ly\"})});</script>"
      ]
     },
     "metadata": {},
     "output_type": "display_data"
    }
   ],
   "source": [
    "import plotly\n",
    "from plotly.offline import init_notebook_mode, iplot\n",
    "from graph import m_b_trace, trace_values, plot\n",
    "init_notebook_mode(connected=True)\n",
    "\n",
    "\n",
    "cost_curve_trace = trace_values(b_values, rss_errors, mode=\"lines\")\n",
    "plot([cost_curve_trace])"
   ]
  },
  {
   "cell_type": "markdown",
   "metadata": {},
   "source": [
    "The graph above is called the **cost curve**.  It is a plot of the RSS for different values of $b$.    The curve demonstrates that when $b$ is between 100 and 120, the RSS is lowest.  This technique of optimizing towards a minimum value is called *gradient descent*.  Here, we *descend* along a cost curve.  As we change our variable, we need to stop when the value of our RSS no longer decreases."
   ]
  },
  {
   "cell_type": "markdown",
   "metadata": {},
   "source": [
    "### Summary\n",
    "\n",
    "In this section we saw the path from going from calculating the RSS for a given regression line, to finding a line that minimizes our RSS - a best fit line.  We learned that we can move to a better regression line by descending along our cost curve.  Going forward, we will learn how to move towards our best fit line in an efficient manner. "
   ]
  }
 ],
 "metadata": {
  "kernelspec": {
   "display_name": "Python 3",
   "language": "python",
   "name": "python3"
  },
  "language_info": {
   "codemirror_mode": {
    "name": "ipython",
    "version": 3
   },
   "file_extension": ".py",
   "mimetype": "text/x-python",
   "name": "python",
   "nbconvert_exporter": "python",
   "pygments_lexer": "ipython3",
   "version": "3.6.9"
  }
 },
 "nbformat": 4,
 "nbformat_minor": 2
}
